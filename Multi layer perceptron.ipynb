{
 "cells": [
  {
   "cell_type": "code",
   "execution_count": 2,
   "metadata": {},
   "outputs": [],
   "source": [
    "import numpy as np\n",
    "import matplotlib.pyplot as plt\n",
    "import pandas as pd\n",
    "from sklearn.neural_network import MLPClassifier\n",
    "from sklearn.metrics import accuracy_score,confusion_matrix\n",
    "from sklearn.model_selection import train_test_split"
   ]
  },
  {
   "cell_type": "code",
   "execution_count": 5,
   "metadata": {},
   "outputs": [],
   "source": [
    "df=pd.read_csv(\"D:\\\\shru\\\\Sem 5\\\\ML\\\\files\\\\ccfraud.csv\")"
   ]
  },
  {
   "cell_type": "code",
   "execution_count": 6,
   "metadata": {},
   "outputs": [],
   "source": [
    "X=df.drop('Y',axis=1)"
   ]
  },
  {
   "cell_type": "code",
   "execution_count": 7,
   "metadata": {},
   "outputs": [],
   "source": [
    "#this or\n",
    "from sklearn import preprocessing\n",
    "minmax_scale = preprocessing.MinMaxScaler(feature_range=(0,1))\n",
    "scaled_feature=minmax_scale.fit_transform(X)"
   ]
  },
  {
   "cell_type": "code",
   "execution_count": 8,
   "metadata": {},
   "outputs": [
    {
     "data": {
      "text/html": [
       "<div>\n",
       "<style scoped>\n",
       "    .dataframe tbody tr th:only-of-type {\n",
       "        vertical-align: middle;\n",
       "    }\n",
       "\n",
       "    .dataframe tbody tr th {\n",
       "        vertical-align: top;\n",
       "    }\n",
       "\n",
       "    .dataframe thead th {\n",
       "        text-align: right;\n",
       "    }\n",
       "</style>\n",
       "<table border=\"1\" class=\"dataframe\">\n",
       "  <thead>\n",
       "    <tr style=\"text-align: right;\">\n",
       "      <th></th>\n",
       "      <th>Unnamed: 0</th>\n",
       "      <th>X1</th>\n",
       "      <th>X2</th>\n",
       "      <th>X3</th>\n",
       "      <th>X4</th>\n",
       "      <th>X5</th>\n",
       "      <th>X6</th>\n",
       "      <th>X7</th>\n",
       "      <th>X8</th>\n",
       "      <th>X9</th>\n",
       "      <th>...</th>\n",
       "      <th>X14</th>\n",
       "      <th>X15</th>\n",
       "      <th>X16</th>\n",
       "      <th>X17</th>\n",
       "      <th>X18</th>\n",
       "      <th>X19</th>\n",
       "      <th>X20</th>\n",
       "      <th>X21</th>\n",
       "      <th>X22</th>\n",
       "      <th>X23</th>\n",
       "    </tr>\n",
       "  </thead>\n",
       "  <tbody>\n",
       "    <tr>\n",
       "      <th>0</th>\n",
       "      <td>0.000048</td>\n",
       "      <td>0.969135</td>\n",
       "      <td>0.000097</td>\n",
       "      <td>0.000097</td>\n",
       "      <td>0.000048</td>\n",
       "      <td>0.001163</td>\n",
       "      <td>0.000097</td>\n",
       "      <td>0.000097</td>\n",
       "      <td>-0.000048</td>\n",
       "      <td>-0.000048</td>\n",
       "      <td>...</td>\n",
       "      <td>0.033387</td>\n",
       "      <td>0.000000</td>\n",
       "      <td>0.000000</td>\n",
       "      <td>0.000000</td>\n",
       "      <td>0.000000</td>\n",
       "      <td>0.033387</td>\n",
       "      <td>0.000000</td>\n",
       "      <td>0.000000</td>\n",
       "      <td>0.000000</td>\n",
       "      <td>0.000000</td>\n",
       "    </tr>\n",
       "    <tr>\n",
       "      <th>1</th>\n",
       "      <td>0.000017</td>\n",
       "      <td>0.998005</td>\n",
       "      <td>0.000017</td>\n",
       "      <td>0.000017</td>\n",
       "      <td>0.000017</td>\n",
       "      <td>0.000216</td>\n",
       "      <td>-0.000008</td>\n",
       "      <td>0.000017</td>\n",
       "      <td>0.000000</td>\n",
       "      <td>0.000000</td>\n",
       "      <td>...</td>\n",
       "      <td>0.022305</td>\n",
       "      <td>0.027212</td>\n",
       "      <td>0.028734</td>\n",
       "      <td>0.027121</td>\n",
       "      <td>0.000000</td>\n",
       "      <td>0.008317</td>\n",
       "      <td>0.008317</td>\n",
       "      <td>0.008317</td>\n",
       "      <td>0.000000</td>\n",
       "      <td>0.016633</td>\n",
       "    </tr>\n",
       "    <tr>\n",
       "      <th>2</th>\n",
       "      <td>0.000030</td>\n",
       "      <td>0.898265</td>\n",
       "      <td>0.000020</td>\n",
       "      <td>0.000020</td>\n",
       "      <td>0.000020</td>\n",
       "      <td>0.000339</td>\n",
       "      <td>0.000000</td>\n",
       "      <td>0.000000</td>\n",
       "      <td>0.000000</td>\n",
       "      <td>0.000000</td>\n",
       "      <td>...</td>\n",
       "      <td>0.135329</td>\n",
       "      <td>0.143034</td>\n",
       "      <td>0.149192</td>\n",
       "      <td>0.155190</td>\n",
       "      <td>0.015151</td>\n",
       "      <td>0.014971</td>\n",
       "      <td>0.009981</td>\n",
       "      <td>0.009981</td>\n",
       "      <td>0.009981</td>\n",
       "      <td>0.049904</td>\n",
       "    </tr>\n",
       "    <tr>\n",
       "      <th>3</th>\n",
       "      <td>0.000037</td>\n",
       "      <td>0.456620</td>\n",
       "      <td>0.000018</td>\n",
       "      <td>0.000018</td>\n",
       "      <td>0.000009</td>\n",
       "      <td>0.000338</td>\n",
       "      <td>0.000000</td>\n",
       "      <td>0.000000</td>\n",
       "      <td>0.000000</td>\n",
       "      <td>0.000000</td>\n",
       "      <td>...</td>\n",
       "      <td>0.450145</td>\n",
       "      <td>0.258575</td>\n",
       "      <td>0.264465</td>\n",
       "      <td>0.269835</td>\n",
       "      <td>0.018265</td>\n",
       "      <td>0.018438</td>\n",
       "      <td>0.010959</td>\n",
       "      <td>0.010046</td>\n",
       "      <td>0.009763</td>\n",
       "      <td>0.009132</td>\n",
       "    </tr>\n",
       "    <tr>\n",
       "      <th>4</th>\n",
       "      <td>0.000062</td>\n",
       "      <td>0.615783</td>\n",
       "      <td>0.000012</td>\n",
       "      <td>0.000025</td>\n",
       "      <td>0.000012</td>\n",
       "      <td>0.000702</td>\n",
       "      <td>-0.000012</td>\n",
       "      <td>0.000000</td>\n",
       "      <td>-0.000012</td>\n",
       "      <td>0.000000</td>\n",
       "      <td>...</td>\n",
       "      <td>0.441331</td>\n",
       "      <td>0.257890</td>\n",
       "      <td>0.235795</td>\n",
       "      <td>0.235611</td>\n",
       "      <td>0.024631</td>\n",
       "      <td>0.451750</td>\n",
       "      <td>0.123157</td>\n",
       "      <td>0.110841</td>\n",
       "      <td>0.008485</td>\n",
       "      <td>0.008362</td>\n",
       "    </tr>\n",
       "  </tbody>\n",
       "</table>\n",
       "<p>5 rows × 24 columns</p>\n",
       "</div>"
      ],
      "text/plain": [
       "   Unnamed: 0        X1        X2        X3        X4        X5        X6  \\\n",
       "0    0.000048  0.969135  0.000097  0.000097  0.000048  0.001163  0.000097   \n",
       "1    0.000017  0.998005  0.000017  0.000017  0.000017  0.000216 -0.000008   \n",
       "2    0.000030  0.898265  0.000020  0.000020  0.000020  0.000339  0.000000   \n",
       "3    0.000037  0.456620  0.000018  0.000018  0.000009  0.000338  0.000000   \n",
       "4    0.000062  0.615783  0.000012  0.000025  0.000012  0.000702 -0.000012   \n",
       "\n",
       "         X7        X8        X9  ...       X14       X15       X16       X17  \\\n",
       "0  0.000097 -0.000048 -0.000048  ...  0.033387  0.000000  0.000000  0.000000   \n",
       "1  0.000017  0.000000  0.000000  ...  0.022305  0.027212  0.028734  0.027121   \n",
       "2  0.000000  0.000000  0.000000  ...  0.135329  0.143034  0.149192  0.155190   \n",
       "3  0.000000  0.000000  0.000000  ...  0.450145  0.258575  0.264465  0.269835   \n",
       "4  0.000000 -0.000012  0.000000  ...  0.441331  0.257890  0.235795  0.235611   \n",
       "\n",
       "        X18       X19       X20       X21       X22       X23  \n",
       "0  0.000000  0.033387  0.000000  0.000000  0.000000  0.000000  \n",
       "1  0.000000  0.008317  0.008317  0.008317  0.000000  0.016633  \n",
       "2  0.015151  0.014971  0.009981  0.009981  0.009981  0.049904  \n",
       "3  0.018265  0.018438  0.010959  0.010046  0.009763  0.009132  \n",
       "4  0.024631  0.451750  0.123157  0.110841  0.008485  0.008362  \n",
       "\n",
       "[5 rows x 24 columns]"
      ]
     },
     "execution_count": 8,
     "metadata": {},
     "output_type": "execute_result"
    }
   ],
   "source": [
    "#this\n",
    "from sklearn.preprocessing import normalize\n",
    "data_scaled = normalize(X)\n",
    "data_scaled = pd.DataFrame(data_scaled,columns=X.columns)\n",
    "data_scaled.head()"
   ]
  },
  {
   "cell_type": "code",
   "execution_count": 13,
   "metadata": {},
   "outputs": [],
   "source": [
    "df=df.drop(['Unnamed: 0'],axis=1)"
   ]
  },
  {
   "cell_type": "code",
   "execution_count": 14,
   "metadata": {},
   "outputs": [],
   "source": [
    "Y=df.Y"
   ]
  },
  {
   "cell_type": "code",
   "execution_count": 15,
   "metadata": {},
   "outputs": [],
   "source": [
    "X_train,X_test,y_train,y_test = train_test_split(scaled_feature,Y,test_size=0.3,random_state=0)"
   ]
  },
  {
   "cell_type": "code",
   "execution_count": 19,
   "metadata": {},
   "outputs": [],
   "source": [
    "clf=MLPClassifier(hidden_layer_sizes=(10,10,10),max_iter=24,\n",
    "                 solver='adam',verbose=1,random_state=21)"
   ]
  },
  {
   "cell_type": "code",
   "execution_count": 20,
   "metadata": {},
   "outputs": [
    {
     "name": "stdout",
     "output_type": "stream",
     "text": [
      "Iteration 1, loss = 0.63635648\n",
      "Iteration 2, loss = 0.52486522\n",
      "Iteration 3, loss = 0.48952683\n",
      "Iteration 4, loss = 0.47466896\n",
      "Iteration 5, loss = 0.46831944\n",
      "Iteration 6, loss = 0.46465095\n",
      "Iteration 7, loss = 0.46142195\n",
      "Iteration 8, loss = 0.45920852\n",
      "Iteration 9, loss = 0.45727001\n",
      "Iteration 10, loss = 0.45602350\n",
      "Iteration 11, loss = 0.45471555\n",
      "Iteration 12, loss = 0.45401232\n",
      "Iteration 13, loss = 0.45306618\n",
      "Iteration 14, loss = 0.45259595\n",
      "Iteration 15, loss = 0.45169316\n",
      "Iteration 16, loss = 0.45134255\n",
      "Iteration 17, loss = 0.45064506\n",
      "Iteration 18, loss = 0.44994232\n",
      "Iteration 19, loss = 0.44978654\n",
      "Iteration 20, loss = 0.44913869\n",
      "Iteration 21, loss = 0.44872295\n",
      "Iteration 22, loss = 0.44861149\n",
      "Iteration 23, loss = 0.44775249\n",
      "Iteration 24, loss = 0.44746698\n"
     ]
    },
    {
     "name": "stderr",
     "output_type": "stream",
     "text": [
      "C:\\Users\\91913\\Anaconda\\lib\\site-packages\\sklearn\\neural_network\\_multilayer_perceptron.py:582: ConvergenceWarning: Stochastic Optimizer: Maximum iterations (24) reached and the optimization hasn't converged yet.\n",
      "  warnings.warn(\n"
     ]
    },
    {
     "data": {
      "text/plain": [
       "MLPClassifier(hidden_layer_sizes=(10, 10, 10), max_iter=24, random_state=21,\n",
       "              verbose=1)"
      ]
     },
     "execution_count": 20,
     "metadata": {},
     "output_type": "execute_result"
    }
   ],
   "source": [
    "clf.fit(X_train,y_train)"
   ]
  },
  {
   "cell_type": "code",
   "execution_count": 22,
   "metadata": {},
   "outputs": [],
   "source": [
    "y_pred=clf.predict(X_test)"
   ]
  },
  {
   "cell_type": "code",
   "execution_count": 24,
   "metadata": {},
   "outputs": [
    {
     "data": {
      "text/plain": [
       "0.822"
      ]
     },
     "execution_count": 24,
     "metadata": {},
     "output_type": "execute_result"
    }
   ],
   "source": [
    "accuracy_score(y_test,y_pred)"
   ]
  },
  {
   "cell_type": "code",
   "execution_count": 26,
   "metadata": {},
   "outputs": [
    {
     "data": {
      "text/plain": [
       "array([[6679,  381],\n",
       "       [1221,  719]], dtype=int64)"
      ]
     },
     "execution_count": 26,
     "metadata": {},
     "output_type": "execute_result"
    }
   ],
   "source": [
    "cm=confusion_matrix(y_test,y_pred)\n",
    "cm"
   ]
  },
  {
   "cell_type": "code",
   "execution_count": 27,
   "metadata": {},
   "outputs": [
    {
     "data": {
      "image/png": "[encoded data removed]",
      "text/plain": [
       "<Figure size 432x288 with 2 Axes>"
      ]
     },
     "metadata": {
      "needs_background": "light"
     },
     "output_type": "display_data"
    }
   ],
   "source": [
    "%matplotlib inline\n",
    "import seaborn as sns\n",
    "sns.heatmap(cm,center=True)\n",
    "plt.show()"
   ]
  },
  {
   "cell_type": "code",
   "execution_count": null,
   "metadata": {},
   "outputs": [],
   "source": []
  }
 ],
 "metadata": {
  "kernelspec": {
   "display_name": "Python 3",
   "language": "python",
   "name": "python3"
  },
  "language_info": {
   "codemirror_mode": {
    "name": "ipython",
    "version": 3
   },
   "file_extension": ".py",
   "mimetype": "text/x-python",
   "name": "python",
   "nbconvert_exporter": "python",
   "pygments_lexer": "ipython3",
   "version": "3.8.3"
  }
 },
 "nbformat": 4,
 "nbformat_minor": 4
}
