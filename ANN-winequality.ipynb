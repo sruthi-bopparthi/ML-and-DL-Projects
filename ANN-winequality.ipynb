{
 "cells": [
  {
   "cell_type": "code",
   "execution_count": 1,
   "metadata": {},
   "outputs": [],
   "source": [
    "import pandas as pd\n",
    "import numpy as np\n",
    "import matplotlib.pyplot as plt\n",
    "import keras\n",
    "from keras.datasets import mnist\n",
    "from keras.models import Sequential,model_from_json\n",
    "from keras.layers import Dense\n",
    "from keras.optimizers import RMSprop\n",
    "import pylab as plt\n",
    "from sklearn.model_selection import train_test_split"
   ]
  },
  {
   "cell_type": "code",
   "execution_count": 2,
   "metadata": {},
   "outputs": [],
   "source": [
    "df=pd.read_csv(\"D:\\\\shru\\\\Sem 5\\\\ML\\\\files\\\\winequality.csv\")"
   ]
  },
  {
   "cell_type": "code",
   "execution_count": 3,
   "metadata": {},
   "outputs": [
    {
     "data": {
      "text/html": [
       "<div>\n",
       "<style scoped>\n",
       "    .dataframe tbody tr th:only-of-type {\n",
       "        vertical-align: middle;\n",
       "    }\n",
       "\n",
       "    .dataframe tbody tr th {\n",
       "        vertical-align: top;\n",
       "    }\n",
       "\n",
       "    .dataframe thead th {\n",
       "        text-align: right;\n",
       "    }\n",
       "</style>\n",
       "<table border=\"1\" class=\"dataframe\">\n",
       "  <thead>\n",
       "    <tr style=\"text-align: right;\">\n",
       "      <th></th>\n",
       "      <th>fixed acidity</th>\n",
       "      <th>volatile acidity</th>\n",
       "      <th>citric acid</th>\n",
       "      <th>residual sugar</th>\n",
       "      <th>chlorides</th>\n",
       "      <th>free sulfur dioxide</th>\n",
       "      <th>total sulfur dioxide</th>\n",
       "      <th>density</th>\n",
       "      <th>pH</th>\n",
       "      <th>sulphates</th>\n",
       "      <th>alcohol</th>\n",
       "      <th>quality</th>\n",
       "    </tr>\n",
       "  </thead>\n",
       "  <tbody>\n",
       "    <tr>\n",
       "      <th>0</th>\n",
       "      <td>7.4</td>\n",
       "      <td>0.70</td>\n",
       "      <td>0.00</td>\n",
       "      <td>1.9</td>\n",
       "      <td>0.076</td>\n",
       "      <td>11.0</td>\n",
       "      <td>34.0</td>\n",
       "      <td>0.9978</td>\n",
       "      <td>3.51</td>\n",
       "      <td>0.56</td>\n",
       "      <td>9.4</td>\n",
       "      <td>5</td>\n",
       "    </tr>\n",
       "    <tr>\n",
       "      <th>1</th>\n",
       "      <td>7.8</td>\n",
       "      <td>0.88</td>\n",
       "      <td>0.00</td>\n",
       "      <td>2.6</td>\n",
       "      <td>0.098</td>\n",
       "      <td>25.0</td>\n",
       "      <td>67.0</td>\n",
       "      <td>0.9968</td>\n",
       "      <td>3.20</td>\n",
       "      <td>0.68</td>\n",
       "      <td>9.8</td>\n",
       "      <td>5</td>\n",
       "    </tr>\n",
       "    <tr>\n",
       "      <th>2</th>\n",
       "      <td>7.8</td>\n",
       "      <td>0.76</td>\n",
       "      <td>0.04</td>\n",
       "      <td>2.3</td>\n",
       "      <td>0.092</td>\n",
       "      <td>15.0</td>\n",
       "      <td>54.0</td>\n",
       "      <td>0.9970</td>\n",
       "      <td>3.26</td>\n",
       "      <td>0.65</td>\n",
       "      <td>9.8</td>\n",
       "      <td>5</td>\n",
       "    </tr>\n",
       "    <tr>\n",
       "      <th>3</th>\n",
       "      <td>11.2</td>\n",
       "      <td>0.28</td>\n",
       "      <td>0.56</td>\n",
       "      <td>1.9</td>\n",
       "      <td>0.075</td>\n",
       "      <td>17.0</td>\n",
       "      <td>60.0</td>\n",
       "      <td>0.9980</td>\n",
       "      <td>3.16</td>\n",
       "      <td>0.58</td>\n",
       "      <td>9.8</td>\n",
       "      <td>6</td>\n",
       "    </tr>\n",
       "    <tr>\n",
       "      <th>4</th>\n",
       "      <td>7.4</td>\n",
       "      <td>0.70</td>\n",
       "      <td>0.00</td>\n",
       "      <td>1.9</td>\n",
       "      <td>0.076</td>\n",
       "      <td>11.0</td>\n",
       "      <td>34.0</td>\n",
       "      <td>0.9978</td>\n",
       "      <td>3.51</td>\n",
       "      <td>0.56</td>\n",
       "      <td>9.4</td>\n",
       "      <td>5</td>\n",
       "    </tr>\n",
       "  </tbody>\n",
       "</table>\n",
       "</div>"
      ],
      "text/plain": [
       "   fixed acidity  volatile acidity  citric acid  residual sugar  chlorides  \\\n",
       "0            7.4              0.70         0.00             1.9      0.076   \n",
       "1            7.8              0.88         0.00             2.6      0.098   \n",
       "2            7.8              0.76         0.04             2.3      0.092   \n",
       "3           11.2              0.28         0.56             1.9      0.075   \n",
       "4            7.4              0.70         0.00             1.9      0.076   \n",
       "\n",
       "   free sulfur dioxide  total sulfur dioxide  density    pH  sulphates  \\\n",
       "0                 11.0                  34.0   0.9978  3.51       0.56   \n",
       "1                 25.0                  67.0   0.9968  3.20       0.68   \n",
       "2                 15.0                  54.0   0.9970  3.26       0.65   \n",
       "3                 17.0                  60.0   0.9980  3.16       0.58   \n",
       "4                 11.0                  34.0   0.9978  3.51       0.56   \n",
       "\n",
       "   alcohol  quality  \n",
       "0      9.4        5  \n",
       "1      9.8        5  \n",
       "2      9.8        5  \n",
       "3      9.8        6  \n",
       "4      9.4        5  "
      ]
     },
     "execution_count": 3,
     "metadata": {},
     "output_type": "execute_result"
    }
   ],
   "source": [
    "df.head()"
   ]
  },
  {
   "cell_type": "code",
   "execution_count": 4,
   "metadata": {},
   "outputs": [],
   "source": [
    "X = df.iloc[:, :-1].values\n",
    "Y = df.iloc[:, -1].values"
   ]
  },
  {
   "cell_type": "code",
   "execution_count": 5,
   "metadata": {},
   "outputs": [
    {
     "data": {
      "text/plain": [
       "array([[ 7.4  ,  0.7  ,  0.   , ...,  3.51 ,  0.56 ,  9.4  ],\n",
       "       [ 7.8  ,  0.88 ,  0.   , ...,  3.2  ,  0.68 ,  9.8  ],\n",
       "       [ 7.8  ,  0.76 ,  0.04 , ...,  3.26 ,  0.65 ,  9.8  ],\n",
       "       ...,\n",
       "       [ 6.3  ,  0.51 ,  0.13 , ...,  3.42 ,  0.75 , 11.   ],\n",
       "       [ 5.9  ,  0.645,  0.12 , ...,  3.57 ,  0.71 , 10.2  ],\n",
       "       [ 6.   ,  0.31 ,  0.47 , ...,  3.39 ,  0.66 , 11.   ]])"
      ]
     },
     "execution_count": 5,
     "metadata": {},
     "output_type": "execute_result"
    }
   ],
   "source": [
    "X"
   ]
  },
  {
   "cell_type": "code",
   "execution_count": 6,
   "metadata": {},
   "outputs": [
    {
     "data": {
      "text/plain": [
       "array([5, 5, 5, ..., 6, 5, 6], dtype=int64)"
      ]
     },
     "execution_count": 6,
     "metadata": {},
     "output_type": "execute_result"
    }
   ],
   "source": [
    "Y"
   ]
  },
  {
   "cell_type": "code",
   "execution_count": 7,
   "metadata": {},
   "outputs": [],
   "source": [
    "Y = np.where(Y > 5, 1, 0)"
   ]
  },
  {
   "cell_type": "code",
   "execution_count": 8,
   "metadata": {},
   "outputs": [],
   "source": [
    "X_train, X_test, Y_train, Y_test = train_test_split(X, Y, test_size = 0.30, random_state = 42)"
   ]
  },
  {
   "cell_type": "code",
   "execution_count": 9,
   "metadata": {},
   "outputs": [
    {
     "name": "stdout",
     "output_type": "stream",
     "text": [
      "(1119, 11)\n"
     ]
    }
   ],
   "source": [
    "print(X_train.shape)"
   ]
  },
  {
   "cell_type": "code",
   "execution_count": 10,
   "metadata": {},
   "outputs": [
    {
     "name": "stdout",
     "output_type": "stream",
     "text": [
      "Model: \"sequential\"\n",
      "_________________________________________________________________\n",
      "Layer (type)                 Output Shape              Param #   \n",
      "=================================================================\n",
      "dense (Dense)                (None, None, 64)          768       \n",
      "_________________________________________________________________\n",
      "dense_1 (Dense)              (None, None, 128)         8320      \n",
      "_________________________________________________________________\n",
      "dense_2 (Dense)              (None, None, 256)         33024     \n",
      "_________________________________________________________________\n",
      "dense_3 (Dense)              (None, None, 1)           257       \n",
      "=================================================================\n",
      "Total params: 42,369\n",
      "Trainable params: 42,369\n",
      "Non-trainable params: 0\n",
      "_________________________________________________________________\n"
     ]
    }
   ],
   "source": [
    "#creating NN\n",
    "first_layer_size = 32 \n",
    "model = keras.models.Sequential()\n",
    "model.add(keras.layers.Dense(64,activation='relu',input_shape=(None, 11)))\n",
    "model.add(keras.layers.Dense(128,activation='relu'))\n",
    "model.add(keras.layers.Dense(256,activation='relu'))\n",
    "model.add(keras.layers.Dense(1,activation='sigmoid'))\n",
    "\n",
    "model.summary()"
   ]
  },
  {
   "cell_type": "code",
   "execution_count": 15,
   "metadata": {},
   "outputs": [],
   "source": [
    "#to build model\n",
    "#loss functions\n",
    "#if one class then binary_crossentropy, if multiclass then categorical_crossentropy\n",
    "model.compile(loss='binary_crossentropy',\n",
    "             optimizer='adam',\n",
    "             metrics=['accuracy'])"
   ]
  },
  {
   "cell_type": "code",
   "execution_count": 28,
   "metadata": {},
   "outputs": [
    {
     "name": "stdout",
     "output_type": "stream",
     "text": [
      "Epoch 1/100\n",
      "35/35 - 0s - loss: 0.4927 - accuracy: 0.7542\n",
      "Epoch 2/100\n",
      "35/35 - 0s - loss: 0.4850 - accuracy: 0.7516\n",
      "Epoch 3/100\n",
      "35/35 - 0s - loss: 0.4807 - accuracy: 0.7560\n",
      "Epoch 4/100\n",
      "35/35 - 0s - loss: 0.4752 - accuracy: 0.7712\n",
      "Epoch 5/100\n",
      "35/35 - 0s - loss: 0.4813 - accuracy: 0.7605\n",
      "Epoch 6/100\n",
      "35/35 - 0s - loss: 0.4775 - accuracy: 0.7578\n",
      "Epoch 7/100\n",
      "35/35 - 0s - loss: 0.4818 - accuracy: 0.7587\n",
      "Epoch 8/100\n",
      "35/35 - 0s - loss: 0.4782 - accuracy: 0.7605\n",
      "Epoch 9/100\n",
      "35/35 - 0s - loss: 0.4906 - accuracy: 0.7480\n",
      "Epoch 10/100\n",
      "35/35 - 0s - loss: 0.4738 - accuracy: 0.7703\n",
      "Epoch 11/100\n",
      "35/35 - 0s - loss: 0.4779 - accuracy: 0.7632\n",
      "Epoch 12/100\n",
      "35/35 - 0s - loss: 0.4935 - accuracy: 0.7569\n",
      "Epoch 13/100\n",
      "35/35 - 0s - loss: 0.4792 - accuracy: 0.7623\n",
      "Epoch 14/100\n",
      "35/35 - 0s - loss: 0.4654 - accuracy: 0.7659\n",
      "Epoch 15/100\n",
      "35/35 - 0s - loss: 0.4687 - accuracy: 0.7739\n",
      "Epoch 16/100\n",
      "35/35 - 0s - loss: 0.4696 - accuracy: 0.7757\n",
      "Epoch 17/100\n",
      "35/35 - 0s - loss: 0.4596 - accuracy: 0.7748\n",
      "Epoch 18/100\n",
      "35/35 - 0s - loss: 0.4829 - accuracy: 0.7614\n",
      "Epoch 19/100\n",
      "35/35 - 0s - loss: 0.4593 - accuracy: 0.7685\n",
      "Epoch 20/100\n",
      "35/35 - 0s - loss: 0.4578 - accuracy: 0.7730\n",
      "Epoch 21/100\n",
      "35/35 - 0s - loss: 0.4538 - accuracy: 0.7757\n",
      "Epoch 22/100\n",
      "35/35 - 0s - loss: 0.4476 - accuracy: 0.7873\n",
      "Epoch 23/100\n",
      "35/35 - 0s - loss: 0.4586 - accuracy: 0.7748\n",
      "Epoch 24/100\n",
      "35/35 - 0s - loss: 0.4690 - accuracy: 0.7739\n",
      "Epoch 25/100\n",
      "35/35 - 0s - loss: 0.4643 - accuracy: 0.7775\n",
      "Epoch 26/100\n",
      "35/35 - 0s - loss: 0.4520 - accuracy: 0.7748\n",
      "Epoch 27/100\n",
      "35/35 - 0s - loss: 0.4817 - accuracy: 0.7641\n",
      "Epoch 28/100\n",
      "35/35 - 0s - loss: 0.4566 - accuracy: 0.7855\n",
      "Epoch 29/100\n",
      "35/35 - 0s - loss: 0.4563 - accuracy: 0.7632\n",
      "Epoch 30/100\n",
      "35/35 - 0s - loss: 0.4643 - accuracy: 0.7668\n",
      "Epoch 31/100\n",
      "35/35 - 0s - loss: 0.4572 - accuracy: 0.7793\n",
      "Epoch 32/100\n",
      "35/35 - 0s - loss: 0.4495 - accuracy: 0.7748\n",
      "Epoch 33/100\n",
      "35/35 - 0s - loss: 0.4606 - accuracy: 0.7623\n",
      "Epoch 34/100\n",
      "35/35 - 0s - loss: 0.4486 - accuracy: 0.7766\n",
      "Epoch 35/100\n",
      "35/35 - 0s - loss: 0.4532 - accuracy: 0.7775\n",
      "Epoch 36/100\n",
      "35/35 - 0s - loss: 0.4619 - accuracy: 0.7676\n",
      "Epoch 37/100\n",
      "35/35 - 0s - loss: 0.4469 - accuracy: 0.7739\n",
      "Epoch 38/100\n",
      "35/35 - 0s - loss: 0.4563 - accuracy: 0.7748\n",
      "Epoch 39/100\n",
      "35/35 - 0s - loss: 0.4355 - accuracy: 0.7864\n",
      "Epoch 40/100\n",
      "35/35 - 0s - loss: 0.4309 - accuracy: 0.7811\n",
      "Epoch 41/100\n",
      "35/35 - 0s - loss: 0.4382 - accuracy: 0.7775\n",
      "Epoch 42/100\n",
      "35/35 - 0s - loss: 0.4410 - accuracy: 0.7864\n",
      "Epoch 43/100\n",
      "35/35 - 0s - loss: 0.4360 - accuracy: 0.7864\n",
      "Epoch 44/100\n",
      "35/35 - 0s - loss: 0.4579 - accuracy: 0.7587\n",
      "Epoch 45/100\n",
      "35/35 - 0s - loss: 0.4417 - accuracy: 0.7882\n",
      "Epoch 46/100\n",
      "35/35 - 0s - loss: 0.4374 - accuracy: 0.7918\n",
      "Epoch 47/100\n",
      "35/35 - 0s - loss: 0.4405 - accuracy: 0.7980\n",
      "Epoch 48/100\n",
      "35/35 - 0s - loss: 0.4225 - accuracy: 0.7971\n",
      "Epoch 49/100\n",
      "35/35 - 0s - loss: 0.4216 - accuracy: 0.7936\n",
      "Epoch 50/100\n",
      "35/35 - 0s - loss: 0.4451 - accuracy: 0.7811\n",
      "Epoch 51/100\n",
      "35/35 - 0s - loss: 0.4338 - accuracy: 0.7837\n",
      "Epoch 52/100\n",
      "35/35 - 0s - loss: 0.4298 - accuracy: 0.7864\n",
      "Epoch 53/100\n",
      "35/35 - 0s - loss: 0.4147 - accuracy: 0.7918\n",
      "Epoch 54/100\n",
      "35/35 - 0s - loss: 0.4200 - accuracy: 0.7918\n",
      "Epoch 55/100\n",
      "35/35 - 0s - loss: 0.4424 - accuracy: 0.7927\n",
      "Epoch 56/100\n",
      "35/35 - 0s - loss: 0.4461 - accuracy: 0.7703\n",
      "Epoch 57/100\n",
      "35/35 - 0s - loss: 0.4138 - accuracy: 0.7980\n",
      "Epoch 58/100\n",
      "35/35 - 0s - loss: 0.4085 - accuracy: 0.8034\n",
      "Epoch 59/100\n",
      "35/35 - 0s - loss: 0.4040 - accuracy: 0.8123\n",
      "Epoch 60/100\n",
      "35/35 - 0s - loss: 0.4619 - accuracy: 0.7721\n",
      "Epoch 61/100\n",
      "35/35 - 0s - loss: 0.4393 - accuracy: 0.7784\n",
      "Epoch 62/100\n",
      "35/35 - 0s - loss: 0.4478 - accuracy: 0.7819\n",
      "Epoch 63/100\n",
      "35/35 - 0s - loss: 0.4263 - accuracy: 0.7962\n",
      "Epoch 64/100\n",
      "35/35 - 0s - loss: 0.4346 - accuracy: 0.7855\n",
      "Epoch 65/100\n",
      "35/35 - 0s - loss: 0.4152 - accuracy: 0.7980\n",
      "Epoch 66/100\n",
      "35/35 - 0s - loss: 0.4115 - accuracy: 0.7962\n",
      "Epoch 67/100\n",
      "35/35 - 0s - loss: 0.4074 - accuracy: 0.7998\n",
      "Epoch 68/100\n",
      "35/35 - 0s - loss: 0.4246 - accuracy: 0.7918\n",
      "Epoch 69/100\n",
      "35/35 - 0s - loss: 0.3976 - accuracy: 0.8159\n",
      "Epoch 70/100\n",
      "35/35 - 0s - loss: 0.4131 - accuracy: 0.8025\n",
      "Epoch 71/100\n",
      "35/35 - 0s - loss: 0.4204 - accuracy: 0.7900\n",
      "Epoch 72/100\n",
      "35/35 - 0s - loss: 0.4088 - accuracy: 0.8007\n",
      "Epoch 73/100\n",
      "35/35 - 0s - loss: 0.3962 - accuracy: 0.8097\n",
      "Epoch 74/100\n",
      "35/35 - 0s - loss: 0.4031 - accuracy: 0.7918\n",
      "Epoch 75/100\n",
      "35/35 - 0s - loss: 0.4088 - accuracy: 0.7927\n",
      "Epoch 76/100\n",
      "35/35 - 0s - loss: 0.3954 - accuracy: 0.8079\n",
      "Epoch 77/100\n",
      "35/35 - 0s - loss: 0.3932 - accuracy: 0.8114\n",
      "Epoch 78/100\n",
      "35/35 - 0s - loss: 0.4035 - accuracy: 0.8132\n",
      "Epoch 79/100\n",
      "35/35 - 0s - loss: 0.3938 - accuracy: 0.8159\n",
      "Epoch 80/100\n",
      "35/35 - 0s - loss: 0.3959 - accuracy: 0.8079\n",
      "Epoch 81/100\n",
      "35/35 - 0s - loss: 0.4084 - accuracy: 0.8016\n",
      "Epoch 82/100\n",
      "35/35 - 0s - loss: 0.3951 - accuracy: 0.8070\n",
      "Epoch 83/100\n",
      "35/35 - 0s - loss: 0.3829 - accuracy: 0.8239\n",
      "Epoch 84/100\n",
      "35/35 - 0s - loss: 0.4172 - accuracy: 0.7954\n",
      "Epoch 85/100\n",
      "35/35 - 0s - loss: 0.3881 - accuracy: 0.8186\n",
      "Epoch 86/100\n",
      "35/35 - 0s - loss: 0.3950 - accuracy: 0.8114\n",
      "Epoch 87/100\n",
      "35/35 - 0s - loss: 0.3866 - accuracy: 0.8150\n",
      "Epoch 88/100\n",
      "35/35 - 0s - loss: 0.3919 - accuracy: 0.8034\n",
      "Epoch 89/100\n",
      "35/35 - 0s - loss: 0.3821 - accuracy: 0.8177\n",
      "Epoch 90/100\n",
      "35/35 - 0s - loss: 0.3809 - accuracy: 0.8186\n",
      "Epoch 91/100\n",
      "35/35 - 0s - loss: 0.4057 - accuracy: 0.8105\n",
      "Epoch 92/100\n",
      "35/35 - 0s - loss: 0.3917 - accuracy: 0.8123\n",
      "Epoch 93/100\n",
      "35/35 - 0s - loss: 0.3936 - accuracy: 0.8025\n",
      "Epoch 94/100\n",
      "35/35 - 0s - loss: 0.3949 - accuracy: 0.8061\n",
      "Epoch 95/100\n",
      "35/35 - 0s - loss: 0.3722 - accuracy: 0.8257\n",
      "Epoch 96/100\n",
      "35/35 - 0s - loss: 0.3747 - accuracy: 0.8186\n",
      "Epoch 97/100\n",
      "35/35 - 0s - loss: 0.3933 - accuracy: 0.8043\n",
      "Epoch 98/100\n",
      "35/35 - 0s - loss: 0.3640 - accuracy: 0.8266\n",
      "Epoch 99/100\n",
      "35/35 - 0s - loss: 0.3845 - accuracy: 0.8231\n",
      "Epoch 100/100\n",
      "35/35 - 0s - loss: 0.3635 - accuracy: 0.8248\n"
     ]
    }
   ],
   "source": [
    "#Write the train input and output variables,size of the batch, number of epochs\n",
    "history = model.fit(X_train,Y_train.reshape(-1, 1),\n",
    "                    epochs= 100,\n",
    "                    verbose=2)"
   ]
  },
  {
   "cell_type": "code",
   "execution_count": 29,
   "metadata": {},
   "outputs": [
    {
     "data": {
      "image/png": "[encoded data removed]",
      "text/plain": [
       "<Figure size 432x288 with 1 Axes>"
      ]
     },
     "metadata": {
      "needs_background": "light"
     },
     "output_type": "display_data"
    }
   ],
   "source": [
    "plt.plot(history.history['loss'])\n",
    "#plt.plot(history.history['val_loss'],'g')\n",
    "plt.title('Model Loss')\n",
    "plt.ylabel('loss')\n",
    "plt.xlabel('epoch')\n",
    "plt.legend(['train','validation'],loc='upper right')\n",
    "plt.show()"
   ]
  },
  {
   "cell_type": "code",
   "execution_count": 30,
   "metadata": {},
   "outputs": [
    {
     "data": {
      "image/png": "[encoded data removed]",
      "text/plain": [
       "<Figure size 432x288 with 1 Axes>"
      ]
     },
     "metadata": {
      "needs_background": "light"
     },
     "output_type": "display_data"
    }
   ],
   "source": [
    "plt.plot(history.history['accuracy'],'b')\n",
    "#plt.plot(history.history['val_acc'],'g')\n",
    "plt.title('Model Accuracy')\n",
    "plt.ylabel('Accuracy')\n",
    "plt.xlabel('epoch')\n",
    "plt.legend(['train','validation'],loc='lower right')\n",
    "plt.show()"
   ]
  },
  {
   "cell_type": "code",
   "execution_count": 31,
   "metadata": {},
   "outputs": [
    {
     "name": "stdout",
     "output_type": "stream",
     "text": [
      "WARNING:tensorflow:Model was constructed with shape (None, None, 11) for input Tensor(\"dense_input:0\", shape=(None, None, 11), dtype=float32), but it was called on an input with incompatible shape (32, 11).\n",
      "Test loss: 0.6938285231590271\n",
      "Test accuracy: 0.7145833373069763\n"
     ]
    }
   ],
   "source": [
    "#write the tesing input and output variables\n",
    "score=model.evaluate(X_test,Y_test,verbose=0)\n",
    "print('Test loss:',score[0])\n",
    "print('Test accuracy:',score[1])"
   ]
  },
  {
   "cell_type": "code",
   "execution_count": 32,
   "metadata": {},
   "outputs": [],
   "source": [
    "y_pred = model.predict(X_test)"
   ]
  },
  {
   "cell_type": "code",
   "execution_count": 33,
   "metadata": {},
   "outputs": [],
   "source": [
    "y_pred = y_pred > 0.6"
   ]
  },
  {
   "cell_type": "code",
   "execution_count": 34,
   "metadata": {},
   "outputs": [],
   "source": [
    "y_pred = np.where(y_pred == max(y_pred), 1, 0)"
   ]
  },
  {
   "cell_type": "code",
   "execution_count": 35,
   "metadata": {},
   "outputs": [],
   "source": [
    "Y_test = Y_test.reshape(-1, 1)"
   ]
  },
  {
   "cell_type": "code",
   "execution_count": 36,
   "metadata": {},
   "outputs": [
    {
     "name": "stdout",
     "output_type": "stream",
     "text": [
      "0.7083333333333334\n",
      "              precision    recall  f1-score   support\n",
      "\n",
      "           0       0.63      0.85      0.72       213\n",
      "           1       0.84      0.59      0.69       267\n",
      "\n",
      "    accuracy                           0.71       480\n",
      "   macro avg       0.73      0.72      0.71       480\n",
      "weighted avg       0.74      0.71      0.71       480\n",
      "\n"
     ]
    }
   ],
   "source": [
    "from sklearn.metrics import accuracy_score, classification_report\n",
    "print(accuracy_score(Y_test, y_pred))\n",
    "print(classification_report(Y_test, y_pred))"
   ]
  },
  {
   "cell_type": "code",
   "execution_count": null,
   "metadata": {},
   "outputs": [],
   "source": []
  }
 ],
 "metadata": {
  "kernelspec": {
   "display_name": "Python 3",
   "language": "python",
   "name": "python3"
  },
  "language_info": {
   "codemirror_mode": {
    "name": "ipython",
    "version": 3
   },
   "file_extension": ".py",
   "mimetype": "text/x-python",
   "name": "python",
   "nbconvert_exporter": "python",
   "pygments_lexer": "ipython3",
   "version": "3.8.3"
  }
 },
 "nbformat": 4,
 "nbformat_minor": 4
}
