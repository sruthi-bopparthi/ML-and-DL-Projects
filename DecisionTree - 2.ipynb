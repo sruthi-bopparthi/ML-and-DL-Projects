{
 "cells": [
  {
   "cell_type": "code",
   "execution_count": 2,
   "metadata": {},
   "outputs": [],
   "source": [
    "import numpy as np\n",
    "import matplotlib.pyplot as plt\n",
    "import pandas as pd\n",
    "import seaborn as sns\n",
    "from sklearn.linear_model import LinearRegression\n",
    "from sklearn.metrics import accuracy_score,confusion_matrix,mean_squared_error,mean_absolute_error\n",
    "from sklearn.model_selection import train_test_split\n",
    "from sklearn.tree import DecisionTreeClassifier\n",
    "from sklearn.tree import DecisionTreeRegressor"
   ]
  },
  {
   "cell_type": "code",
   "execution_count": 3,
   "metadata": {},
   "outputs": [],
   "source": [
    "df=pd.read_csv(\"D:\\\\shru\\\\Sem 5\\\\ML\\\\files\\\\AirQualityUCI.csv\")"
   ]
  },
  {
   "cell_type": "code",
   "execution_count": 4,
   "metadata": {},
   "outputs": [
    {
     "data": {
      "text/html": [
       "<div>\n",
       "<style scoped>\n",
       "    .dataframe tbody tr th:only-of-type {\n",
       "        vertical-align: middle;\n",
       "    }\n",
       "\n",
       "    .dataframe tbody tr th {\n",
       "        vertical-align: top;\n",
       "    }\n",
       "\n",
       "    .dataframe thead th {\n",
       "        text-align: right;\n",
       "    }\n",
       "</style>\n",
       "<table border=\"1\" class=\"dataframe\">\n",
       "  <thead>\n",
       "    <tr style=\"text-align: right;\">\n",
       "      <th></th>\n",
       "      <th>CO(GT)</th>\n",
       "      <th>PT08.S1(CO)</th>\n",
       "      <th>NMHC(GT)</th>\n",
       "      <th>C6H6(GT)</th>\n",
       "      <th>PT08.S2(NMHC)</th>\n",
       "      <th>NOx(GT)</th>\n",
       "      <th>PT08.S3(NOx)</th>\n",
       "      <th>NO2(GT)</th>\n",
       "      <th>PT08.S4(NO2)</th>\n",
       "      <th>PT08.S5(O3)</th>\n",
       "      <th>T</th>\n",
       "      <th>RH</th>\n",
       "      <th>AH</th>\n",
       "      <th>Unnamed: 15</th>\n",
       "      <th>Unnamed: 16</th>\n",
       "    </tr>\n",
       "  </thead>\n",
       "  <tbody>\n",
       "    <tr>\n",
       "      <th>count</th>\n",
       "      <td>9357.000000</td>\n",
       "      <td>9357.000000</td>\n",
       "      <td>9357.000000</td>\n",
       "      <td>9357.000000</td>\n",
       "      <td>9357.000000</td>\n",
       "      <td>9357.000000</td>\n",
       "      <td>9357.000000</td>\n",
       "      <td>9357.000000</td>\n",
       "      <td>9357.000000</td>\n",
       "      <td>9357.000000</td>\n",
       "      <td>9357.000000</td>\n",
       "      <td>9357.000000</td>\n",
       "      <td>9357.000000</td>\n",
       "      <td>0.0</td>\n",
       "      <td>0.0</td>\n",
       "    </tr>\n",
       "    <tr>\n",
       "      <th>mean</th>\n",
       "      <td>-34.207524</td>\n",
       "      <td>1048.990061</td>\n",
       "      <td>-159.090093</td>\n",
       "      <td>1.865683</td>\n",
       "      <td>894.595276</td>\n",
       "      <td>168.616971</td>\n",
       "      <td>794.990168</td>\n",
       "      <td>58.148873</td>\n",
       "      <td>1391.479641</td>\n",
       "      <td>975.072032</td>\n",
       "      <td>9.778305</td>\n",
       "      <td>39.485380</td>\n",
       "      <td>-6.837604</td>\n",
       "      <td>NaN</td>\n",
       "      <td>NaN</td>\n",
       "    </tr>\n",
       "    <tr>\n",
       "      <th>std</th>\n",
       "      <td>77.657170</td>\n",
       "      <td>329.832710</td>\n",
       "      <td>139.789093</td>\n",
       "      <td>41.380206</td>\n",
       "      <td>342.333252</td>\n",
       "      <td>257.433866</td>\n",
       "      <td>321.993552</td>\n",
       "      <td>126.940455</td>\n",
       "      <td>467.210125</td>\n",
       "      <td>456.938184</td>\n",
       "      <td>43.203623</td>\n",
       "      <td>51.216145</td>\n",
       "      <td>38.976670</td>\n",
       "      <td>NaN</td>\n",
       "      <td>NaN</td>\n",
       "    </tr>\n",
       "    <tr>\n",
       "      <th>min</th>\n",
       "      <td>-200.000000</td>\n",
       "      <td>-200.000000</td>\n",
       "      <td>-200.000000</td>\n",
       "      <td>-200.000000</td>\n",
       "      <td>-200.000000</td>\n",
       "      <td>-200.000000</td>\n",
       "      <td>-200.000000</td>\n",
       "      <td>-200.000000</td>\n",
       "      <td>-200.000000</td>\n",
       "      <td>-200.000000</td>\n",
       "      <td>-200.000000</td>\n",
       "      <td>-200.000000</td>\n",
       "      <td>-200.000000</td>\n",
       "      <td>NaN</td>\n",
       "      <td>NaN</td>\n",
       "    </tr>\n",
       "    <tr>\n",
       "      <th>25%</th>\n",
       "      <td>0.600000</td>\n",
       "      <td>921.000000</td>\n",
       "      <td>-200.000000</td>\n",
       "      <td>4.000000</td>\n",
       "      <td>711.000000</td>\n",
       "      <td>50.000000</td>\n",
       "      <td>637.000000</td>\n",
       "      <td>53.000000</td>\n",
       "      <td>1185.000000</td>\n",
       "      <td>700.000000</td>\n",
       "      <td>10.900000</td>\n",
       "      <td>34.100000</td>\n",
       "      <td>0.692300</td>\n",
       "      <td>NaN</td>\n",
       "      <td>NaN</td>\n",
       "    </tr>\n",
       "    <tr>\n",
       "      <th>50%</th>\n",
       "      <td>1.500000</td>\n",
       "      <td>1053.000000</td>\n",
       "      <td>-200.000000</td>\n",
       "      <td>7.900000</td>\n",
       "      <td>895.000000</td>\n",
       "      <td>141.000000</td>\n",
       "      <td>794.000000</td>\n",
       "      <td>96.000000</td>\n",
       "      <td>1446.000000</td>\n",
       "      <td>942.000000</td>\n",
       "      <td>17.200000</td>\n",
       "      <td>48.600000</td>\n",
       "      <td>0.976800</td>\n",
       "      <td>NaN</td>\n",
       "      <td>NaN</td>\n",
       "    </tr>\n",
       "    <tr>\n",
       "      <th>75%</th>\n",
       "      <td>2.600000</td>\n",
       "      <td>1221.000000</td>\n",
       "      <td>-200.000000</td>\n",
       "      <td>13.600000</td>\n",
       "      <td>1105.000000</td>\n",
       "      <td>284.000000</td>\n",
       "      <td>960.000000</td>\n",
       "      <td>133.000000</td>\n",
       "      <td>1662.000000</td>\n",
       "      <td>1255.000000</td>\n",
       "      <td>24.100000</td>\n",
       "      <td>61.900000</td>\n",
       "      <td>1.296200</td>\n",
       "      <td>NaN</td>\n",
       "      <td>NaN</td>\n",
       "    </tr>\n",
       "    <tr>\n",
       "      <th>max</th>\n",
       "      <td>11.900000</td>\n",
       "      <td>2040.000000</td>\n",
       "      <td>1189.000000</td>\n",
       "      <td>63.700000</td>\n",
       "      <td>2214.000000</td>\n",
       "      <td>1479.000000</td>\n",
       "      <td>2683.000000</td>\n",
       "      <td>340.000000</td>\n",
       "      <td>2775.000000</td>\n",
       "      <td>2523.000000</td>\n",
       "      <td>44.600000</td>\n",
       "      <td>88.700000</td>\n",
       "      <td>2.231000</td>\n",
       "      <td>NaN</td>\n",
       "      <td>NaN</td>\n",
       "    </tr>\n",
       "  </tbody>\n",
       "</table>\n",
       "</div>"
      ],
      "text/plain": [
       "            CO(GT)  PT08.S1(CO)     NMHC(GT)     C6H6(GT)  PT08.S2(NMHC)  \\\n",
       "count  9357.000000  9357.000000  9357.000000  9357.000000    9357.000000   \n",
       "mean    -34.207524  1048.990061  -159.090093     1.865683     894.595276   \n",
       "std      77.657170   329.832710   139.789093    41.380206     342.333252   \n",
       "min    -200.000000  -200.000000  -200.000000  -200.000000    -200.000000   \n",
       "25%       0.600000   921.000000  -200.000000     4.000000     711.000000   \n",
       "50%       1.500000  1053.000000  -200.000000     7.900000     895.000000   \n",
       "75%       2.600000  1221.000000  -200.000000    13.600000    1105.000000   \n",
       "max      11.900000  2040.000000  1189.000000    63.700000    2214.000000   \n",
       "\n",
       "           NOx(GT)  PT08.S3(NOx)      NO2(GT)  PT08.S4(NO2)  PT08.S5(O3)  \\\n",
       "count  9357.000000   9357.000000  9357.000000   9357.000000  9357.000000   \n",
       "mean    168.616971    794.990168    58.148873   1391.479641   975.072032   \n",
       "std     257.433866    321.993552   126.940455    467.210125   456.938184   \n",
       "min    -200.000000   -200.000000  -200.000000   -200.000000  -200.000000   \n",
       "25%      50.000000    637.000000    53.000000   1185.000000   700.000000   \n",
       "50%     141.000000    794.000000    96.000000   1446.000000   942.000000   \n",
       "75%     284.000000    960.000000   133.000000   1662.000000  1255.000000   \n",
       "max    1479.000000   2683.000000   340.000000   2775.000000  2523.000000   \n",
       "\n",
       "                 T           RH           AH  Unnamed: 15  Unnamed: 16  \n",
       "count  9357.000000  9357.000000  9357.000000          0.0          0.0  \n",
       "mean      9.778305    39.485380    -6.837604          NaN          NaN  \n",
       "std      43.203623    51.216145    38.976670          NaN          NaN  \n",
       "min    -200.000000  -200.000000  -200.000000          NaN          NaN  \n",
       "25%      10.900000    34.100000     0.692300          NaN          NaN  \n",
       "50%      17.200000    48.600000     0.976800          NaN          NaN  \n",
       "75%      24.100000    61.900000     1.296200          NaN          NaN  \n",
       "max      44.600000    88.700000     2.231000          NaN          NaN  "
      ]
     },
     "execution_count": 4,
     "metadata": {},
     "output_type": "execute_result"
    }
   ],
   "source": [
    "df.describe()"
   ]
  },
  {
   "cell_type": "code",
   "execution_count": 5,
   "metadata": {},
   "outputs": [
    {
     "data": {
      "text/html": [
       "<div>\n",
       "<style scoped>\n",
       "    .dataframe tbody tr th:only-of-type {\n",
       "        vertical-align: middle;\n",
       "    }\n",
       "\n",
       "    .dataframe tbody tr th {\n",
       "        vertical-align: top;\n",
       "    }\n",
       "\n",
       "    .dataframe thead th {\n",
       "        text-align: right;\n",
       "    }\n",
       "</style>\n",
       "<table border=\"1\" class=\"dataframe\">\n",
       "  <thead>\n",
       "    <tr style=\"text-align: right;\">\n",
       "      <th></th>\n",
       "      <th>Date</th>\n",
       "      <th>Time</th>\n",
       "      <th>CO(GT)</th>\n",
       "      <th>PT08.S1(CO)</th>\n",
       "      <th>NMHC(GT)</th>\n",
       "      <th>C6H6(GT)</th>\n",
       "      <th>PT08.S2(NMHC)</th>\n",
       "      <th>NOx(GT)</th>\n",
       "      <th>PT08.S3(NOx)</th>\n",
       "      <th>NO2(GT)</th>\n",
       "      <th>PT08.S4(NO2)</th>\n",
       "      <th>PT08.S5(O3)</th>\n",
       "      <th>T</th>\n",
       "      <th>RH</th>\n",
       "      <th>AH</th>\n",
       "      <th>Unnamed: 15</th>\n",
       "      <th>Unnamed: 16</th>\n",
       "    </tr>\n",
       "  </thead>\n",
       "  <tbody>\n",
       "    <tr>\n",
       "      <th>0</th>\n",
       "      <td>10-03-2004</td>\n",
       "      <td>18:00:00</td>\n",
       "      <td>2.6</td>\n",
       "      <td>1360.0</td>\n",
       "      <td>150.0</td>\n",
       "      <td>11.9</td>\n",
       "      <td>1046.0</td>\n",
       "      <td>166.0</td>\n",
       "      <td>1056.0</td>\n",
       "      <td>113.0</td>\n",
       "      <td>1692.0</td>\n",
       "      <td>1268.0</td>\n",
       "      <td>13.6</td>\n",
       "      <td>48.9</td>\n",
       "      <td>0.7578</td>\n",
       "      <td>NaN</td>\n",
       "      <td>NaN</td>\n",
       "    </tr>\n",
       "    <tr>\n",
       "      <th>1</th>\n",
       "      <td>10-03-2004</td>\n",
       "      <td>19:00:00</td>\n",
       "      <td>2.0</td>\n",
       "      <td>1292.0</td>\n",
       "      <td>112.0</td>\n",
       "      <td>9.4</td>\n",
       "      <td>955.0</td>\n",
       "      <td>103.0</td>\n",
       "      <td>1174.0</td>\n",
       "      <td>92.0</td>\n",
       "      <td>1559.0</td>\n",
       "      <td>972.0</td>\n",
       "      <td>13.3</td>\n",
       "      <td>47.7</td>\n",
       "      <td>0.7255</td>\n",
       "      <td>NaN</td>\n",
       "      <td>NaN</td>\n",
       "    </tr>\n",
       "    <tr>\n",
       "      <th>2</th>\n",
       "      <td>10-03-2004</td>\n",
       "      <td>20:00:00</td>\n",
       "      <td>2.2</td>\n",
       "      <td>1402.0</td>\n",
       "      <td>88.0</td>\n",
       "      <td>9.0</td>\n",
       "      <td>939.0</td>\n",
       "      <td>131.0</td>\n",
       "      <td>1140.0</td>\n",
       "      <td>114.0</td>\n",
       "      <td>1555.0</td>\n",
       "      <td>1074.0</td>\n",
       "      <td>11.9</td>\n",
       "      <td>54.0</td>\n",
       "      <td>0.7502</td>\n",
       "      <td>NaN</td>\n",
       "      <td>NaN</td>\n",
       "    </tr>\n",
       "    <tr>\n",
       "      <th>3</th>\n",
       "      <td>10-03-2004</td>\n",
       "      <td>21:00:00</td>\n",
       "      <td>2.2</td>\n",
       "      <td>1376.0</td>\n",
       "      <td>80.0</td>\n",
       "      <td>9.2</td>\n",
       "      <td>948.0</td>\n",
       "      <td>172.0</td>\n",
       "      <td>1092.0</td>\n",
       "      <td>122.0</td>\n",
       "      <td>1584.0</td>\n",
       "      <td>1203.0</td>\n",
       "      <td>11.0</td>\n",
       "      <td>60.0</td>\n",
       "      <td>0.7867</td>\n",
       "      <td>NaN</td>\n",
       "      <td>NaN</td>\n",
       "    </tr>\n",
       "    <tr>\n",
       "      <th>4</th>\n",
       "      <td>10-03-2004</td>\n",
       "      <td>22:00:00</td>\n",
       "      <td>1.6</td>\n",
       "      <td>1272.0</td>\n",
       "      <td>51.0</td>\n",
       "      <td>6.5</td>\n",
       "      <td>836.0</td>\n",
       "      <td>131.0</td>\n",
       "      <td>1205.0</td>\n",
       "      <td>116.0</td>\n",
       "      <td>1490.0</td>\n",
       "      <td>1110.0</td>\n",
       "      <td>11.2</td>\n",
       "      <td>59.6</td>\n",
       "      <td>0.7888</td>\n",
       "      <td>NaN</td>\n",
       "      <td>NaN</td>\n",
       "    </tr>\n",
       "    <tr>\n",
       "      <th>5</th>\n",
       "      <td>10-03-2004</td>\n",
       "      <td>23:00:00</td>\n",
       "      <td>1.2</td>\n",
       "      <td>1197.0</td>\n",
       "      <td>38.0</td>\n",
       "      <td>4.7</td>\n",
       "      <td>750.0</td>\n",
       "      <td>89.0</td>\n",
       "      <td>1337.0</td>\n",
       "      <td>96.0</td>\n",
       "      <td>1393.0</td>\n",
       "      <td>949.0</td>\n",
       "      <td>11.2</td>\n",
       "      <td>59.2</td>\n",
       "      <td>0.7848</td>\n",
       "      <td>NaN</td>\n",
       "      <td>NaN</td>\n",
       "    </tr>\n",
       "    <tr>\n",
       "      <th>6</th>\n",
       "      <td>11-03-2004</td>\n",
       "      <td>00:00:00</td>\n",
       "      <td>1.2</td>\n",
       "      <td>1185.0</td>\n",
       "      <td>31.0</td>\n",
       "      <td>3.6</td>\n",
       "      <td>690.0</td>\n",
       "      <td>62.0</td>\n",
       "      <td>1462.0</td>\n",
       "      <td>77.0</td>\n",
       "      <td>1333.0</td>\n",
       "      <td>733.0</td>\n",
       "      <td>11.3</td>\n",
       "      <td>56.8</td>\n",
       "      <td>0.7603</td>\n",
       "      <td>NaN</td>\n",
       "      <td>NaN</td>\n",
       "    </tr>\n",
       "    <tr>\n",
       "      <th>7</th>\n",
       "      <td>11-03-2004</td>\n",
       "      <td>01:00:00</td>\n",
       "      <td>1.0</td>\n",
       "      <td>1136.0</td>\n",
       "      <td>31.0</td>\n",
       "      <td>3.3</td>\n",
       "      <td>672.0</td>\n",
       "      <td>62.0</td>\n",
       "      <td>1453.0</td>\n",
       "      <td>76.0</td>\n",
       "      <td>1333.0</td>\n",
       "      <td>730.0</td>\n",
       "      <td>10.7</td>\n",
       "      <td>60.0</td>\n",
       "      <td>0.7702</td>\n",
       "      <td>NaN</td>\n",
       "      <td>NaN</td>\n",
       "    </tr>\n",
       "    <tr>\n",
       "      <th>8</th>\n",
       "      <td>11-03-2004</td>\n",
       "      <td>02:00:00</td>\n",
       "      <td>0.9</td>\n",
       "      <td>1094.0</td>\n",
       "      <td>24.0</td>\n",
       "      <td>2.3</td>\n",
       "      <td>609.0</td>\n",
       "      <td>45.0</td>\n",
       "      <td>1579.0</td>\n",
       "      <td>60.0</td>\n",
       "      <td>1276.0</td>\n",
       "      <td>620.0</td>\n",
       "      <td>10.7</td>\n",
       "      <td>59.7</td>\n",
       "      <td>0.7648</td>\n",
       "      <td>NaN</td>\n",
       "      <td>NaN</td>\n",
       "    </tr>\n",
       "    <tr>\n",
       "      <th>9</th>\n",
       "      <td>11-03-2004</td>\n",
       "      <td>03:00:00</td>\n",
       "      <td>0.6</td>\n",
       "      <td>1010.0</td>\n",
       "      <td>19.0</td>\n",
       "      <td>1.7</td>\n",
       "      <td>561.0</td>\n",
       "      <td>-200.0</td>\n",
       "      <td>1705.0</td>\n",
       "      <td>-200.0</td>\n",
       "      <td>1235.0</td>\n",
       "      <td>501.0</td>\n",
       "      <td>10.3</td>\n",
       "      <td>60.2</td>\n",
       "      <td>0.7517</td>\n",
       "      <td>NaN</td>\n",
       "      <td>NaN</td>\n",
       "    </tr>\n",
       "    <tr>\n",
       "      <th>10</th>\n",
       "      <td>11-03-2004</td>\n",
       "      <td>04:00:00</td>\n",
       "      <td>-200.0</td>\n",
       "      <td>1011.0</td>\n",
       "      <td>14.0</td>\n",
       "      <td>1.3</td>\n",
       "      <td>527.0</td>\n",
       "      <td>21.0</td>\n",
       "      <td>1818.0</td>\n",
       "      <td>34.0</td>\n",
       "      <td>1197.0</td>\n",
       "      <td>445.0</td>\n",
       "      <td>10.1</td>\n",
       "      <td>60.5</td>\n",
       "      <td>0.7465</td>\n",
       "      <td>NaN</td>\n",
       "      <td>NaN</td>\n",
       "    </tr>\n",
       "    <tr>\n",
       "      <th>11</th>\n",
       "      <td>11-03-2004</td>\n",
       "      <td>05:00:00</td>\n",
       "      <td>0.7</td>\n",
       "      <td>1066.0</td>\n",
       "      <td>8.0</td>\n",
       "      <td>1.1</td>\n",
       "      <td>512.0</td>\n",
       "      <td>16.0</td>\n",
       "      <td>1918.0</td>\n",
       "      <td>28.0</td>\n",
       "      <td>1182.0</td>\n",
       "      <td>422.0</td>\n",
       "      <td>11.0</td>\n",
       "      <td>56.2</td>\n",
       "      <td>0.7366</td>\n",
       "      <td>NaN</td>\n",
       "      <td>NaN</td>\n",
       "    </tr>\n",
       "    <tr>\n",
       "      <th>12</th>\n",
       "      <td>11-03-2004</td>\n",
       "      <td>06:00:00</td>\n",
       "      <td>0.7</td>\n",
       "      <td>1052.0</td>\n",
       "      <td>16.0</td>\n",
       "      <td>1.6</td>\n",
       "      <td>553.0</td>\n",
       "      <td>34.0</td>\n",
       "      <td>1738.0</td>\n",
       "      <td>48.0</td>\n",
       "      <td>1221.0</td>\n",
       "      <td>472.0</td>\n",
       "      <td>10.5</td>\n",
       "      <td>58.1</td>\n",
       "      <td>0.7353</td>\n",
       "      <td>NaN</td>\n",
       "      <td>NaN</td>\n",
       "    </tr>\n",
       "    <tr>\n",
       "      <th>13</th>\n",
       "      <td>11-03-2004</td>\n",
       "      <td>07:00:00</td>\n",
       "      <td>1.1</td>\n",
       "      <td>1144.0</td>\n",
       "      <td>29.0</td>\n",
       "      <td>3.2</td>\n",
       "      <td>667.0</td>\n",
       "      <td>98.0</td>\n",
       "      <td>1490.0</td>\n",
       "      <td>82.0</td>\n",
       "      <td>1339.0</td>\n",
       "      <td>730.0</td>\n",
       "      <td>10.2</td>\n",
       "      <td>59.6</td>\n",
       "      <td>0.7417</td>\n",
       "      <td>NaN</td>\n",
       "      <td>NaN</td>\n",
       "    </tr>\n",
       "    <tr>\n",
       "      <th>14</th>\n",
       "      <td>11-03-2004</td>\n",
       "      <td>08:00:00</td>\n",
       "      <td>2.0</td>\n",
       "      <td>1333.0</td>\n",
       "      <td>64.0</td>\n",
       "      <td>8.0</td>\n",
       "      <td>900.0</td>\n",
       "      <td>174.0</td>\n",
       "      <td>1136.0</td>\n",
       "      <td>112.0</td>\n",
       "      <td>1517.0</td>\n",
       "      <td>1102.0</td>\n",
       "      <td>10.8</td>\n",
       "      <td>57.4</td>\n",
       "      <td>0.7408</td>\n",
       "      <td>NaN</td>\n",
       "      <td>NaN</td>\n",
       "    </tr>\n",
       "    <tr>\n",
       "      <th>15</th>\n",
       "      <td>11-03-2004</td>\n",
       "      <td>09:00:00</td>\n",
       "      <td>2.2</td>\n",
       "      <td>1351.0</td>\n",
       "      <td>87.0</td>\n",
       "      <td>9.5</td>\n",
       "      <td>960.0</td>\n",
       "      <td>129.0</td>\n",
       "      <td>1079.0</td>\n",
       "      <td>101.0</td>\n",
       "      <td>1583.0</td>\n",
       "      <td>1028.0</td>\n",
       "      <td>10.5</td>\n",
       "      <td>60.6</td>\n",
       "      <td>0.7691</td>\n",
       "      <td>NaN</td>\n",
       "      <td>NaN</td>\n",
       "    </tr>\n",
       "    <tr>\n",
       "      <th>16</th>\n",
       "      <td>11-03-2004</td>\n",
       "      <td>10:00:00</td>\n",
       "      <td>1.7</td>\n",
       "      <td>1233.0</td>\n",
       "      <td>77.0</td>\n",
       "      <td>6.3</td>\n",
       "      <td>827.0</td>\n",
       "      <td>112.0</td>\n",
       "      <td>1218.0</td>\n",
       "      <td>98.0</td>\n",
       "      <td>1446.0</td>\n",
       "      <td>860.0</td>\n",
       "      <td>10.8</td>\n",
       "      <td>58.4</td>\n",
       "      <td>0.7552</td>\n",
       "      <td>NaN</td>\n",
       "      <td>NaN</td>\n",
       "    </tr>\n",
       "    <tr>\n",
       "      <th>17</th>\n",
       "      <td>11-03-2004</td>\n",
       "      <td>11:00:00</td>\n",
       "      <td>1.5</td>\n",
       "      <td>1179.0</td>\n",
       "      <td>43.0</td>\n",
       "      <td>5.0</td>\n",
       "      <td>762.0</td>\n",
       "      <td>95.0</td>\n",
       "      <td>1328.0</td>\n",
       "      <td>92.0</td>\n",
       "      <td>1362.0</td>\n",
       "      <td>671.0</td>\n",
       "      <td>10.5</td>\n",
       "      <td>57.9</td>\n",
       "      <td>0.7352</td>\n",
       "      <td>NaN</td>\n",
       "      <td>NaN</td>\n",
       "    </tr>\n",
       "    <tr>\n",
       "      <th>18</th>\n",
       "      <td>11-03-2004</td>\n",
       "      <td>12:00:00</td>\n",
       "      <td>1.6</td>\n",
       "      <td>1236.0</td>\n",
       "      <td>61.0</td>\n",
       "      <td>5.2</td>\n",
       "      <td>774.0</td>\n",
       "      <td>104.0</td>\n",
       "      <td>1301.0</td>\n",
       "      <td>95.0</td>\n",
       "      <td>1401.0</td>\n",
       "      <td>664.0</td>\n",
       "      <td>9.5</td>\n",
       "      <td>66.8</td>\n",
       "      <td>0.7951</td>\n",
       "      <td>NaN</td>\n",
       "      <td>NaN</td>\n",
       "    </tr>\n",
       "    <tr>\n",
       "      <th>19</th>\n",
       "      <td>11-03-2004</td>\n",
       "      <td>13:00:00</td>\n",
       "      <td>1.9</td>\n",
       "      <td>1286.0</td>\n",
       "      <td>63.0</td>\n",
       "      <td>7.3</td>\n",
       "      <td>869.0</td>\n",
       "      <td>146.0</td>\n",
       "      <td>1162.0</td>\n",
       "      <td>112.0</td>\n",
       "      <td>1537.0</td>\n",
       "      <td>799.0</td>\n",
       "      <td>8.3</td>\n",
       "      <td>76.4</td>\n",
       "      <td>0.8393</td>\n",
       "      <td>NaN</td>\n",
       "      <td>NaN</td>\n",
       "    </tr>\n",
       "  </tbody>\n",
       "</table>\n",
       "</div>"
      ],
      "text/plain": [
       "          Date      Time  CO(GT)  PT08.S1(CO)  NMHC(GT)  C6H6(GT)  \\\n",
       "0   10-03-2004  18:00:00     2.6       1360.0     150.0      11.9   \n",
       "1   10-03-2004  19:00:00     2.0       1292.0     112.0       9.4   \n",
       "2   10-03-2004  20:00:00     2.2       1402.0      88.0       9.0   \n",
       "3   10-03-2004  21:00:00     2.2       1376.0      80.0       9.2   \n",
       "4   10-03-2004  22:00:00     1.6       1272.0      51.0       6.5   \n",
       "5   10-03-2004  23:00:00     1.2       1197.0      38.0       4.7   \n",
       "6   11-03-2004  00:00:00     1.2       1185.0      31.0       3.6   \n",
       "7   11-03-2004  01:00:00     1.0       1136.0      31.0       3.3   \n",
       "8   11-03-2004  02:00:00     0.9       1094.0      24.0       2.3   \n",
       "9   11-03-2004  03:00:00     0.6       1010.0      19.0       1.7   \n",
       "10  11-03-2004  04:00:00  -200.0       1011.0      14.0       1.3   \n",
       "11  11-03-2004  05:00:00     0.7       1066.0       8.0       1.1   \n",
       "12  11-03-2004  06:00:00     0.7       1052.0      16.0       1.6   \n",
       "13  11-03-2004  07:00:00     1.1       1144.0      29.0       3.2   \n",
       "14  11-03-2004  08:00:00     2.0       1333.0      64.0       8.0   \n",
       "15  11-03-2004  09:00:00     2.2       1351.0      87.0       9.5   \n",
       "16  11-03-2004  10:00:00     1.7       1233.0      77.0       6.3   \n",
       "17  11-03-2004  11:00:00     1.5       1179.0      43.0       5.0   \n",
       "18  11-03-2004  12:00:00     1.6       1236.0      61.0       5.2   \n",
       "19  11-03-2004  13:00:00     1.9       1286.0      63.0       7.3   \n",
       "\n",
       "    PT08.S2(NMHC)  NOx(GT)  PT08.S3(NOx)  NO2(GT)  PT08.S4(NO2)  PT08.S5(O3)  \\\n",
       "0          1046.0    166.0        1056.0    113.0        1692.0       1268.0   \n",
       "1           955.0    103.0        1174.0     92.0        1559.0        972.0   \n",
       "2           939.0    131.0        1140.0    114.0        1555.0       1074.0   \n",
       "3           948.0    172.0        1092.0    122.0        1584.0       1203.0   \n",
       "4           836.0    131.0        1205.0    116.0        1490.0       1110.0   \n",
       "5           750.0     89.0        1337.0     96.0        1393.0        949.0   \n",
       "6           690.0     62.0        1462.0     77.0        1333.0        733.0   \n",
       "7           672.0     62.0        1453.0     76.0        1333.0        730.0   \n",
       "8           609.0     45.0        1579.0     60.0        1276.0        620.0   \n",
       "9           561.0   -200.0        1705.0   -200.0        1235.0        501.0   \n",
       "10          527.0     21.0        1818.0     34.0        1197.0        445.0   \n",
       "11          512.0     16.0        1918.0     28.0        1182.0        422.0   \n",
       "12          553.0     34.0        1738.0     48.0        1221.0        472.0   \n",
       "13          667.0     98.0        1490.0     82.0        1339.0        730.0   \n",
       "14          900.0    174.0        1136.0    112.0        1517.0       1102.0   \n",
       "15          960.0    129.0        1079.0    101.0        1583.0       1028.0   \n",
       "16          827.0    112.0        1218.0     98.0        1446.0        860.0   \n",
       "17          762.0     95.0        1328.0     92.0        1362.0        671.0   \n",
       "18          774.0    104.0        1301.0     95.0        1401.0        664.0   \n",
       "19          869.0    146.0        1162.0    112.0        1537.0        799.0   \n",
       "\n",
       "       T    RH      AH  Unnamed: 15  Unnamed: 16  \n",
       "0   13.6  48.9  0.7578          NaN          NaN  \n",
       "1   13.3  47.7  0.7255          NaN          NaN  \n",
       "2   11.9  54.0  0.7502          NaN          NaN  \n",
       "3   11.0  60.0  0.7867          NaN          NaN  \n",
       "4   11.2  59.6  0.7888          NaN          NaN  \n",
       "5   11.2  59.2  0.7848          NaN          NaN  \n",
       "6   11.3  56.8  0.7603          NaN          NaN  \n",
       "7   10.7  60.0  0.7702          NaN          NaN  \n",
       "8   10.7  59.7  0.7648          NaN          NaN  \n",
       "9   10.3  60.2  0.7517          NaN          NaN  \n",
       "10  10.1  60.5  0.7465          NaN          NaN  \n",
       "11  11.0  56.2  0.7366          NaN          NaN  \n",
       "12  10.5  58.1  0.7353          NaN          NaN  \n",
       "13  10.2  59.6  0.7417          NaN          NaN  \n",
       "14  10.8  57.4  0.7408          NaN          NaN  \n",
       "15  10.5  60.6  0.7691          NaN          NaN  \n",
       "16  10.8  58.4  0.7552          NaN          NaN  \n",
       "17  10.5  57.9  0.7352          NaN          NaN  \n",
       "18   9.5  66.8  0.7951          NaN          NaN  \n",
       "19   8.3  76.4  0.8393          NaN          NaN  "
      ]
     },
     "execution_count": 5,
     "metadata": {},
     "output_type": "execute_result"
    }
   ],
   "source": [
    "df.head(20)"
   ]
  },
  {
   "cell_type": "code",
   "execution_count": 6,
   "metadata": {},
   "outputs": [
    {
     "data": {
      "text/plain": [
       "Date              object\n",
       "Time              object\n",
       "CO(GT)           float64\n",
       "PT08.S1(CO)      float64\n",
       "NMHC(GT)         float64\n",
       "C6H6(GT)         float64\n",
       "PT08.S2(NMHC)    float64\n",
       "NOx(GT)          float64\n",
       "PT08.S3(NOx)     float64\n",
       "NO2(GT)          float64\n",
       "PT08.S4(NO2)     float64\n",
       "PT08.S5(O3)      float64\n",
       "T                float64\n",
       "RH               float64\n",
       "AH               float64\n",
       "Unnamed: 15      float64\n",
       "Unnamed: 16      float64\n",
       "dtype: object"
      ]
     },
     "execution_count": 6,
     "metadata": {},
     "output_type": "execute_result"
    }
   ],
   "source": [
    "df.dtypes"
   ]
  },
  {
   "cell_type": "code",
   "execution_count": 7,
   "metadata": {},
   "outputs": [
    {
     "data": {
      "text/plain": [
       "<matplotlib.axes._subplots.AxesSubplot at 0x2f5ea00c808>"
      ]
     },
     "execution_count": 7,
     "metadata": {},
     "output_type": "execute_result"
    },
    {
     "data": {
      "image/png": "[encoded data removed]",
      "text/plain": [
       "<Figure size 432x288 with 1 Axes>"
      ]
     },
     "metadata": {
      "needs_background": "light"
     },
     "output_type": "display_data"
    }
   ],
   "source": [
    "df['NO2(GT)'].plot.hist()"
   ]
  },
  {
   "cell_type": "code",
   "execution_count": 8,
   "metadata": {},
   "outputs": [],
   "source": [
    "percnan=pd.DataFrame([(col,df[col].isna().mean()*100)for col in df],columns=[\"Features\",\"percentage\"])"
   ]
  },
  {
   "cell_type": "code",
   "execution_count": 9,
   "metadata": {},
   "outputs": [
    {
     "data": {
      "text/html": [
       "<div>\n",
       "<style scoped>\n",
       "    .dataframe tbody tr th:only-of-type {\n",
       "        vertical-align: middle;\n",
       "    }\n",
       "\n",
       "    .dataframe tbody tr th {\n",
       "        vertical-align: top;\n",
       "    }\n",
       "\n",
       "    .dataframe thead th {\n",
       "        text-align: right;\n",
       "    }\n",
       "</style>\n",
       "<table border=\"1\" class=\"dataframe\">\n",
       "  <thead>\n",
       "    <tr style=\"text-align: right;\">\n",
       "      <th></th>\n",
       "      <th>Features</th>\n",
       "      <th>percentage</th>\n",
       "    </tr>\n",
       "  </thead>\n",
       "  <tbody>\n",
       "    <tr>\n",
       "      <th>0</th>\n",
       "      <td>Date</td>\n",
       "      <td>1.203674</td>\n",
       "    </tr>\n",
       "    <tr>\n",
       "      <th>1</th>\n",
       "      <td>Time</td>\n",
       "      <td>1.203674</td>\n",
       "    </tr>\n",
       "    <tr>\n",
       "      <th>2</th>\n",
       "      <td>CO(GT)</td>\n",
       "      <td>1.203674</td>\n",
       "    </tr>\n",
       "    <tr>\n",
       "      <th>3</th>\n",
       "      <td>PT08.S1(CO)</td>\n",
       "      <td>1.203674</td>\n",
       "    </tr>\n",
       "    <tr>\n",
       "      <th>4</th>\n",
       "      <td>NMHC(GT)</td>\n",
       "      <td>1.203674</td>\n",
       "    </tr>\n",
       "    <tr>\n",
       "      <th>5</th>\n",
       "      <td>C6H6(GT)</td>\n",
       "      <td>1.203674</td>\n",
       "    </tr>\n",
       "    <tr>\n",
       "      <th>6</th>\n",
       "      <td>PT08.S2(NMHC)</td>\n",
       "      <td>1.203674</td>\n",
       "    </tr>\n",
       "    <tr>\n",
       "      <th>7</th>\n",
       "      <td>NOx(GT)</td>\n",
       "      <td>1.203674</td>\n",
       "    </tr>\n",
       "    <tr>\n",
       "      <th>8</th>\n",
       "      <td>PT08.S3(NOx)</td>\n",
       "      <td>1.203674</td>\n",
       "    </tr>\n",
       "    <tr>\n",
       "      <th>9</th>\n",
       "      <td>NO2(GT)</td>\n",
       "      <td>1.203674</td>\n",
       "    </tr>\n",
       "    <tr>\n",
       "      <th>10</th>\n",
       "      <td>PT08.S4(NO2)</td>\n",
       "      <td>1.203674</td>\n",
       "    </tr>\n",
       "    <tr>\n",
       "      <th>11</th>\n",
       "      <td>PT08.S5(O3)</td>\n",
       "      <td>1.203674</td>\n",
       "    </tr>\n",
       "    <tr>\n",
       "      <th>12</th>\n",
       "      <td>T</td>\n",
       "      <td>1.203674</td>\n",
       "    </tr>\n",
       "    <tr>\n",
       "      <th>13</th>\n",
       "      <td>RH</td>\n",
       "      <td>1.203674</td>\n",
       "    </tr>\n",
       "    <tr>\n",
       "      <th>14</th>\n",
       "      <td>AH</td>\n",
       "      <td>1.203674</td>\n",
       "    </tr>\n",
       "    <tr>\n",
       "      <th>15</th>\n",
       "      <td>Unnamed: 15</td>\n",
       "      <td>100.000000</td>\n",
       "    </tr>\n",
       "    <tr>\n",
       "      <th>16</th>\n",
       "      <td>Unnamed: 16</td>\n",
       "      <td>100.000000</td>\n",
       "    </tr>\n",
       "  </tbody>\n",
       "</table>\n",
       "</div>"
      ],
      "text/plain": [
       "         Features  percentage\n",
       "0            Date    1.203674\n",
       "1            Time    1.203674\n",
       "2          CO(GT)    1.203674\n",
       "3     PT08.S1(CO)    1.203674\n",
       "4        NMHC(GT)    1.203674\n",
       "5        C6H6(GT)    1.203674\n",
       "6   PT08.S2(NMHC)    1.203674\n",
       "7         NOx(GT)    1.203674\n",
       "8    PT08.S3(NOx)    1.203674\n",
       "9         NO2(GT)    1.203674\n",
       "10   PT08.S4(NO2)    1.203674\n",
       "11    PT08.S5(O3)    1.203674\n",
       "12              T    1.203674\n",
       "13             RH    1.203674\n",
       "14             AH    1.203674\n",
       "15    Unnamed: 15  100.000000\n",
       "16    Unnamed: 16  100.000000"
      ]
     },
     "execution_count": 9,
     "metadata": {},
     "output_type": "execute_result"
    }
   ],
   "source": [
    "percnan"
   ]
  },
  {
   "cell_type": "code",
   "execution_count": 10,
   "metadata": {},
   "outputs": [
    {
     "data": {
      "text/html": [
       "<div>\n",
       "<style scoped>\n",
       "    .dataframe tbody tr th:only-of-type {\n",
       "        vertical-align: middle;\n",
       "    }\n",
       "\n",
       "    .dataframe tbody tr th {\n",
       "        vertical-align: top;\n",
       "    }\n",
       "\n",
       "    .dataframe thead th {\n",
       "        text-align: right;\n",
       "    }\n",
       "</style>\n",
       "<table border=\"1\" class=\"dataframe\">\n",
       "  <thead>\n",
       "    <tr style=\"text-align: right;\">\n",
       "      <th></th>\n",
       "      <th>Features</th>\n",
       "      <th>percentage</th>\n",
       "    </tr>\n",
       "  </thead>\n",
       "  <tbody>\n",
       "    <tr>\n",
       "      <th>15</th>\n",
       "      <td>Unnamed: 15</td>\n",
       "      <td>100.0</td>\n",
       "    </tr>\n",
       "    <tr>\n",
       "      <th>16</th>\n",
       "      <td>Unnamed: 16</td>\n",
       "      <td>100.0</td>\n",
       "    </tr>\n",
       "  </tbody>\n",
       "</table>\n",
       "</div>"
      ],
      "text/plain": [
       "       Features  percentage\n",
       "15  Unnamed: 15       100.0\n",
       "16  Unnamed: 16       100.0"
      ]
     },
     "execution_count": 10,
     "metadata": {},
     "output_type": "execute_result"
    }
   ],
   "source": [
    "perc50=percnan[percnan.percentage>50]\n",
    "perc50.sort_values(\"percentage\",ascending=False)"
   ]
  },
  {
   "cell_type": "code",
   "execution_count": 11,
   "metadata": {},
   "outputs": [],
   "source": [
    "df=df.drop(['Unnamed: 15','Unnamed: 16'],axis=1)"
   ]
  },
  {
   "cell_type": "code",
   "execution_count": 12,
   "metadata": {},
   "outputs": [
    {
     "name": "stdout",
     "output_type": "stream",
     "text": [
      "<class 'pandas.core.frame.DataFrame'>\n",
      "RangeIndex: 9471 entries, 0 to 9470\n",
      "Data columns (total 15 columns):\n",
      " #   Column         Non-Null Count  Dtype  \n",
      "---  ------         --------------  -----  \n",
      " 0   Date           9357 non-null   object \n",
      " 1   Time           9357 non-null   object \n",
      " 2   CO(GT)         9357 non-null   float64\n",
      " 3   PT08.S1(CO)    9357 non-null   float64\n",
      " 4   NMHC(GT)       9357 non-null   float64\n",
      " 5   C6H6(GT)       9357 non-null   float64\n",
      " 6   PT08.S2(NMHC)  9357 non-null   float64\n",
      " 7   NOx(GT)        9357 non-null   float64\n",
      " 8   PT08.S3(NOx)   9357 non-null   float64\n",
      " 9   NO2(GT)        9357 non-null   float64\n",
      " 10  PT08.S4(NO2)   9357 non-null   float64\n",
      " 11  PT08.S5(O3)    9357 non-null   float64\n",
      " 12  T              9357 non-null   float64\n",
      " 13  RH             9357 non-null   float64\n",
      " 14  AH             9357 non-null   float64\n",
      "dtypes: float64(13), object(2)\n",
      "memory usage: 1.1+ MB\n"
     ]
    }
   ],
   "source": [
    "df.info()"
   ]
  },
  {
   "cell_type": "code",
   "execution_count": 13,
   "metadata": {},
   "outputs": [
    {
     "name": "stdout",
     "output_type": "stream",
     "text": [
      "Number of null values in each column:\n",
      "Date             114\n",
      "Time             114\n",
      "CO(GT)           114\n",
      "PT08.S1(CO)      114\n",
      "NMHC(GT)         114\n",
      "C6H6(GT)         114\n",
      "PT08.S2(NMHC)    114\n",
      "NOx(GT)          114\n",
      "PT08.S3(NOx)     114\n",
      "NO2(GT)          114\n",
      "PT08.S4(NO2)     114\n",
      "PT08.S5(O3)      114\n",
      "T                114\n",
      "RH               114\n",
      "AH               114\n",
      "dtype: int64\n"
     ]
    }
   ],
   "source": [
    "print(\"Number of null values in each column:\\n{}\".format(df.isnull().sum()))"
   ]
  },
  {
   "cell_type": "code",
   "execution_count": 14,
   "metadata": {},
   "outputs": [],
   "source": [
    "df['Date'] = pd.to_datetime(df['Date'])\n",
    "df['year'] = df['Date'].dt.year"
   ]
  },
  {
   "cell_type": "code",
   "execution_count": 15,
   "metadata": {},
   "outputs": [
    {
     "data": {
      "text/plain": [
       "0    2004.0\n",
       "dtype: float64"
      ]
     },
     "execution_count": 15,
     "metadata": {},
     "output_type": "execute_result"
    }
   ],
   "source": [
    "df['year'].mode()"
   ]
  },
  {
   "cell_type": "code",
   "execution_count": 16,
   "metadata": {},
   "outputs": [],
   "source": [
    "df['year']=df['year'].fillna(2004)"
   ]
  },
  {
   "cell_type": "code",
   "execution_count": 17,
   "metadata": {},
   "outputs": [
    {
     "data": {
      "text/plain": [
       "0       2004\n",
       "1       2004\n",
       "2       2004\n",
       "3       2004\n",
       "4       2004\n",
       "        ... \n",
       "9466    2004\n",
       "9467    2004\n",
       "9468    2004\n",
       "9469    2004\n",
       "9470    2004\n",
       "Name: year, Length: 9471, dtype: int32"
      ]
     },
     "execution_count": 17,
     "metadata": {},
     "output_type": "execute_result"
    }
   ],
   "source": [
    "df['year'].astype(int)"
   ]
  },
  {
   "cell_type": "code",
   "execution_count": 18,
   "metadata": {},
   "outputs": [],
   "source": [
    "df['Date'] = pd.to_datetime(df['Date'])\n",
    "df['month'] = df['Date'].dt.month\n",
    "df['day'] = df['Date'].dt.day\n",
    "df['hour'] = df['Date'].dt.hour\n",
    "df['minutes'] = df['Date'].dt.minute\n",
    "df['seconds'] = df['Date'].dt.second"
   ]
  },
  {
   "cell_type": "code",
   "execution_count": 19,
   "metadata": {},
   "outputs": [
    {
     "data": {
      "text/plain": [
       "0    3.0\n",
       "dtype: float64"
      ]
     },
     "execution_count": 19,
     "metadata": {},
     "output_type": "execute_result"
    }
   ],
   "source": [
    "df['month'].mode()"
   ]
  },
  {
   "cell_type": "code",
   "execution_count": 20,
   "metadata": {},
   "outputs": [],
   "source": [
    "df['month']=df['month'].fillna(3)"
   ]
  },
  {
   "cell_type": "code",
   "execution_count": 21,
   "metadata": {},
   "outputs": [
    {
     "data": {
      "text/plain": [
       "0       10\n",
       "1       10\n",
       "2       10\n",
       "3       10\n",
       "4       10\n",
       "        ..\n",
       "9466     3\n",
       "9467     3\n",
       "9468     3\n",
       "9469     3\n",
       "9470     3\n",
       "Name: month, Length: 9471, dtype: int32"
      ]
     },
     "execution_count": 21,
     "metadata": {},
     "output_type": "execute_result"
    }
   ],
   "source": [
    "df['month'].astype(int)"
   ]
  },
  {
   "cell_type": "code",
   "execution_count": 22,
   "metadata": {},
   "outputs": [
    {
     "data": {
      "text/plain": [
       "0    4.0\n",
       "dtype: float64"
      ]
     },
     "execution_count": 22,
     "metadata": {},
     "output_type": "execute_result"
    }
   ],
   "source": [
    "df['day'].mode()"
   ]
  },
  {
   "cell_type": "code",
   "execution_count": 23,
   "metadata": {},
   "outputs": [],
   "source": [
    "df['day']=df['day'].fillna(4)"
   ]
  },
  {
   "cell_type": "code",
   "execution_count": 24,
   "metadata": {},
   "outputs": [
    {
     "data": {
      "text/plain": [
       "0       3\n",
       "1       3\n",
       "2       3\n",
       "3       3\n",
       "4       3\n",
       "       ..\n",
       "9466    4\n",
       "9467    4\n",
       "9468    4\n",
       "9469    4\n",
       "9470    4\n",
       "Name: day, Length: 9471, dtype: int32"
      ]
     },
     "execution_count": 24,
     "metadata": {},
     "output_type": "execute_result"
    }
   ],
   "source": [
    "df['day'].astype(int)"
   ]
  },
  {
   "cell_type": "code",
   "execution_count": 25,
   "metadata": {},
   "outputs": [
    {
     "data": {
      "text/plain": [
       "0    0.0\n",
       "dtype: float64"
      ]
     },
     "execution_count": 25,
     "metadata": {},
     "output_type": "execute_result"
    }
   ],
   "source": [
    "df['hour'].mode()"
   ]
  },
  {
   "cell_type": "code",
   "execution_count": 26,
   "metadata": {},
   "outputs": [],
   "source": [
    "df['hour']=df['hour'].fillna(0)"
   ]
  },
  {
   "cell_type": "code",
   "execution_count": 27,
   "metadata": {},
   "outputs": [
    {
     "data": {
      "text/plain": [
       "0       0\n",
       "1       0\n",
       "2       0\n",
       "3       0\n",
       "4       0\n",
       "       ..\n",
       "9466    0\n",
       "9467    0\n",
       "9468    0\n",
       "9469    0\n",
       "9470    0\n",
       "Name: hour, Length: 9471, dtype: int32"
      ]
     },
     "execution_count": 27,
     "metadata": {},
     "output_type": "execute_result"
    }
   ],
   "source": [
    "df['hour'].astype(int)"
   ]
  },
  {
   "cell_type": "code",
   "execution_count": 28,
   "metadata": {},
   "outputs": [
    {
     "data": {
      "text/plain": [
       "0    0.0\n",
       "dtype: float64"
      ]
     },
     "execution_count": 28,
     "metadata": {},
     "output_type": "execute_result"
    }
   ],
   "source": [
    "df['minutes'].mode()"
   ]
  },
  {
   "cell_type": "code",
   "execution_count": 29,
   "metadata": {},
   "outputs": [],
   "source": [
    "df['minutes']=df['minutes'].fillna(0)"
   ]
  },
  {
   "cell_type": "code",
   "execution_count": 30,
   "metadata": {},
   "outputs": [
    {
     "data": {
      "text/plain": [
       "0       0\n",
       "1       0\n",
       "2       0\n",
       "3       0\n",
       "4       0\n",
       "       ..\n",
       "9466    0\n",
       "9467    0\n",
       "9468    0\n",
       "9469    0\n",
       "9470    0\n",
       "Name: minutes, Length: 9471, dtype: int32"
      ]
     },
     "execution_count": 30,
     "metadata": {},
     "output_type": "execute_result"
    }
   ],
   "source": [
    "df['minutes'].astype(int)"
   ]
  },
  {
   "cell_type": "code",
   "execution_count": 31,
   "metadata": {},
   "outputs": [
    {
     "data": {
      "text/plain": [
       "0    0.0\n",
       "dtype: float64"
      ]
     },
     "execution_count": 31,
     "metadata": {},
     "output_type": "execute_result"
    }
   ],
   "source": [
    "df['seconds'].mode()"
   ]
  },
  {
   "cell_type": "code",
   "execution_count": 32,
   "metadata": {},
   "outputs": [],
   "source": [
    "df['minutes']=df['minutes'].fillna(0)"
   ]
  },
  {
   "cell_type": "code",
   "execution_count": 33,
   "metadata": {},
   "outputs": [
    {
     "data": {
      "text/plain": [
       "0       0\n",
       "1       0\n",
       "2       0\n",
       "3       0\n",
       "4       0\n",
       "       ..\n",
       "9466    0\n",
       "9467    0\n",
       "9468    0\n",
       "9469    0\n",
       "9470    0\n",
       "Name: minutes, Length: 9471, dtype: int32"
      ]
     },
     "execution_count": 33,
     "metadata": {},
     "output_type": "execute_result"
    }
   ],
   "source": [
    "df['minutes'].astype(int)"
   ]
  },
  {
   "cell_type": "code",
   "execution_count": 34,
   "metadata": {},
   "outputs": [],
   "source": [
    "df=df.drop(['Date','Time'],axis=1)"
   ]
  },
  {
   "cell_type": "code",
   "execution_count": 35,
   "metadata": {},
   "outputs": [
    {
     "name": "stdout",
     "output_type": "stream",
     "text": [
      "Number of null values in each column:\n",
      "CO(GT)           114\n",
      "PT08.S1(CO)      114\n",
      "NMHC(GT)         114\n",
      "C6H6(GT)         114\n",
      "PT08.S2(NMHC)    114\n",
      "NOx(GT)          114\n",
      "PT08.S3(NOx)     114\n",
      "NO2(GT)          114\n",
      "PT08.S4(NO2)     114\n",
      "PT08.S5(O3)      114\n",
      "T                114\n",
      "RH               114\n",
      "AH               114\n",
      "year               0\n",
      "month              0\n",
      "day                0\n",
      "hour               0\n",
      "minutes            0\n",
      "seconds          114\n",
      "dtype: int64\n"
     ]
    }
   ],
   "source": [
    "print(\"Number of null values in each column:\\n{}\".format(df.isnull().sum()))"
   ]
  },
  {
   "cell_type": "code",
   "execution_count": 36,
   "metadata": {},
   "outputs": [],
   "source": [
    "for i in df.columns:\n",
    "    df[i]=df[i].fillna(df[i].mean())"
   ]
  },
  {
   "cell_type": "code",
   "execution_count": 37,
   "metadata": {},
   "outputs": [],
   "source": [
    "feat=df.drop(['AH'],axis=1)\n",
    "val=df['AH'].values"
   ]
  },
  {
   "cell_type": "code",
   "execution_count": 38,
   "metadata": {},
   "outputs": [
    {
     "data": {
      "text/html": [
       "<div>\n",
       "<style scoped>\n",
       "    .dataframe tbody tr th:only-of-type {\n",
       "        vertical-align: middle;\n",
       "    }\n",
       "\n",
       "    .dataframe tbody tr th {\n",
       "        vertical-align: top;\n",
       "    }\n",
       "\n",
       "    .dataframe thead th {\n",
       "        text-align: right;\n",
       "    }\n",
       "</style>\n",
       "<table border=\"1\" class=\"dataframe\">\n",
       "  <thead>\n",
       "    <tr style=\"text-align: right;\">\n",
       "      <th></th>\n",
       "      <th>CO(GT)</th>\n",
       "      <th>PT08.S1(CO)</th>\n",
       "      <th>NMHC(GT)</th>\n",
       "      <th>C6H6(GT)</th>\n",
       "      <th>PT08.S2(NMHC)</th>\n",
       "      <th>NOx(GT)</th>\n",
       "      <th>PT08.S3(NOx)</th>\n",
       "      <th>NO2(GT)</th>\n",
       "      <th>PT08.S4(NO2)</th>\n",
       "      <th>PT08.S5(O3)</th>\n",
       "      <th>T</th>\n",
       "      <th>RH</th>\n",
       "      <th>year</th>\n",
       "      <th>month</th>\n",
       "      <th>day</th>\n",
       "      <th>hour</th>\n",
       "      <th>minutes</th>\n",
       "      <th>seconds</th>\n",
       "    </tr>\n",
       "  </thead>\n",
       "  <tbody>\n",
       "    <tr>\n",
       "      <th>0</th>\n",
       "      <td>2.6</td>\n",
       "      <td>1360.0</td>\n",
       "      <td>150.0</td>\n",
       "      <td>11.9</td>\n",
       "      <td>1046.0</td>\n",
       "      <td>166.0</td>\n",
       "      <td>1056.0</td>\n",
       "      <td>113.0</td>\n",
       "      <td>1692.0</td>\n",
       "      <td>1268.0</td>\n",
       "      <td>13.6</td>\n",
       "      <td>48.9</td>\n",
       "      <td>2004.0</td>\n",
       "      <td>10.0</td>\n",
       "      <td>3.0</td>\n",
       "      <td>0.0</td>\n",
       "      <td>0.0</td>\n",
       "      <td>0.0</td>\n",
       "    </tr>\n",
       "    <tr>\n",
       "      <th>1</th>\n",
       "      <td>2.0</td>\n",
       "      <td>1292.0</td>\n",
       "      <td>112.0</td>\n",
       "      <td>9.4</td>\n",
       "      <td>955.0</td>\n",
       "      <td>103.0</td>\n",
       "      <td>1174.0</td>\n",
       "      <td>92.0</td>\n",
       "      <td>1559.0</td>\n",
       "      <td>972.0</td>\n",
       "      <td>13.3</td>\n",
       "      <td>47.7</td>\n",
       "      <td>2004.0</td>\n",
       "      <td>10.0</td>\n",
       "      <td>3.0</td>\n",
       "      <td>0.0</td>\n",
       "      <td>0.0</td>\n",
       "      <td>0.0</td>\n",
       "    </tr>\n",
       "    <tr>\n",
       "      <th>2</th>\n",
       "      <td>2.2</td>\n",
       "      <td>1402.0</td>\n",
       "      <td>88.0</td>\n",
       "      <td>9.0</td>\n",
       "      <td>939.0</td>\n",
       "      <td>131.0</td>\n",
       "      <td>1140.0</td>\n",
       "      <td>114.0</td>\n",
       "      <td>1555.0</td>\n",
       "      <td>1074.0</td>\n",
       "      <td>11.9</td>\n",
       "      <td>54.0</td>\n",
       "      <td>2004.0</td>\n",
       "      <td>10.0</td>\n",
       "      <td>3.0</td>\n",
       "      <td>0.0</td>\n",
       "      <td>0.0</td>\n",
       "      <td>0.0</td>\n",
       "    </tr>\n",
       "    <tr>\n",
       "      <th>3</th>\n",
       "      <td>2.2</td>\n",
       "      <td>1376.0</td>\n",
       "      <td>80.0</td>\n",
       "      <td>9.2</td>\n",
       "      <td>948.0</td>\n",
       "      <td>172.0</td>\n",
       "      <td>1092.0</td>\n",
       "      <td>122.0</td>\n",
       "      <td>1584.0</td>\n",
       "      <td>1203.0</td>\n",
       "      <td>11.0</td>\n",
       "      <td>60.0</td>\n",
       "      <td>2004.0</td>\n",
       "      <td>10.0</td>\n",
       "      <td>3.0</td>\n",
       "      <td>0.0</td>\n",
       "      <td>0.0</td>\n",
       "      <td>0.0</td>\n",
       "    </tr>\n",
       "    <tr>\n",
       "      <th>4</th>\n",
       "      <td>1.6</td>\n",
       "      <td>1272.0</td>\n",
       "      <td>51.0</td>\n",
       "      <td>6.5</td>\n",
       "      <td>836.0</td>\n",
       "      <td>131.0</td>\n",
       "      <td>1205.0</td>\n",
       "      <td>116.0</td>\n",
       "      <td>1490.0</td>\n",
       "      <td>1110.0</td>\n",
       "      <td>11.2</td>\n",
       "      <td>59.6</td>\n",
       "      <td>2004.0</td>\n",
       "      <td>10.0</td>\n",
       "      <td>3.0</td>\n",
       "      <td>0.0</td>\n",
       "      <td>0.0</td>\n",
       "      <td>0.0</td>\n",
       "    </tr>\n",
       "  </tbody>\n",
       "</table>\n",
       "</div>"
      ],
      "text/plain": [
       "   CO(GT)  PT08.S1(CO)  NMHC(GT)  C6H6(GT)  PT08.S2(NMHC)  NOx(GT)  \\\n",
       "0     2.6       1360.0     150.0      11.9         1046.0    166.0   \n",
       "1     2.0       1292.0     112.0       9.4          955.0    103.0   \n",
       "2     2.2       1402.0      88.0       9.0          939.0    131.0   \n",
       "3     2.2       1376.0      80.0       9.2          948.0    172.0   \n",
       "4     1.6       1272.0      51.0       6.5          836.0    131.0   \n",
       "\n",
       "   PT08.S3(NOx)  NO2(GT)  PT08.S4(NO2)  PT08.S5(O3)     T    RH    year  \\\n",
       "0        1056.0    113.0        1692.0       1268.0  13.6  48.9  2004.0   \n",
       "1        1174.0     92.0        1559.0        972.0  13.3  47.7  2004.0   \n",
       "2        1140.0    114.0        1555.0       1074.0  11.9  54.0  2004.0   \n",
       "3        1092.0    122.0        1584.0       1203.0  11.0  60.0  2004.0   \n",
       "4        1205.0    116.0        1490.0       1110.0  11.2  59.6  2004.0   \n",
       "\n",
       "   month  day  hour  minutes  seconds  \n",
       "0   10.0  3.0   0.0      0.0      0.0  \n",
       "1   10.0  3.0   0.0      0.0      0.0  \n",
       "2   10.0  3.0   0.0      0.0      0.0  \n",
       "3   10.0  3.0   0.0      0.0      0.0  \n",
       "4   10.0  3.0   0.0      0.0      0.0  "
      ]
     },
     "execution_count": 38,
     "metadata": {},
     "output_type": "execute_result"
    }
   ],
   "source": [
    "feat.head()"
   ]
  },
  {
   "cell_type": "code",
   "execution_count": 39,
   "metadata": {},
   "outputs": [],
   "source": [
    "(train_feat,test_feat,train_classes,test_classes)=train_test_split(feat,val,train_size=0.7,random_state=0)\n",
    "m=DecisionTreeRegressor(max_depth=6).fit(train_feat,train_classes)"
   ]
  },
  {
   "cell_type": "code",
   "execution_count": 40,
   "metadata": {},
   "outputs": [],
   "source": [
    "ypred=m.predict(test_feat)"
   ]
  },
  {
   "cell_type": "code",
   "execution_count": 41,
   "metadata": {},
   "outputs": [
    {
     "name": "stdout",
     "output_type": "stream",
     "text": [
      "MSE: 0.029669566195193654\n"
     ]
    }
   ],
   "source": [
    "from sklearn import metrics\n",
    "\n",
    "pred=m.predict(test_feat)\n",
    "print(\"MSE:\",metrics.mean_squared_error(test_classes,ypred))"
   ]
  },
  {
   "cell_type": "code",
   "execution_count": 42,
   "metadata": {},
   "outputs": [
    {
     "data": {
      "text/plain": [
       "0.9999817422560155"
      ]
     },
     "execution_count": 42,
     "metadata": {},
     "output_type": "execute_result"
    }
   ],
   "source": [
    "m.score(train_feat,train_classes)"
   ]
  },
  {
   "cell_type": "code",
   "execution_count": 44,
   "metadata": {},
   "outputs": [
    {
     "data": {
      "text/plain": [
       "'digraph Tree {\\nnode [shape=box] ;\\n0 [label=\"C6H6(GT) <= -99.95\\\\nmse = 1561.387\\\\nsamples = 6629\\\\nvalue = -7.175\"] ;\\n1 [label=\"mse = 0.0\\\\nsamples = 267\\\\nvalue = -200.0\"] ;\\n0 -> 1 [labeldistance=2.5, labelangle=45, headlabel=\"True\"] ;\\n2 [label=\"C6H6(GT) <= 1.883\\\\nmse = 1.003\\\\nsamples = 6362\\\\nvalue = 0.917\"] ;\\n0 -> 2 [labeldistance=2.5, labelangle=-45, headlabel=\"False\"] ;\\n3 [label=\"PT08.S5(O3) <= 914.036\\\\nmse = 9.012\\\\nsamples = 459\\\\nvalue = -0.707\"] ;\\n2 -> 3 ;\\n4 [label=\"PT08.S4(NO2) <= 971.0\\\\nmse = 0.119\\\\nsamples = 371\\\\nvalue = 0.747\"] ;\\n3 -> 4 ;\\n5 [label=\"PT08.S4(NO2) <= 860.0\\\\nmse = 0.018\\\\nsamples = 170\\\\nvalue = 0.47\"] ;\\n4 -> 5 ;\\n6 [label=\"PT08.S4(NO2) <= 728.5\\\\nmse = 0.007\\\\nsamples = 120\\\\nvalue = 0.401\"] ;\\n5 -> 6 ;\\n7 [label=\"mse = 0.003\\\\nsamples = 29\\\\nvalue = 0.303\"] ;\\n6 -> 7 ;\\n8 [label=\"mse = 0.004\\\\nsamples = 91\\\\nvalue = 0.433\"] ;\\n6 -> 8 ;\\n9 [label=\"PT08.S4(NO2) <= 893.5\\\\nmse = 0.005\\\\nsamples = 50\\\\nvalue = 0.635\"] ;\\n5 -> 9 ;\\n10 [label=\"mse = 0.004\\\\nsamples = 16\\\\nvalue = 0.587\"] ;\\n9 -> 10 ;\\n11 [label=\"mse = 0.004\\\\nsamples = 34\\\\nvalue = 0.658\"] ;\\n9 -> 11 ;\\n12 [label=\"T <= 18.75\\\\nmse = 0.085\\\\nsamples = 201\\\\nvalue = 0.982\"] ;\\n4 -> 12 ;\\n13 [label=\"RH <= 49.5\\\\nmse = 0.03\\\\nsamples = 154\\\\nvalue = 0.873\"] ;\\n12 -> 13 ;\\n14 [label=\"mse = 0.014\\\\nsamples = 33\\\\nvalue = 0.683\"] ;\\n13 -> 14 ;\\n15 [label=\"mse = 0.022\\\\nsamples = 121\\\\nvalue = 0.925\"] ;\\n13 -> 15 ;\\n16 [label=\"PT08.S1(CO) <= 794.5\\\\nmse = 0.1\\\\nsamples = 47\\\\nvalue = 1.338\"] ;\\n12 -> 16 ;\\n17 [label=\"mse = 0.016\\\\nsamples = 28\\\\nvalue = 1.152\"] ;\\n16 -> 17 ;\\n18 [label=\"mse = 0.097\\\\nsamples = 19\\\\nvalue = 1.613\"] ;\\n16 -> 18 ;\\n19 [label=\"mse = 0.0\\\\nsamples = 88\\\\nvalue = -6.838\"] ;\\n3 -> 19 ;\\n20 [label=\"T <= 15.15\\\\nmse = 0.159\\\\nsamples = 5903\\\\nvalue = 1.043\"] ;\\n2 -> 20 ;\\n21 [label=\"RH <= 53.85\\\\nmse = 0.065\\\\nsamples = 2194\\\\nvalue = 0.726\"] ;\\n20 -> 21 ;\\n22 [label=\"PT08.S4(NO2) <= 1133.0\\\\nmse = 0.025\\\\nsamples = 780\\\\nvalue = 0.496\"] ;\\n21 -> 22 ;\\n23 [label=\"RH <= 36.85\\\\nmse = 0.011\\\\nsamples = 496\\\\nvalue = 0.424\"] ;\\n22 -> 23 ;\\n24 [label=\"mse = 0.007\\\\nsamples = 198\\\\nvalue = 0.365\"] ;\\n23 -> 24 ;\\n25 [label=\"mse = 0.01\\\\nsamples = 298\\\\nvalue = 0.463\"] ;\\n23 -> 25 ;\\n26 [label=\"RH <= 43.45\\\\nmse = 0.023\\\\nsamples = 284\\\\nvalue = 0.621\"] ;\\n22 -> 26 ;\\n27 [label=\"mse = 0.013\\\\nsamples = 109\\\\nvalue = 0.496\"] ;\\n26 -> 27 ;\\n28 [label=\"mse = 0.014\\\\nsamples = 175\\\\nvalue = 0.7\"] ;\\n26 -> 28 ;\\n29 [label=\"T <= 9.45\\\\nmse = 0.042\\\\nsamples = 1414\\\\nvalue = 0.853\"] ;\\n21 -> 29 ;\\n30 [label=\"T <= 4.95\\\\nmse = 0.017\\\\nsamples = 547\\\\nvalue = 0.658\"] ;\\n29 -> 30 ;\\n31 [label=\"mse = 0.009\\\\nsamples = 187\\\\nvalue = 0.541\"] ;\\n30 -> 31 ;\\n32 [label=\"mse = 0.011\\\\nsamples = 360\\\\nvalue = 0.719\"] ;\\n30 -> 32 ;\\n33 [label=\"RH <= 71.6\\\\nmse = 0.019\\\\nsamples = 867\\\\nvalue = 0.975\"] ;\\n29 -> 33 ;\\n34 [label=\"mse = 0.01\\\\nsamples = 611\\\\nvalue = 0.92\"] ;\\n33 -> 34 ;\\n35 [label=\"mse = 0.016\\\\nsamples = 256\\\\nvalue = 1.108\"] ;\\n33 -> 35 ;\\n36 [label=\"RH <= 43.45\\\\nmse = 0.119\\\\nsamples = 3709\\\\nvalue = 1.231\"] ;\\n20 -> 36 ;\\n37 [label=\"T <= 23.85\\\\nmse = 0.106\\\\nsamples = 1857\\\\nvalue = 1.08\"] ;\\n36 -> 37 ;\\n38 [label=\"RH <= 29.05\\\\nmse = 0.037\\\\nsamples = 586\\\\nvalue = 0.81\"] ;\\n37 -> 38 ;\\n39 [label=\"mse = 0.015\\\\nsamples = 115\\\\nvalue = 0.556\"] ;\\n38 -> 39 ;\\n40 [label=\"mse = 0.023\\\\nsamples = 471\\\\nvalue = 0.872\"] ;\\n38 -> 40 ;\\n41 [label=\"RH <= 25.35\\\\nmse = 0.089\\\\nsamples = 1271\\\\nvalue = 1.204\"] ;\\n37 -> 41 ;\\n42 [label=\"mse = 0.065\\\\nsamples = 499\\\\nvalue = 1.029\"] ;\\n41 -> 42 ;\\n43 [label=\"mse = 0.071\\\\nsamples = 772\\\\nvalue = 1.317\"] ;\\n41 -> 43 ;\\n44 [label=\"T <= 20.05\\\\nmse = 0.087\\\\nsamples = 1852\\\\nvalue = 1.383\"] ;\\n36 -> 44 ;\\n45 [label=\"RH <= 62.65\\\\nmse = 0.05\\\\nsamples = 874\\\\nvalue = 1.192\"] ;\\n44 -> 45 ;\\n46 [label=\"mse = 0.016\\\\nsamples = 548\\\\nvalue = 1.055\"] ;\\n45 -> 46 ;\\n47 [label=\"mse = 0.022\\\\nsamples = 326\\\\nvalue = 1.422\"] ;\\n45 -> 47 ;\\n48 [label=\"T <= 23.75\\\\nmse = 0.058\\\\nsamples = 978\\\\nvalue = 1.554\"] ;\\n44 -> 48 ;\\n49 [label=\"mse = 0.049\\\\nsamples = 568\\\\nvalue = 1.456\"] ;\\n48 -> 49 ;\\n50 [label=\"mse = 0.039\\\\nsamples = 410\\\\nvalue = 1.69\"] ;\\n48 -> 50 ;\\n}'"
      ]
     },
     "execution_count": 44,
     "metadata": {},
     "output_type": "execute_result"
    }
   ],
   "source": [
    "from sklearn.tree import export_graphviz\n",
    "\n",
    "export_graphviz(m,\n",
    "               feature_names=feat.columns)"
   ]
  },
  {
   "cell_type": "code",
   "execution_count": null,
   "metadata": {},
   "outputs": [],
   "source": []
  }
 ],
 "metadata": {
  "kernelspec": {
   "display_name": "Python 3",
   "language": "python",
   "name": "python3"
  },
  "language_info": {
   "codemirror_mode": {
    "name": "ipython",
    "version": 3
   },
   "file_extension": ".py",
   "mimetype": "text/x-python",
   "name": "python",
   "nbconvert_exporter": "python",
   "pygments_lexer": "ipython3",
   "version": "3.7.4"
  }
 },
 "nbformat": 4,
 "nbformat_minor": 4
}
