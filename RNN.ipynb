{
  "nbformat": 4,
  "nbformat_minor": 0,
  "metadata": {
    "colab": {
      "name": "36_Devanshi_patel(RNN).ipynb",
      "provenance": []
    },
    "kernelspec": {
      "name": "python3",
      "display_name": "Python 3"
    }
  },
  "cells": [
    {
      "cell_type": "code",
      "metadata": {
        "id": "YuSQbbR0CnUo"
      },
      "source": [
        "import numpy as np\n",
        "import pandas as pd\n",
        "import matplotlib.pyplot as plt"
      ],
      "execution_count": null,
      "outputs": []
    },
    {
      "cell_type": "code",
      "metadata": {
        "id": "9KFq12NLDLR7"
      },
      "source": [
        "traindata=pd.read_csv('FB_training_data.csv')\n",
        "traindata=traindata.iloc[:,1].values"
      ],
      "execution_count": null,
      "outputs": []
    },
    {
      "cell_type": "code",
      "metadata": {
        "id": "IyddDSFVDne2",
        "outputId": "dec748a1-eb26-4494-fa67-2e7884f005a9",
        "colab": {
          "base_uri": "https://localhost:8080/"
        }
      },
      "source": [
        "traindata"
      ],
      "execution_count": null,
      "outputs": [
        {
          "output_type": "execute_result",
          "data": {
            "text/plain": [
              "array([ 78.580002,  77.980003,  77.230003, ..., 208.669998, 207.860001,\n",
              "       204.      ])"
            ]
          },
          "metadata": {
            "tags": []
          },
          "execution_count": 5
        }
      ]
    },
    {
      "cell_type": "code",
      "metadata": {
        "id": "LcJaC631Dpo7"
      },
      "source": [
        "from sklearn.preprocessing import MinMaxScaler\n",
        "scaler=MinMaxScaler()\n",
        "traindata=scaler.fit_transform(traindata.reshape(-1,1))"
      ],
      "execution_count": null,
      "outputs": []
    },
    {
      "cell_type": "code",
      "metadata": {
        "id": "WYmWxzGfD8Sx"
      },
      "source": [
        "x_traindata=[]\n",
        "y_traindata=[]"
      ],
      "execution_count": null,
      "outputs": []
    },
    {
      "cell_type": "code",
      "metadata": {
        "id": "FB4xxDzIEB3M"
      },
      "source": [
        "for i in range(40,len(traindata)):\n",
        "  x_traindata.append(traindata[i-40:i,0])\n",
        "  y_traindata.append(traindata[i,0])"
      ],
      "execution_count": null,
      "outputs": []
    },
    {
      "cell_type": "code",
      "metadata": {
        "id": "QNbYF9AEFM6J"
      },
      "source": [
        "x_traindata=np.array(x_traindata)\n",
        "y_traindata=np.array(y_traindata)"
      ],
      "execution_count": null,
      "outputs": []
    },
    {
      "cell_type": "code",
      "metadata": {
        "id": "au6Liy9LFXIL",
        "outputId": "11c08112-9c57-4e93-be2f-094e3a9f8435",
        "colab": {
          "base_uri": "https://localhost:8080/"
        }
      },
      "source": [
        "print(x_traindata.shape)#because we need 40 days data\n",
        "print(y_traindata.shape)\n"
      ],
      "execution_count": null,
      "outputs": [
        {
          "output_type": "stream",
          "text": [
            "(1218, 40, 1)\n",
            "(1218,)\n"
          ],
          "name": "stdout"
        }
      ]
    },
    {
      "cell_type": "code",
      "metadata": {
        "id": "inF2rpCKFjIe"
      },
      "source": [
        "x_traindata=np.reshape(x_traindata,(x_traindata.shape[0],x_traindata.shape[1],1))"
      ],
      "execution_count": null,
      "outputs": []
    },
    {
      "cell_type": "code",
      "metadata": {
        "id": "xTpw-sKpGZ54"
      },
      "source": [
        "#creating RNN\n",
        "from tensorflow.keras.models import Sequential\n",
        "from tensorflow.keras.layers import Dense\n",
        "from tensorflow.keras.layers import LSTM\n",
        "from tensorflow.keras.layers import Dropout"
      ],
      "execution_count": null,
      "outputs": []
    },
    {
      "cell_type": "code",
      "metadata": {
        "id": "760YkI-8HKPd",
        "outputId": "06725fbd-a922-4a5e-d6ff-60931341fcb3",
        "colab": {
          "base_uri": "https://localhost:8080/"
        }
      },
      "source": [
        "rnn=Sequential()\n",
        "rnn.add(LSTM(units=32,return_sequences=True,input_shape=(x_traindata.shape[1],1)))\n",
        "rnn.add(Dropout(0.2))#for diabling node\n",
        "rnn.add(LSTM(units=32,return_sequences=True))\n",
        "rnn.add(Dropout(0.2))#for diabling node\n",
        "rnn.add(LSTM(units=16,return_sequences=True))\n",
        "rnn.add(Dropout(0.2))#for diabling node\n",
        "rnn.add(LSTM(units=16))\n",
        "rnn.add(Dropout(0.2))#for diabling node\n",
        "rnn.add(Dense(units=1))\n",
        "rnn.summary()"
      ],
      "execution_count": null,
      "outputs": [
        {
          "output_type": "stream",
          "text": [
            "Model: \"sequential_1\"\n",
            "_________________________________________________________________\n",
            "Layer (type)                 Output Shape              Param #   \n",
            "=================================================================\n",
            "lstm_4 (LSTM)                (None, 40, 32)            4352      \n",
            "_________________________________________________________________\n",
            "dropout_4 (Dropout)          (None, 40, 32)            0         \n",
            "_________________________________________________________________\n",
            "lstm_5 (LSTM)                (None, 40, 32)            8320      \n",
            "_________________________________________________________________\n",
            "dropout_5 (Dropout)          (None, 40, 32)            0         \n",
            "_________________________________________________________________\n",
            "lstm_6 (LSTM)                (None, 40, 16)            3136      \n",
            "_________________________________________________________________\n",
            "dropout_6 (Dropout)          (None, 40, 16)            0         \n",
            "_________________________________________________________________\n",
            "lstm_7 (LSTM)                (None, 16)                2112      \n",
            "_________________________________________________________________\n",
            "dropout_7 (Dropout)          (None, 16)                0         \n",
            "_________________________________________________________________\n",
            "dense (Dense)                (None, 1)                 17        \n",
            "=================================================================\n",
            "Total params: 17,937\n",
            "Trainable params: 17,937\n",
            "Non-trainable params: 0\n",
            "_________________________________________________________________\n"
          ],
          "name": "stdout"
        }
      ]
    },
    {
      "cell_type": "code",
      "metadata": {
        "id": "0PRjiwCIIvJE"
      },
      "source": [
        "rnn.compile(optimizer='adam',loss='mean_squared_error')"
      ],
      "execution_count": null,
      "outputs": []
    },
    {
      "cell_type": "code",
      "metadata": {
        "id": "iBG8KpBtI4Z2",
        "outputId": "0ad42ebb-dcf5-438b-d29d-28177bf5cb7b",
        "colab": {
          "base_uri": "https://localhost:8080/"
        }
      },
      "source": [
        "rnn.fit(x_traindata,y_traindata,epochs=100,batch_size=128)"
      ],
      "execution_count": null,
      "outputs": [
        {
          "output_type": "stream",
          "text": [
            "Epoch 1/100\n",
            "10/10 [==============================] - 1s 89ms/step - loss: 0.0073\n",
            "Epoch 2/100\n",
            "10/10 [==============================] - 1s 85ms/step - loss: 0.0069\n",
            "Epoch 3/100\n",
            "10/10 [==============================] - 1s 84ms/step - loss: 0.0068\n",
            "Epoch 4/100\n",
            "10/10 [==============================] - 1s 88ms/step - loss: 0.0069\n",
            "Epoch 5/100\n",
            "10/10 [==============================] - 1s 87ms/step - loss: 0.0072\n",
            "Epoch 6/100\n",
            "10/10 [==============================] - 1s 85ms/step - loss: 0.0061\n",
            "Epoch 7/100\n",
            "10/10 [==============================] - 1s 88ms/step - loss: 0.0065\n",
            "Epoch 8/100\n",
            "10/10 [==============================] - 1s 91ms/step - loss: 0.0063\n",
            "Epoch 9/100\n",
            "10/10 [==============================] - 1s 84ms/step - loss: 0.0065\n",
            "Epoch 10/100\n",
            "10/10 [==============================] - 1s 85ms/step - loss: 0.0060\n",
            "Epoch 11/100\n",
            "10/10 [==============================] - 1s 89ms/step - loss: 0.0061\n",
            "Epoch 12/100\n",
            "10/10 [==============================] - 1s 91ms/step - loss: 0.0060\n",
            "Epoch 13/100\n",
            "10/10 [==============================] - 1s 85ms/step - loss: 0.0059\n",
            "Epoch 14/100\n",
            "10/10 [==============================] - 1s 84ms/step - loss: 0.0061\n",
            "Epoch 15/100\n",
            "10/10 [==============================] - 1s 92ms/step - loss: 0.0063\n",
            "Epoch 16/100\n",
            "10/10 [==============================] - 1s 85ms/step - loss: 0.0065\n",
            "Epoch 17/100\n",
            "10/10 [==============================] - 1s 86ms/step - loss: 0.0060\n",
            "Epoch 18/100\n",
            "10/10 [==============================] - 1s 91ms/step - loss: 0.0062\n",
            "Epoch 19/100\n",
            "10/10 [==============================] - 1s 84ms/step - loss: 0.0064\n",
            "Epoch 20/100\n",
            "10/10 [==============================] - 1s 83ms/step - loss: 0.0057\n",
            "Epoch 21/100\n",
            "10/10 [==============================] - 1s 85ms/step - loss: 0.0065\n",
            "Epoch 22/100\n",
            "10/10 [==============================] - 1s 87ms/step - loss: 0.0061\n",
            "Epoch 23/100\n",
            "10/10 [==============================] - 1s 88ms/step - loss: 0.0067\n",
            "Epoch 24/100\n",
            "10/10 [==============================] - 1s 87ms/step - loss: 0.0060\n",
            "Epoch 25/100\n",
            "10/10 [==============================] - 1s 89ms/step - loss: 0.0057\n",
            "Epoch 26/100\n",
            "10/10 [==============================] - 1s 87ms/step - loss: 0.0059\n",
            "Epoch 27/100\n",
            "10/10 [==============================] - 1s 91ms/step - loss: 0.0063\n",
            "Epoch 28/100\n",
            "10/10 [==============================] - 1s 91ms/step - loss: 0.0063\n",
            "Epoch 29/100\n",
            "10/10 [==============================] - 1s 88ms/step - loss: 0.0055\n",
            "Epoch 30/100\n",
            "10/10 [==============================] - 1s 91ms/step - loss: 0.0055\n",
            "Epoch 31/100\n",
            "10/10 [==============================] - 1s 88ms/step - loss: 0.0059\n",
            "Epoch 32/100\n",
            "10/10 [==============================] - 1s 86ms/step - loss: 0.0056\n",
            "Epoch 33/100\n",
            "10/10 [==============================] - 1s 89ms/step - loss: 0.0055\n",
            "Epoch 34/100\n",
            "10/10 [==============================] - 1s 89ms/step - loss: 0.0057\n",
            "Epoch 35/100\n",
            "10/10 [==============================] - 1s 83ms/step - loss: 0.0062\n",
            "Epoch 36/100\n",
            "10/10 [==============================] - 1s 83ms/step - loss: 0.0054\n",
            "Epoch 37/100\n",
            "10/10 [==============================] - 1s 90ms/step - loss: 0.0057\n",
            "Epoch 38/100\n",
            "10/10 [==============================] - 1s 87ms/step - loss: 0.0050\n",
            "Epoch 39/100\n",
            "10/10 [==============================] - 1s 86ms/step - loss: 0.0054\n",
            "Epoch 40/100\n",
            "10/10 [==============================] - 1s 87ms/step - loss: 0.0055\n",
            "Epoch 41/100\n",
            "10/10 [==============================] - 1s 90ms/step - loss: 0.0056\n",
            "Epoch 42/100\n",
            "10/10 [==============================] - 1s 88ms/step - loss: 0.0057\n",
            "Epoch 43/100\n",
            "10/10 [==============================] - 1s 84ms/step - loss: 0.0060\n",
            "Epoch 44/100\n",
            "10/10 [==============================] - 1s 88ms/step - loss: 0.0054\n",
            "Epoch 45/100\n",
            "10/10 [==============================] - 1s 90ms/step - loss: 0.0055\n",
            "Epoch 46/100\n",
            "10/10 [==============================] - 1s 85ms/step - loss: 0.0053\n",
            "Epoch 47/100\n",
            "10/10 [==============================] - 1s 87ms/step - loss: 0.0053\n",
            "Epoch 48/100\n",
            "10/10 [==============================] - 1s 97ms/step - loss: 0.0054\n",
            "Epoch 49/100\n",
            "10/10 [==============================] - 1s 84ms/step - loss: 0.0052\n",
            "Epoch 50/100\n",
            "10/10 [==============================] - 1s 83ms/step - loss: 0.0053\n",
            "Epoch 51/100\n",
            "10/10 [==============================] - 1s 88ms/step - loss: 0.0056\n",
            "Epoch 52/100\n",
            "10/10 [==============================] - 1s 91ms/step - loss: 0.0057\n",
            "Epoch 53/100\n",
            "10/10 [==============================] - 1s 86ms/step - loss: 0.0054\n",
            "Epoch 54/100\n",
            "10/10 [==============================] - 1s 86ms/step - loss: 0.0051\n",
            "Epoch 55/100\n",
            "10/10 [==============================] - 1s 92ms/step - loss: 0.0056\n",
            "Epoch 56/100\n",
            "10/10 [==============================] - 1s 90ms/step - loss: 0.0049\n",
            "Epoch 57/100\n",
            "10/10 [==============================] - 1s 95ms/step - loss: 0.0050\n",
            "Epoch 58/100\n",
            "10/10 [==============================] - 1s 96ms/step - loss: 0.0045\n",
            "Epoch 59/100\n",
            "10/10 [==============================] - 1s 93ms/step - loss: 0.0049\n",
            "Epoch 60/100\n",
            "10/10 [==============================] - 1s 95ms/step - loss: 0.0054\n",
            "Epoch 61/100\n",
            "10/10 [==============================] - 1s 96ms/step - loss: 0.0049\n",
            "Epoch 62/100\n",
            "10/10 [==============================] - 1s 91ms/step - loss: 0.0051\n",
            "Epoch 63/100\n",
            "10/10 [==============================] - 1s 87ms/step - loss: 0.0049\n",
            "Epoch 64/100\n",
            "10/10 [==============================] - 1s 89ms/step - loss: 0.0050\n",
            "Epoch 65/100\n",
            "10/10 [==============================] - 1s 85ms/step - loss: 0.0046\n",
            "Epoch 66/100\n",
            "10/10 [==============================] - 1s 88ms/step - loss: 0.0050\n",
            "Epoch 67/100\n",
            "10/10 [==============================] - 1s 87ms/step - loss: 0.0053\n",
            "Epoch 68/100\n",
            "10/10 [==============================] - 1s 87ms/step - loss: 0.0051\n",
            "Epoch 69/100\n",
            "10/10 [==============================] - 1s 91ms/step - loss: 0.0047\n",
            "Epoch 70/100\n",
            "10/10 [==============================] - 1s 86ms/step - loss: 0.0049\n",
            "Epoch 71/100\n",
            "10/10 [==============================] - 1s 89ms/step - loss: 0.0051\n",
            "Epoch 72/100\n",
            "10/10 [==============================] - 1s 87ms/step - loss: 0.0049\n",
            "Epoch 73/100\n",
            "10/10 [==============================] - 1s 88ms/step - loss: 0.0047\n",
            "Epoch 74/100\n",
            "10/10 [==============================] - 1s 88ms/step - loss: 0.0049\n",
            "Epoch 75/100\n",
            "10/10 [==============================] - 1s 85ms/step - loss: 0.0045\n",
            "Epoch 76/100\n",
            "10/10 [==============================] - 1s 88ms/step - loss: 0.0052\n",
            "Epoch 77/100\n",
            "10/10 [==============================] - 1s 92ms/step - loss: 0.0049\n",
            "Epoch 78/100\n",
            "10/10 [==============================] - 1s 85ms/step - loss: 0.0045\n",
            "Epoch 79/100\n",
            "10/10 [==============================] - 1s 84ms/step - loss: 0.0049\n",
            "Epoch 80/100\n",
            "10/10 [==============================] - 1s 91ms/step - loss: 0.0047\n",
            "Epoch 81/100\n",
            "10/10 [==============================] - 1s 87ms/step - loss: 0.0047\n",
            "Epoch 82/100\n",
            "10/10 [==============================] - 1s 87ms/step - loss: 0.0049\n",
            "Epoch 83/100\n",
            "10/10 [==============================] - 1s 88ms/step - loss: 0.0047\n",
            "Epoch 84/100\n",
            "10/10 [==============================] - 1s 87ms/step - loss: 0.0042\n",
            "Epoch 85/100\n",
            "10/10 [==============================] - 1s 86ms/step - loss: 0.0040\n",
            "Epoch 86/100\n",
            "10/10 [==============================] - 1s 88ms/step - loss: 0.0045\n",
            "Epoch 87/100\n",
            "10/10 [==============================] - 1s 86ms/step - loss: 0.0043\n",
            "Epoch 88/100\n",
            "10/10 [==============================] - 1s 87ms/step - loss: 0.0042\n",
            "Epoch 89/100\n",
            "10/10 [==============================] - 1s 87ms/step - loss: 0.0042\n",
            "Epoch 90/100\n",
            "10/10 [==============================] - 1s 88ms/step - loss: 0.0048\n",
            "Epoch 91/100\n",
            "10/10 [==============================] - 1s 85ms/step - loss: 0.0046\n",
            "Epoch 92/100\n",
            "10/10 [==============================] - 1s 91ms/step - loss: 0.0041\n",
            "Epoch 93/100\n",
            "10/10 [==============================] - 1s 85ms/step - loss: 0.0049\n",
            "Epoch 94/100\n",
            "10/10 [==============================] - 1s 87ms/step - loss: 0.0047\n",
            "Epoch 95/100\n",
            "10/10 [==============================] - 1s 87ms/step - loss: 0.0043\n",
            "Epoch 96/100\n",
            "10/10 [==============================] - 1s 88ms/step - loss: 0.0044\n",
            "Epoch 97/100\n",
            "10/10 [==============================] - 1s 86ms/step - loss: 0.0042\n",
            "Epoch 98/100\n",
            "10/10 [==============================] - 1s 89ms/step - loss: 0.0040\n",
            "Epoch 99/100\n",
            "10/10 [==============================] - 1s 86ms/step - loss: 0.0040\n",
            "Epoch 100/100\n",
            "10/10 [==============================] - 1s 91ms/step - loss: 0.0037\n"
          ],
          "name": "stdout"
        },
        {
          "output_type": "execute_result",
          "data": {
            "text/plain": [
              "<tensorflow.python.keras.callbacks.History at 0x7ff63b4cae10>"
            ]
          },
          "metadata": {
            "tags": []
          },
          "execution_count": 50
        }
      ]
    },
    {
      "cell_type": "code",
      "metadata": {
        "id": "q_4N5Ny9JXIo"
      },
      "source": [
        "testdata=pd.read_csv('FB_test_data.csv')\n",
        "testdata=testdata.iloc[:,1].values"
      ],
      "execution_count": null,
      "outputs": []
    },
    {
      "cell_type": "code",
      "metadata": {
        "id": "mi6opdwzJmRB",
        "outputId": "4ddb5d85-5edf-482f-d467-83093f061139",
        "colab": {
          "base_uri": "https://localhost:8080/",
          "height": 283
        }
      },
      "source": [
        "plt.plot(testdata)"
      ],
      "execution_count": null,
      "outputs": [
        {
          "output_type": "execute_result",
          "data": {
            "text/plain": [
              "[<matplotlib.lines.Line2D at 0x7ff63b494208>]"
            ]
          },
          "metadata": {
            "tags": []
          },
          "execution_count": 52
        },
        {
          "output_type": "display_data",
          "data": {
            "image/png": "[encoded data removed]",
            "text/plain": [
              "<Figure size 432x288 with 1 Axes>"
            ]
          },
          "metadata": {
            "tags": [],
            "needs_background": "light"
          }
        }
      ]
    },
    {
      "cell_type": "code",
      "metadata": {
        "id": "EgY7xWtHJtXc"
      },
      "source": [
        "unscaledtraindata = pd.read_csv('FB_training_data.csv')\n",
        "unscaledtestdata =pd.read_csv('FB_test_data.csv')"
      ],
      "execution_count": null,
      "outputs": []
    },
    {
      "cell_type": "code",
      "metadata": {
        "id": "1J6BwDLuKdZX"
      },
      "source": [
        "alldata=pd.concat((unscaledtraindata['Open'],unscaledtestdata['Open']),axis=0)"
      ],
      "execution_count": null,
      "outputs": []
    },
    {
      "cell_type": "code",
      "metadata": {
        "id": "rU0KUzAPKrMG"
      },
      "source": [
        "x_testdata=alldata[len(alldata)-len(testdata)-40:].values\n",
        "x_testdata=np.reshape(x_testdata,(-1,1))"
      ],
      "execution_count": null,
      "outputs": []
    },
    {
      "cell_type": "code",
      "metadata": {
        "id": "SDNWWmQ6LMsx"
      },
      "source": [
        "x_testdata=scaler.transform(x_testdata)"
      ],
      "execution_count": null,
      "outputs": []
    },
    {
      "cell_type": "code",
      "metadata": {
        "id": "daaXg_sALqt7"
      },
      "source": [
        "final_x_testdata=[]\n",
        "for i in range(40,len(x_testdata)):\n",
        "    final_x_testdata.append(x_testdata[i-40:i,0])\n",
        "final_x_testdata=np.array(final_x_testdata)"
      ],
      "execution_count": null,
      "outputs": []
    },
    {
      "cell_type": "code",
      "metadata": {
        "id": "SMEXw4W0MRvx"
      },
      "source": [
        "final_x_testdata=np.reshape(final_x_testdata,(final_x_testdata.shape[0],final_x_testdata.shape[1],1))"
      ],
      "execution_count": null,
      "outputs": []
    },
    {
      "cell_type": "code",
      "metadata": {
        "id": "PLclgKj4Mgxe"
      },
      "source": [
        "pred=rnn.predict(final_x_testdata)"
      ],
      "execution_count": null,
      "outputs": []
    },
    {
      "cell_type": "code",
      "metadata": {
        "id": "oOOoNh0QMmtr",
        "outputId": "68129646-8b0e-4927-c867-150535cee7b8",
        "colab": {
          "base_uri": "https://localhost:8080/",
          "height": 283
        }
      },
      "source": [
        "plt.clf()\n",
        "plt.plot(pred)"
      ],
      "execution_count": null,
      "outputs": [
        {
          "output_type": "execute_result",
          "data": {
            "text/plain": [
              "[<matplotlib.lines.Line2D at 0x7ff63b3fc908>]"
            ]
          },
          "metadata": {
            "tags": []
          },
          "execution_count": 60
        },
        {
          "output_type": "display_data",
          "data": {
            "image/png": "[encoded data removed]",
            "text/plain": [
              "<Figure size 432x288 with 1 Axes>"
            ]
          },
          "metadata": {
            "tags": [],
            "needs_background": "light"
          }
        }
      ]
    },
    {
      "cell_type": "code",
      "metadata": {
        "id": "AOz-Sv0eN7rQ"
      },
      "source": [
        "unscaled_pred=scaler.inverse_transform(pred)"
      ],
      "execution_count": null,
      "outputs": []
    },
    {
      "cell_type": "code",
      "metadata": {
        "id": "wHO_Pn_-OH24",
        "outputId": "ae8b8191-7ff8-45f0-e7c1-daa6748ed6d3",
        "colab": {
          "base_uri": "https://localhost:8080/",
          "height": 283
        }
      },
      "source": [
        "plt.clf()\n",
        "plt.plot(unscaled_pred)"
      ],
      "execution_count": null,
      "outputs": [
        {
          "output_type": "execute_result",
          "data": {
            "text/plain": [
              "[<matplotlib.lines.Line2D at 0x7ff63b3b6c50>]"
            ]
          },
          "metadata": {
            "tags": []
          },
          "execution_count": 62
        },
        {
          "output_type": "display_data",
          "data": {
            "image/png": "[encoded data removed]",
            "text/plain": [
              "<Figure size 432x288 with 1 Axes>"
            ]
          },
          "metadata": {
            "tags": [],
            "needs_background": "light"
          }
        }
      ]
    },
    {
      "cell_type": "code",
      "metadata": {
        "id": "vy5kM8fPON1W",
        "outputId": "dc26d821-ef3b-4942-8199-26dc440bbf2e",
        "colab": {
          "base_uri": "https://localhost:8080/",
          "height": 299
        }
      },
      "source": [
        "plt.plot(unscaled_pred,color='#135485',label=\"Predications\")\n",
        "plt.plot(testdata,color=\"black\",label=\"Real data\")\n",
        "plt.title(\"Facebook stock price predictions\")"
      ],
      "execution_count": null,
      "outputs": [
        {
          "output_type": "execute_result",
          "data": {
            "text/plain": [
              "Text(0.5, 1.0, 'Facebook stock price predictions')"
            ]
          },
          "metadata": {
            "tags": []
          },
          "execution_count": 63
        },
        {
          "output_type": "display_data",
          "data": {
            "image/png": "[encoded data removed]",
            "text/plain": [
              "<Figure size 432x288 with 1 Axes>"
            ]
          },
          "metadata": {
            "tags": [],
            "needs_background": "light"
          }
        }
      ]
    }
  ]
}