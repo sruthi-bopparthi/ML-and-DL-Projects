{
 "cells": [
  {
   "cell_type": "code",
   "execution_count": 88,
   "metadata": {},
   "outputs": [],
   "source": [
    "import numpy as np\n",
    "import matplotlib.pyplot as plt\n",
    "import pandas as pd\n",
    "import seaborn as sns\n",
    "from sklearn.linear_model import LinearRegression\n",
    "from sklearn.metrics import accuracy_score,confusion_matrix,mean_squared_error,mean_absolute_error\n",
    "from sklearn.model_selection import train_test_split,cross_val_score\n",
    "from sklearn.model_selection import KFold,StratifiedKFold,LeaveOneOut,ShuffleSplit\n",
    "from sklearn.tree import DecisionTreeClassifier\n",
    "from sklearn.svm import SVC\n",
    "from sklearn.neighbors import KNeighborsClassifier"
   ]
  },
  {
   "cell_type": "code",
   "execution_count": 74,
   "metadata": {},
   "outputs": [],
   "source": [
    "df=pd.read_csv(\"D:\\\\shru\\\\Sem 5\\\\ML\\\\files\\\\mushrooms.csv\")"
   ]
  },
  {
   "cell_type": "code",
   "execution_count": 75,
   "metadata": {
    "scrolled": true
   },
   "outputs": [
    {
     "data": {
      "text/plain": [
       "class                       object\n",
       "cap-shape                   object\n",
       "cap-surface                 object\n",
       "cap-color                   object\n",
       "bruises                     object\n",
       "odor                        object\n",
       "gill-attachment             object\n",
       "gill-spacing                object\n",
       "gill-size                   object\n",
       "gill-color                  object\n",
       "stalk-shape                 object\n",
       "stalk-root                  object\n",
       "stalk-surface-above-ring    object\n",
       "stalk-surface-below-ring    object\n",
       "stalk-color-above-ring      object\n",
       "stalk-color-below-ring      object\n",
       "veil-type                   object\n",
       "veil-color                  object\n",
       "ring-number                 object\n",
       "ring-type                   object\n",
       "spore-print-color           object\n",
       "population                  object\n",
       "habitat                     object\n",
       "dtype: object"
      ]
     },
     "execution_count": 75,
     "metadata": {},
     "output_type": "execute_result"
    }
   ],
   "source": [
    "df.dtypes"
   ]
  },
  {
   "cell_type": "code",
   "execution_count": 76,
   "metadata": {},
   "outputs": [
    {
     "name": "stdout",
     "output_type": "stream",
     "text": [
      "class   ['p' 'e']\n",
      "cap-shape   ['x' 'b' 's' 'f' 'k' 'c']\n",
      "cap-surface   ['s' 'y' 'f' 'g']\n",
      "cap-color   ['n' 'y' 'w' 'g' 'e' 'p' 'b' 'u' 'c' 'r']\n",
      "bruises   ['t' 'f']\n",
      "odor   ['p' 'a' 'l' 'n' 'f' 'c' 'y' 's' 'm']\n",
      "gill-attachment   ['f' 'a']\n",
      "gill-spacing   ['c' 'w']\n",
      "gill-size   ['n' 'b']\n",
      "gill-color   ['k' 'n' 'g' 'p' 'w' 'h' 'u' 'e' 'b' 'r' 'y' 'o']\n",
      "stalk-shape   ['e' 't']\n",
      "stalk-root   ['e' 'c' 'b' 'r' '?']\n",
      "stalk-surface-above-ring   ['s' 'f' 'k' 'y']\n",
      "stalk-surface-below-ring   ['s' 'f' 'y' 'k']\n",
      "stalk-color-above-ring   ['w' 'g' 'p' 'n' 'b' 'e' 'o' 'c' 'y']\n",
      "stalk-color-below-ring   ['w' 'p' 'g' 'b' 'n' 'e' 'y' 'o' 'c']\n",
      "veil-type   ['p']\n",
      "veil-color   ['w' 'n' 'o' 'y']\n",
      "ring-number   ['o' 't' 'n']\n",
      "ring-type   ['p' 'e' 'l' 'f' 'n']\n",
      "spore-print-color   ['k' 'n' 'u' 'h' 'w' 'r' 'o' 'y' 'b']\n",
      "population   ['s' 'n' 'a' 'v' 'y' 'c']\n",
      "habitat   ['u' 'g' 'm' 'd' 'p' 'w' 'l']\n"
     ]
    }
   ],
   "source": [
    "for i in df:\n",
    "    print(i,\" \",df[i].unique())"
   ]
  },
  {
   "cell_type": "code",
   "execution_count": 77,
   "metadata": {},
   "outputs": [
    {
     "data": {
      "text/plain": [
       "0    b\n",
       "dtype: object"
      ]
     },
     "execution_count": 77,
     "metadata": {},
     "output_type": "execute_result"
    }
   ],
   "source": [
    "df['stalk-root'].mode()"
   ]
  },
  {
   "cell_type": "code",
   "execution_count": 78,
   "metadata": {},
   "outputs": [],
   "source": [
    "s={'?':'b'}\n",
    "df['stalk-root']=df['stalk-root'].replace(s)"
   ]
  },
  {
   "cell_type": "code",
   "execution_count": 79,
   "metadata": {},
   "outputs": [
    {
     "data": {
      "text/plain": [
       "0       e\n",
       "1       c\n",
       "2       c\n",
       "3       e\n",
       "4       e\n",
       "       ..\n",
       "8119    b\n",
       "8120    b\n",
       "8121    b\n",
       "8122    b\n",
       "8123    b\n",
       "Name: stalk-root, Length: 8124, dtype: object"
      ]
     },
     "execution_count": 79,
     "metadata": {},
     "output_type": "execute_result"
    }
   ],
   "source": [
    "df['stalk-root']"
   ]
  },
  {
   "cell_type": "code",
   "execution_count": 80,
   "metadata": {},
   "outputs": [],
   "source": [
    "df['class'].replace(to_replace=['p','e'],value=[1,2],inplace=True)\n",
    "df['cap-shape'].replace(to_replace=['x','b','s','f','k','c'],value=[1,2,3,4,5,6],inplace=True)\n",
    "df['cap-surface'].replace(to_replace=['s','y','f','g'],value=[1,2,3,4],inplace=True)\n",
    "df['cap-color'].replace(to_replace=['n','y','w','g','e','p','b','u','c','r'],value=[1,2,3,4,5,6,7,8,9,10],inplace=True)\n",
    "df['bruises'].replace(to_replace=['t','f'],value=[1,2],inplace=True)\n",
    "df['odor'].replace(to_replace=['p','a','l','n','f','c','y','s','m'],value=[1,2,3,4,5,6,7,8,9],inplace=True)\n",
    "df['gill-attachment'].replace(to_replace=['f','a'],value=[1,2],inplace=True)\n",
    "df['gill-spacing'].replace(to_replace=['c','w'],value=[1,2],inplace=True)\n",
    "df['gill-size'].replace(to_replace=['n','b'],value=[1,2],inplace=True)\n",
    "df['gill-color'].replace(to_replace=['k','n','g','p','w','h','u','e','b','r','y','o'],value=[1,2,3,4,5,6,7,8,9,10,11,12],inplace=True)\n",
    "df['stalk-shape'].replace(to_replace=['e','t'],value=[1,2],inplace=True)\n",
    "df['stalk-root'].replace(to_replace=['e','c','b','r'],value=[1,2,3,4],inplace=True)\n",
    "df['stalk-surface-above-ring'].replace(to_replace=['s','f','k','y'],value=[1,2,3,4],inplace=True)\n",
    "df['stalk-surface-below-ring'].replace(to_replace=['s','f','k','y'],value=[1,2,3,4],inplace=True)\n",
    "df['stalk-color-above-ring'].replace(to_replace=['w','g','p','n','b','e','o','c','y'],value=[1,2,3,4,5,6,7,8,9],inplace=True)\n",
    "df['stalk-color-below-ring'].replace(to_replace=['w','p','g','b','n','e','y','o','c'],value=[1,2,3,4,5,6,7,8,9],inplace=True)\n",
    "df['veil-type'].replace(to_replace=['p'],value=[1],inplace=True)\n",
    "df['veil-color'].replace(to_replace=['w','n','o','y'],value=[1,2,3,4],inplace=True)\n",
    "df['ring-number'].replace(to_replace=['o','t','n'],value=[1,2,3],inplace=True)\n",
    "df['ring-type'].replace(to_replace=['p','e','l','f','n'],value=[1,2,3,4,5],inplace=True)\n",
    "df['spore-print-color'].replace(to_replace=['k','n','u','h','w','r','o','y','b'],value=[1,2,3,4,5,6,7,8,9],inplace=True)\n",
    "df['population'].replace(to_replace=['s','n','a','v','y','c'],value=[1,2,3,4,5,6],inplace=True)\n",
    "df['habitat'].replace(to_replace=['u','g','m','d','p','w','l'],value=[1,2,3,4,5,6,7],inplace=True)"
   ]
  },
  {
   "cell_type": "code",
   "execution_count": 82,
   "metadata": {},
   "outputs": [
    {
     "data": {
      "text/html": [
       "<div>\n",
       "<style scoped>\n",
       "    .dataframe tbody tr th:only-of-type {\n",
       "        vertical-align: middle;\n",
       "    }\n",
       "\n",
       "    .dataframe tbody tr th {\n",
       "        vertical-align: top;\n",
       "    }\n",
       "\n",
       "    .dataframe thead th {\n",
       "        text-align: right;\n",
       "    }\n",
       "</style>\n",
       "<table border=\"1\" class=\"dataframe\">\n",
       "  <thead>\n",
       "    <tr style=\"text-align: right;\">\n",
       "      <th></th>\n",
       "      <th>class</th>\n",
       "      <th>cap-shape</th>\n",
       "      <th>cap-surface</th>\n",
       "      <th>cap-color</th>\n",
       "      <th>bruises</th>\n",
       "      <th>odor</th>\n",
       "      <th>gill-attachment</th>\n",
       "      <th>gill-spacing</th>\n",
       "      <th>gill-size</th>\n",
       "      <th>gill-color</th>\n",
       "      <th>...</th>\n",
       "      <th>stalk-surface-below-ring</th>\n",
       "      <th>stalk-color-above-ring</th>\n",
       "      <th>stalk-color-below-ring</th>\n",
       "      <th>veil-type</th>\n",
       "      <th>veil-color</th>\n",
       "      <th>ring-number</th>\n",
       "      <th>ring-type</th>\n",
       "      <th>spore-print-color</th>\n",
       "      <th>population</th>\n",
       "      <th>habitat</th>\n",
       "    </tr>\n",
       "  </thead>\n",
       "  <tbody>\n",
       "    <tr>\n",
       "      <th>0</th>\n",
       "      <td>1</td>\n",
       "      <td>1</td>\n",
       "      <td>1</td>\n",
       "      <td>1</td>\n",
       "      <td>1</td>\n",
       "      <td>1</td>\n",
       "      <td>1</td>\n",
       "      <td>1</td>\n",
       "      <td>1</td>\n",
       "      <td>1</td>\n",
       "      <td>...</td>\n",
       "      <td>1</td>\n",
       "      <td>1</td>\n",
       "      <td>1</td>\n",
       "      <td>1</td>\n",
       "      <td>1</td>\n",
       "      <td>1</td>\n",
       "      <td>1</td>\n",
       "      <td>1</td>\n",
       "      <td>1</td>\n",
       "      <td>1</td>\n",
       "    </tr>\n",
       "    <tr>\n",
       "      <th>1</th>\n",
       "      <td>2</td>\n",
       "      <td>1</td>\n",
       "      <td>1</td>\n",
       "      <td>2</td>\n",
       "      <td>1</td>\n",
       "      <td>2</td>\n",
       "      <td>1</td>\n",
       "      <td>1</td>\n",
       "      <td>2</td>\n",
       "      <td>1</td>\n",
       "      <td>...</td>\n",
       "      <td>1</td>\n",
       "      <td>1</td>\n",
       "      <td>1</td>\n",
       "      <td>1</td>\n",
       "      <td>1</td>\n",
       "      <td>1</td>\n",
       "      <td>1</td>\n",
       "      <td>2</td>\n",
       "      <td>2</td>\n",
       "      <td>2</td>\n",
       "    </tr>\n",
       "    <tr>\n",
       "      <th>2</th>\n",
       "      <td>2</td>\n",
       "      <td>2</td>\n",
       "      <td>1</td>\n",
       "      <td>3</td>\n",
       "      <td>1</td>\n",
       "      <td>3</td>\n",
       "      <td>1</td>\n",
       "      <td>1</td>\n",
       "      <td>2</td>\n",
       "      <td>2</td>\n",
       "      <td>...</td>\n",
       "      <td>1</td>\n",
       "      <td>1</td>\n",
       "      <td>1</td>\n",
       "      <td>1</td>\n",
       "      <td>1</td>\n",
       "      <td>1</td>\n",
       "      <td>1</td>\n",
       "      <td>2</td>\n",
       "      <td>2</td>\n",
       "      <td>3</td>\n",
       "    </tr>\n",
       "    <tr>\n",
       "      <th>3</th>\n",
       "      <td>1</td>\n",
       "      <td>1</td>\n",
       "      <td>2</td>\n",
       "      <td>3</td>\n",
       "      <td>1</td>\n",
       "      <td>1</td>\n",
       "      <td>1</td>\n",
       "      <td>1</td>\n",
       "      <td>1</td>\n",
       "      <td>2</td>\n",
       "      <td>...</td>\n",
       "      <td>1</td>\n",
       "      <td>1</td>\n",
       "      <td>1</td>\n",
       "      <td>1</td>\n",
       "      <td>1</td>\n",
       "      <td>1</td>\n",
       "      <td>1</td>\n",
       "      <td>1</td>\n",
       "      <td>1</td>\n",
       "      <td>1</td>\n",
       "    </tr>\n",
       "    <tr>\n",
       "      <th>4</th>\n",
       "      <td>2</td>\n",
       "      <td>1</td>\n",
       "      <td>1</td>\n",
       "      <td>4</td>\n",
       "      <td>2</td>\n",
       "      <td>4</td>\n",
       "      <td>1</td>\n",
       "      <td>2</td>\n",
       "      <td>2</td>\n",
       "      <td>1</td>\n",
       "      <td>...</td>\n",
       "      <td>1</td>\n",
       "      <td>1</td>\n",
       "      <td>1</td>\n",
       "      <td>1</td>\n",
       "      <td>1</td>\n",
       "      <td>1</td>\n",
       "      <td>2</td>\n",
       "      <td>2</td>\n",
       "      <td>3</td>\n",
       "      <td>2</td>\n",
       "    </tr>\n",
       "    <tr>\n",
       "      <th>...</th>\n",
       "      <td>...</td>\n",
       "      <td>...</td>\n",
       "      <td>...</td>\n",
       "      <td>...</td>\n",
       "      <td>...</td>\n",
       "      <td>...</td>\n",
       "      <td>...</td>\n",
       "      <td>...</td>\n",
       "      <td>...</td>\n",
       "      <td>...</td>\n",
       "      <td>...</td>\n",
       "      <td>...</td>\n",
       "      <td>...</td>\n",
       "      <td>...</td>\n",
       "      <td>...</td>\n",
       "      <td>...</td>\n",
       "      <td>...</td>\n",
       "      <td>...</td>\n",
       "      <td>...</td>\n",
       "      <td>...</td>\n",
       "      <td>...</td>\n",
       "    </tr>\n",
       "    <tr>\n",
       "      <th>8119</th>\n",
       "      <td>2</td>\n",
       "      <td>5</td>\n",
       "      <td>1</td>\n",
       "      <td>1</td>\n",
       "      <td>2</td>\n",
       "      <td>4</td>\n",
       "      <td>2</td>\n",
       "      <td>1</td>\n",
       "      <td>2</td>\n",
       "      <td>11</td>\n",
       "      <td>...</td>\n",
       "      <td>1</td>\n",
       "      <td>7</td>\n",
       "      <td>8</td>\n",
       "      <td>1</td>\n",
       "      <td>3</td>\n",
       "      <td>1</td>\n",
       "      <td>1</td>\n",
       "      <td>9</td>\n",
       "      <td>6</td>\n",
       "      <td>7</td>\n",
       "    </tr>\n",
       "    <tr>\n",
       "      <th>8120</th>\n",
       "      <td>2</td>\n",
       "      <td>1</td>\n",
       "      <td>1</td>\n",
       "      <td>1</td>\n",
       "      <td>2</td>\n",
       "      <td>4</td>\n",
       "      <td>2</td>\n",
       "      <td>1</td>\n",
       "      <td>2</td>\n",
       "      <td>11</td>\n",
       "      <td>...</td>\n",
       "      <td>1</td>\n",
       "      <td>7</td>\n",
       "      <td>8</td>\n",
       "      <td>1</td>\n",
       "      <td>2</td>\n",
       "      <td>1</td>\n",
       "      <td>1</td>\n",
       "      <td>9</td>\n",
       "      <td>4</td>\n",
       "      <td>7</td>\n",
       "    </tr>\n",
       "    <tr>\n",
       "      <th>8121</th>\n",
       "      <td>2</td>\n",
       "      <td>4</td>\n",
       "      <td>1</td>\n",
       "      <td>1</td>\n",
       "      <td>2</td>\n",
       "      <td>4</td>\n",
       "      <td>2</td>\n",
       "      <td>1</td>\n",
       "      <td>2</td>\n",
       "      <td>2</td>\n",
       "      <td>...</td>\n",
       "      <td>1</td>\n",
       "      <td>7</td>\n",
       "      <td>8</td>\n",
       "      <td>1</td>\n",
       "      <td>3</td>\n",
       "      <td>1</td>\n",
       "      <td>1</td>\n",
       "      <td>9</td>\n",
       "      <td>6</td>\n",
       "      <td>7</td>\n",
       "    </tr>\n",
       "    <tr>\n",
       "      <th>8122</th>\n",
       "      <td>1</td>\n",
       "      <td>5</td>\n",
       "      <td>2</td>\n",
       "      <td>1</td>\n",
       "      <td>2</td>\n",
       "      <td>7</td>\n",
       "      <td>1</td>\n",
       "      <td>1</td>\n",
       "      <td>1</td>\n",
       "      <td>9</td>\n",
       "      <td>...</td>\n",
       "      <td>3</td>\n",
       "      <td>1</td>\n",
       "      <td>1</td>\n",
       "      <td>1</td>\n",
       "      <td>1</td>\n",
       "      <td>1</td>\n",
       "      <td>2</td>\n",
       "      <td>5</td>\n",
       "      <td>4</td>\n",
       "      <td>7</td>\n",
       "    </tr>\n",
       "    <tr>\n",
       "      <th>8123</th>\n",
       "      <td>2</td>\n",
       "      <td>1</td>\n",
       "      <td>1</td>\n",
       "      <td>1</td>\n",
       "      <td>2</td>\n",
       "      <td>4</td>\n",
       "      <td>2</td>\n",
       "      <td>1</td>\n",
       "      <td>2</td>\n",
       "      <td>11</td>\n",
       "      <td>...</td>\n",
       "      <td>1</td>\n",
       "      <td>7</td>\n",
       "      <td>8</td>\n",
       "      <td>1</td>\n",
       "      <td>3</td>\n",
       "      <td>1</td>\n",
       "      <td>1</td>\n",
       "      <td>7</td>\n",
       "      <td>6</td>\n",
       "      <td>7</td>\n",
       "    </tr>\n",
       "  </tbody>\n",
       "</table>\n",
       "<p>8124 rows × 23 columns</p>\n",
       "</div>"
      ],
      "text/plain": [
       "      class  cap-shape  cap-surface  cap-color  bruises  odor  \\\n",
       "0         1          1            1          1        1     1   \n",
       "1         2          1            1          2        1     2   \n",
       "2         2          2            1          3        1     3   \n",
       "3         1          1            2          3        1     1   \n",
       "4         2          1            1          4        2     4   \n",
       "...     ...        ...          ...        ...      ...   ...   \n",
       "8119      2          5            1          1        2     4   \n",
       "8120      2          1            1          1        2     4   \n",
       "8121      2          4            1          1        2     4   \n",
       "8122      1          5            2          1        2     7   \n",
       "8123      2          1            1          1        2     4   \n",
       "\n",
       "      gill-attachment  gill-spacing  gill-size  gill-color  ...  \\\n",
       "0                   1             1          1           1  ...   \n",
       "1                   1             1          2           1  ...   \n",
       "2                   1             1          2           2  ...   \n",
       "3                   1             1          1           2  ...   \n",
       "4                   1             2          2           1  ...   \n",
       "...               ...           ...        ...         ...  ...   \n",
       "8119                2             1          2          11  ...   \n",
       "8120                2             1          2          11  ...   \n",
       "8121                2             1          2           2  ...   \n",
       "8122                1             1          1           9  ...   \n",
       "8123                2             1          2          11  ...   \n",
       "\n",
       "      stalk-surface-below-ring  stalk-color-above-ring  \\\n",
       "0                            1                       1   \n",
       "1                            1                       1   \n",
       "2                            1                       1   \n",
       "3                            1                       1   \n",
       "4                            1                       1   \n",
       "...                        ...                     ...   \n",
       "8119                         1                       7   \n",
       "8120                         1                       7   \n",
       "8121                         1                       7   \n",
       "8122                         3                       1   \n",
       "8123                         1                       7   \n",
       "\n",
       "      stalk-color-below-ring  veil-type  veil-color  ring-number  ring-type  \\\n",
       "0                          1          1           1            1          1   \n",
       "1                          1          1           1            1          1   \n",
       "2                          1          1           1            1          1   \n",
       "3                          1          1           1            1          1   \n",
       "4                          1          1           1            1          2   \n",
       "...                      ...        ...         ...          ...        ...   \n",
       "8119                       8          1           3            1          1   \n",
       "8120                       8          1           2            1          1   \n",
       "8121                       8          1           3            1          1   \n",
       "8122                       1          1           1            1          2   \n",
       "8123                       8          1           3            1          1   \n",
       "\n",
       "      spore-print-color  population  habitat  \n",
       "0                     1           1        1  \n",
       "1                     2           2        2  \n",
       "2                     2           2        3  \n",
       "3                     1           1        1  \n",
       "4                     2           3        2  \n",
       "...                 ...         ...      ...  \n",
       "8119                  9           6        7  \n",
       "8120                  9           4        7  \n",
       "8121                  9           6        7  \n",
       "8122                  5           4        7  \n",
       "8123                  7           6        7  \n",
       "\n",
       "[8124 rows x 23 columns]"
      ]
     },
     "execution_count": 82,
     "metadata": {},
     "output_type": "execute_result"
    }
   ],
   "source": [
    "df"
   ]
  },
  {
   "cell_type": "code",
   "execution_count": 83,
   "metadata": {},
   "outputs": [],
   "source": [
    "X = df.drop(['class'], axis =1)\n",
    "Y = df['class']"
   ]
  },
  {
   "cell_type": "code",
   "execution_count": 84,
   "metadata": {},
   "outputs": [
    {
     "name": "stdout",
     "output_type": "stream",
     "text": [
      "Accuracy: 100.00%\n"
     ]
    }
   ],
   "source": [
    "#Training\n",
    "cv = KFold(n_splits=5,random_state=1,shuffle=True)\n",
    "dectree=DecisionTreeClassifier()\n",
    "scores=cross_val_score(dectree,X,Y,scoring='accuracy',cv=cv)\n",
    "print(\"Accuracy: %.2f%%\" % (scores.mean()*100.0))"
   ]
  },
  {
   "cell_type": "code",
   "execution_count": 85,
   "metadata": {},
   "outputs": [
    {
     "data": {
      "text/plain": [
       "array([1., 1., 1., 1., 1.])"
      ]
     },
     "execution_count": 85,
     "metadata": {},
     "output_type": "execute_result"
    }
   ],
   "source": [
    "scores"
   ]
  },
  {
   "cell_type": "code",
   "execution_count": 86,
   "metadata": {},
   "outputs": [
    {
     "name": "stdout",
     "output_type": "stream",
     "text": [
      "Accuracy:91.4305115574081\n"
     ]
    }
   ],
   "source": [
    "skfold = StratifiedKFold(n_splits=5)\n",
    "dectree=DecisionTreeClassifier()\n",
    "scores = cross_val_score(dectree,X,Y,scoring='accuracy',cv=skfold)\n",
    "print(\"Accuracy:{0}\".format(scores.mean()*100.0))"
   ]
  },
  {
   "cell_type": "code",
   "execution_count": 87,
   "metadata": {},
   "outputs": [
    {
     "data": {
      "text/plain": [
       "array([0.84246154, 1.        , 1.        , 1.        , 0.72906404])"
      ]
     },
     "execution_count": 87,
     "metadata": {},
     "output_type": "execute_result"
    }
   ],
   "source": [
    "scores"
   ]
  },
  {
   "cell_type": "code",
   "execution_count": 89,
   "metadata": {},
   "outputs": [
    {
     "name": "stdout",
     "output_type": "stream",
     "text": [
      "Accuracy:99.90153846153845\n"
     ]
    }
   ],
   "source": [
    "###########USING SVC #############\n",
    "cv = KFold(n_splits=5,random_state=1,shuffle=True)\n",
    "dectree=SVC()\n",
    "scores = cross_val_score(dectree,X,Y,scoring='accuracy',cv=cv)\n",
    "print(\"Accuracy:{0}\".format(scores.mean()*100.0))"
   ]
  },
  {
   "cell_type": "code",
   "execution_count": 90,
   "metadata": {},
   "outputs": [
    {
     "data": {
      "text/plain": [
       "array([0.99692308, 1.        , 0.99876923, 0.99938462, 1.        ])"
      ]
     },
     "execution_count": 90,
     "metadata": {},
     "output_type": "execute_result"
    }
   ],
   "source": [
    "scores"
   ]
  },
  {
   "cell_type": "code",
   "execution_count": 91,
   "metadata": {},
   "outputs": [
    {
     "name": "stdout",
     "output_type": "stream",
     "text": [
      "Accuracy:86.41845395983327\n"
     ]
    }
   ],
   "source": [
    "skfold = StratifiedKFold(n_splits=5)\n",
    "dectree=SVC()\n",
    "scores = cross_val_score(dectree,X,Y,scoring='accuracy',cv=skfold)\n",
    "print(\"Accuracy:{0}\".format(scores.mean()*100.0))"
   ]
  },
  {
   "cell_type": "code",
   "execution_count": 92,
   "metadata": {},
   "outputs": [
    {
     "data": {
      "text/plain": [
       "array([0.84246154, 0.99938462, 0.97969231, 1.        , 0.49938424])"
      ]
     },
     "execution_count": 92,
     "metadata": {},
     "output_type": "execute_result"
    }
   ],
   "source": [
    "scores"
   ]
  },
  {
   "cell_type": "code",
   "execution_count": 93,
   "metadata": {},
   "outputs": [
    {
     "name": "stdout",
     "output_type": "stream",
     "text": [
      "Accuracy:99.97538461538461\n"
     ]
    }
   ],
   "source": [
    "##################Using K-neighbor############\n",
    "cv = KFold(n_splits=5,random_state=1,shuffle=True)\n",
    "dectree= KNeighborsClassifier()\n",
    "scores = cross_val_score(dectree,X,Y,scoring='accuracy',cv=cv)\n",
    "print(\"Accuracy:{0}\".format(scores.mean()*100.0))"
   ]
  },
  {
   "cell_type": "code",
   "execution_count": 94,
   "metadata": {},
   "outputs": [
    {
     "data": {
      "text/plain": [
       "array([0.99876923, 1.        , 1.        , 1.        , 1.        ])"
      ]
     },
     "execution_count": 94,
     "metadata": {},
     "output_type": "execute_result"
    }
   ],
   "source": [
    "scores"
   ]
  },
  {
   "cell_type": "code",
   "execution_count": 95,
   "metadata": {},
   "outputs": [
    {
     "name": "stdout",
     "output_type": "stream",
     "text": [
      "Accuracy:86.68942781356576\n"
     ]
    }
   ],
   "source": [
    "skfold = StratifiedKFold(n_splits=5)\n",
    "dectree=KNeighborsClassifier()\n",
    "scores = cross_val_score(dectree,X,Y,scoring='accuracy',cv=skfold)\n",
    "print(\"Accuracy:{0}\".format(scores.mean()*100.0))"
   ]
  },
  {
   "cell_type": "code",
   "execution_count": 96,
   "metadata": {},
   "outputs": [
    {
     "data": {
      "text/plain": [
       "array([0.82584615, 1.        , 0.99261538, 1.        , 0.51600985])"
      ]
     },
     "execution_count": 96,
     "metadata": {},
     "output_type": "execute_result"
    }
   ],
   "source": [
    "scores"
   ]
  },
  {
   "cell_type": "code",
   "execution_count": 97,
   "metadata": {},
   "outputs": [],
   "source": [
    "############Fitting using decision tree classifier\n",
    "(train_feat,test_feat,train_classes,test_classes)=train_test_split(X,Y,train_size=0.8,random_state=1)"
   ]
  },
  {
   "cell_type": "code",
   "execution_count": 98,
   "metadata": {},
   "outputs": [
    {
     "data": {
      "text/plain": [
       "DecisionTreeClassifier(ccp_alpha=0.0, class_weight=None, criterion='gini',\n",
       "                       max_depth=None, max_features=None, max_leaf_nodes=None,\n",
       "                       min_impurity_decrease=0.0, min_impurity_split=None,\n",
       "                       min_samples_leaf=1, min_samples_split=2,\n",
       "                       min_weight_fraction_leaf=0.0, presort='deprecated',\n",
       "                       random_state=None, splitter='best')"
      ]
     },
     "execution_count": 98,
     "metadata": {},
     "output_type": "execute_result"
    }
   ],
   "source": [
    "#Training\n",
    "dectree=DecisionTreeClassifier()\n",
    "dectree.fit(train_feat,train_classes)"
   ]
  },
  {
   "cell_type": "code",
   "execution_count": 99,
   "metadata": {},
   "outputs": [
    {
     "name": "stdout",
     "output_type": "stream",
     "text": [
      "Accuracy: 100.0\n"
     ]
    }
   ],
   "source": [
    "#Testing\n",
    "pred=dectree.predict(test_feat)\n",
    "print(\"Accuracy:\",accuracy_score(test_classes,pred)*100)"
   ]
  },
  {
   "cell_type": "code",
   "execution_count": null,
   "metadata": {},
   "outputs": [],
   "source": []
  }
 ],
 "metadata": {
  "kernelspec": {
   "display_name": "Python 3",
   "language": "python",
   "name": "python3"
  },
  "language_info": {
   "codemirror_mode": {
    "name": "ipython",
    "version": 3
   },
   "file_extension": ".py",
   "mimetype": "text/x-python",
   "name": "python",
   "nbconvert_exporter": "python",
   "pygments_lexer": "ipython3",
   "version": "3.7.4"
  }
 },
 "nbformat": 4,
 "nbformat_minor": 4
}
