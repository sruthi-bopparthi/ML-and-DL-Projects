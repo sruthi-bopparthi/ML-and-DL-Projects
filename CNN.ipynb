{
  "nbformat": 4,
  "nbformat_minor": 0,
  "metadata": {
    "colab": {
      "name": "36_Devanshi Patel(cnn).ipynb",
      "provenance": []
    },
    "kernelspec": {
      "name": "python3",
      "display_name": "Python 3"
    }
  },
  "cells": [
    {
      "cell_type": "code",
      "metadata": {
        "id": "c8kT18ilrHT-"
      },
      "source": [
        "import numpy as np\n",
        "import keras\n",
        "from keras.datasets import mnist\n",
        "from keras.models import Sequential\n",
        "from keras.layers import Dense,Dropout,Flatten,Conv2D,MaxPooling2D\n",
        "from keras import backend as K\n",
        "from keras.preprocessing import image\n",
        "from keras.applications.mobilenet import MobileNet\n",
        "from keras.models import Model\n",
        "import timeit"
      ],
      "execution_count": null,
      "outputs": []
    },
    {
      "cell_type": "code",
      "metadata": {
        "id": "tnbiWppJsC_p",
        "outputId": "f7fcd1b4-42f3-4d23-a08a-e8bce5216136",
        "colab": {
          "base_uri": "https://localhost:8080/"
        }
      },
      "source": [
        "batch_size = 128\n",
        "num_classes=10\n",
        "epochs=2\n",
        "\n",
        "#input img dimensions\n",
        "img_rows,img_cols=28,28\n",
        "\n",
        "(x_train,y_train),(x_test,y_test)=mnist.load_data()\n",
        "\n",
        "if K.image_data_format() == 'channels_first':\n",
        "    x_train=x_train.reshape(x_train.shape[0],1,img_rows,img_cols)\n",
        "    x_test=x_test.reshape(x_test.shape[0],1,img_rows,img_cols)\n",
        "    input_shape=(1,img_rows,img_cols)\n",
        "else:\n",
        "   x_train=x_train.reshape(x_train.shape[0],img_rows,img_cols,1)\n",
        "   x_test=x_test.reshape(x_test.shape[0],img_rows,img_cols,1)\n",
        "   input_shape=(img_rows,img_cols,1)\n",
        "x_train=x_train.astype('float32')\n",
        "x_test=x_test.astype('float32')\n",
        "x_train /=255\n",
        "x_test /=255\n",
        "print('x_train shape:',x_train.shape)\n",
        "print(x_train.shape[0],'train samples')\n",
        "print(x_test.shape[0],'test samples')\n",
        "#convert class vectors o binary clss matrices\n",
        "y_train = keras.utils.to_categorical(y_train,num_classes)\n",
        "y_test = keras.utils.to_categorical(y_test,num_classes)\n",
        "\n"
      ],
      "execution_count": null,
      "outputs": [
        {
          "output_type": "stream",
          "text": [
            "x_train shape: (60000, 28, 28, 1)\n",
            "60000 train samples\n",
            "10000 test samples\n"
          ],
          "name": "stdout"
        }
      ]
    },
    {
      "cell_type": "code",
      "metadata": {
        "id": "5IdNaqp4rhhM",
        "outputId": "41407417-6f8c-4554-df19-f3d326aaf70a",
        "colab": {
          "base_uri": "https://localhost:8080/"
        }
      },
      "source": [
        "model = Sequential()\n",
        "model.add(Conv2D(8, kernel_size=(3, 3), activation='relu', input_shape=input_shape))\n",
        "model.add(MaxPooling2D(pool_size=(2, 2)))\n",
        "model.add(Conv2D(16,(3, 3), activation='relu'))\n",
        "model.add(MaxPooling2D (pool_size=(2, 2)))\n",
        "model.add(Dropout(0.25))\n",
        "model.add(Flatten())\n",
        "model.add(Dense(32, activation='relu'))\n",
        "model.add(Dropout(0.5))\n",
        "model.add (Dense(num_classes, activation='softmax'))\n",
        "model.summary()"
      ],
      "execution_count": null,
      "outputs": [
        {
          "output_type": "stream",
          "text": [
            "Model: \"sequential_4\"\n",
            "_________________________________________________________________\n",
            "Layer (type)                 Output Shape              Param #   \n",
            "=================================================================\n",
            "conv2d_8 (Conv2D)            (None, 26, 26, 8)         80        \n",
            "_________________________________________________________________\n",
            "max_pooling2d_8 (MaxPooling2 (None, 13, 13, 8)         0         \n",
            "_________________________________________________________________\n",
            "conv2d_9 (Conv2D)            (None, 11, 11, 16)        1168      \n",
            "_________________________________________________________________\n",
            "max_pooling2d_9 (MaxPooling2 (None, 5, 5, 16)          0         \n",
            "_________________________________________________________________\n",
            "dropout_8 (Dropout)          (None, 5, 5, 16)          0         \n",
            "_________________________________________________________________\n",
            "flatten_4 (Flatten)          (None, 400)               0         \n",
            "_________________________________________________________________\n",
            "dense_8 (Dense)              (None, 32)                12832     \n",
            "_________________________________________________________________\n",
            "dropout_9 (Dropout)          (None, 32)                0         \n",
            "_________________________________________________________________\n",
            "dense_9 (Dense)              (None, 10)                330       \n",
            "=================================================================\n",
            "Total params: 14,410\n",
            "Trainable params: 14,410\n",
            "Non-trainable params: 0\n",
            "_________________________________________________________________\n"
          ],
          "name": "stdout"
        }
      ]
    },
    {
      "cell_type": "code",
      "metadata": {
        "id": "KfqTVv8KwCn-"
      },
      "source": [
        "model.compile(loss=keras.losses.categorical_crossentropy,optimizer=keras.optimizers.Adadelta(),metrics=['accuracy'])"
      ],
      "execution_count": null,
      "outputs": []
    },
    {
      "cell_type": "code",
      "metadata": {
        "id": "wA3WjITBx8Bs",
        "outputId": "21d2685b-65a0-46a7-de37-f97c3d8f2d21",
        "colab": {
          "base_uri": "https://localhost:8080/"
        }
      },
      "source": [
        "history=model.fit(x_train,y_train,\n",
        "         batch_size=batch_size,\n",
        "         epochs=100,\n",
        "         verbose=1,\n",
        "         validation_data=(x_test,y_test))"
      ],
      "execution_count": null,
      "outputs": [
        {
          "output_type": "stream",
          "text": [
            "Epoch 1/100\n",
            "469/469 [==============================] - 21s 45ms/step - loss: 2.3346 - accuracy: 0.0954 - val_loss: 2.3122 - val_accuracy: 0.0965\n",
            "Epoch 2/100\n",
            "469/469 [==============================] - 20s 43ms/step - loss: 2.3281 - accuracy: 0.0953 - val_loss: 2.3055 - val_accuracy: 0.1012\n",
            "Epoch 3/100\n",
            "469/469 [==============================] - 20s 42ms/step - loss: 2.3192 - accuracy: 0.0993 - val_loss: 2.2993 - val_accuracy: 0.1072\n",
            "Epoch 4/100\n",
            "469/469 [==============================] - 19s 40ms/step - loss: 2.3120 - accuracy: 0.1003 - val_loss: 2.2934 - val_accuracy: 0.1162\n",
            "Epoch 5/100\n",
            "469/469 [==============================] - 19s 41ms/step - loss: 2.3065 - accuracy: 0.1057 - val_loss: 2.2878 - val_accuracy: 0.1243\n",
            "Epoch 6/100\n",
            "469/469 [==============================] - 20s 42ms/step - loss: 2.3015 - accuracy: 0.1071 - val_loss: 2.2825 - val_accuracy: 0.1321\n",
            "Epoch 7/100\n",
            "469/469 [==============================] - 20s 42ms/step - loss: 2.2953 - accuracy: 0.1131 - val_loss: 2.2772 - val_accuracy: 0.1394\n",
            "Epoch 8/100\n",
            "469/469 [==============================] - 20s 42ms/step - loss: 2.2913 - accuracy: 0.1133 - val_loss: 2.2721 - val_accuracy: 0.1471\n",
            "Epoch 9/100\n",
            "469/469 [==============================] - 20s 42ms/step - loss: 2.2864 - accuracy: 0.1174 - val_loss: 2.2671 - val_accuracy: 0.1556\n",
            "Epoch 10/100\n",
            "469/469 [==============================] - 20s 42ms/step - loss: 2.2804 - accuracy: 0.1213 - val_loss: 2.2621 - val_accuracy: 0.1657\n",
            "Epoch 11/100\n",
            "469/469 [==============================] - 20s 42ms/step - loss: 2.2756 - accuracy: 0.1271 - val_loss: 2.2572 - val_accuracy: 0.1751\n",
            "Epoch 12/100\n",
            "469/469 [==============================] - 20s 43ms/step - loss: 2.2710 - accuracy: 0.1309 - val_loss: 2.2522 - val_accuracy: 0.1842\n",
            "Epoch 13/100\n",
            "469/469 [==============================] - 20s 42ms/step - loss: 2.2669 - accuracy: 0.1333 - val_loss: 2.2472 - val_accuracy: 0.1940\n",
            "Epoch 14/100\n",
            "469/469 [==============================] - 20s 43ms/step - loss: 2.2632 - accuracy: 0.1379 - val_loss: 2.2422 - val_accuracy: 0.2040\n",
            "Epoch 15/100\n",
            "469/469 [==============================] - 20s 43ms/step - loss: 2.2589 - accuracy: 0.1398 - val_loss: 2.2372 - val_accuracy: 0.2133\n",
            "Epoch 16/100\n",
            "469/469 [==============================] - 20s 43ms/step - loss: 2.2542 - accuracy: 0.1484 - val_loss: 2.2320 - val_accuracy: 0.2242\n",
            "Epoch 17/100\n",
            "469/469 [==============================] - 25s 54ms/step - loss: 2.2504 - accuracy: 0.1496 - val_loss: 2.2268 - val_accuracy: 0.2335\n",
            "Epoch 18/100\n",
            "469/469 [==============================] - 20s 43ms/step - loss: 2.2456 - accuracy: 0.1546 - val_loss: 2.2215 - val_accuracy: 0.2466\n",
            "Epoch 19/100\n",
            "469/469 [==============================] - 20s 43ms/step - loss: 2.2415 - accuracy: 0.1573 - val_loss: 2.2161 - val_accuracy: 0.2579\n",
            "Epoch 20/100\n",
            "469/469 [==============================] - 20s 43ms/step - loss: 2.2363 - accuracy: 0.1627 - val_loss: 2.2104 - val_accuracy: 0.2709\n",
            "Epoch 21/100\n",
            "469/469 [==============================] - 20s 43ms/step - loss: 2.2321 - accuracy: 0.1651 - val_loss: 2.2047 - val_accuracy: 0.2826\n",
            "Epoch 22/100\n",
            "469/469 [==============================] - 20s 42ms/step - loss: 2.2283 - accuracy: 0.1691 - val_loss: 2.1988 - val_accuracy: 0.2927\n",
            "Epoch 23/100\n",
            "469/469 [==============================] - 20s 42ms/step - loss: 2.2225 - accuracy: 0.1735 - val_loss: 2.1928 - val_accuracy: 0.3041\n",
            "Epoch 24/100\n",
            "469/469 [==============================] - 20s 42ms/step - loss: 2.2184 - accuracy: 0.1787 - val_loss: 2.1866 - val_accuracy: 0.3124\n",
            "Epoch 25/100\n",
            "469/469 [==============================] - 20s 42ms/step - loss: 2.2135 - accuracy: 0.1815 - val_loss: 2.1803 - val_accuracy: 0.3249\n",
            "Epoch 26/100\n",
            "469/469 [==============================] - 20s 42ms/step - loss: 2.2072 - accuracy: 0.1870 - val_loss: 2.1737 - val_accuracy: 0.3364\n",
            "Epoch 27/100\n",
            "469/469 [==============================] - 20s 42ms/step - loss: 2.2033 - accuracy: 0.1894 - val_loss: 2.1670 - val_accuracy: 0.3485\n",
            "Epoch 28/100\n",
            "469/469 [==============================] - 20s 42ms/step - loss: 2.1974 - accuracy: 0.1943 - val_loss: 2.1602 - val_accuracy: 0.3618\n",
            "Epoch 29/100\n",
            "469/469 [==============================] - 20s 42ms/step - loss: 2.1907 - accuracy: 0.1979 - val_loss: 2.1531 - val_accuracy: 0.3743\n",
            "Epoch 30/100\n",
            "469/469 [==============================] - 20s 42ms/step - loss: 2.1855 - accuracy: 0.2041 - val_loss: 2.1457 - val_accuracy: 0.3878\n",
            "Epoch 31/100\n",
            "469/469 [==============================] - 20s 42ms/step - loss: 2.1802 - accuracy: 0.2075 - val_loss: 2.1382 - val_accuracy: 0.4023\n",
            "Epoch 32/100\n",
            "469/469 [==============================] - 20s 42ms/step - loss: 2.1750 - accuracy: 0.2114 - val_loss: 2.1306 - val_accuracy: 0.4158\n",
            "Epoch 33/100\n",
            "469/469 [==============================] - 20s 43ms/step - loss: 2.1704 - accuracy: 0.2121 - val_loss: 2.1227 - val_accuracy: 0.4269\n",
            "Epoch 34/100\n",
            "469/469 [==============================] - 20s 42ms/step - loss: 2.1624 - accuracy: 0.2227 - val_loss: 2.1146 - val_accuracy: 0.4411\n",
            "Epoch 35/100\n",
            "469/469 [==============================] - 20s 42ms/step - loss: 2.1575 - accuracy: 0.2232 - val_loss: 2.1064 - val_accuracy: 0.4565\n",
            "Epoch 36/100\n",
            "469/469 [==============================] - 20s 42ms/step - loss: 2.1503 - accuracy: 0.2278 - val_loss: 2.0978 - val_accuracy: 0.4710\n",
            "Epoch 37/100\n",
            "469/469 [==============================] - 20s 42ms/step - loss: 2.1460 - accuracy: 0.2285 - val_loss: 2.0892 - val_accuracy: 0.4824\n",
            "Epoch 38/100\n",
            "469/469 [==============================] - 20s 42ms/step - loss: 2.1377 - accuracy: 0.2336 - val_loss: 2.0803 - val_accuracy: 0.4923\n",
            "Epoch 39/100\n",
            "469/469 [==============================] - 20s 43ms/step - loss: 2.1307 - accuracy: 0.2408 - val_loss: 2.0712 - val_accuracy: 0.5019\n",
            "Epoch 40/100\n",
            "469/469 [==============================] - 20s 43ms/step - loss: 2.1237 - accuracy: 0.2464 - val_loss: 2.0618 - val_accuracy: 0.5104\n",
            "Epoch 41/100\n",
            "469/469 [==============================] - 20s 43ms/step - loss: 2.1164 - accuracy: 0.2481 - val_loss: 2.0522 - val_accuracy: 0.5190\n",
            "Epoch 42/100\n",
            "469/469 [==============================] - 20s 43ms/step - loss: 2.1096 - accuracy: 0.2509 - val_loss: 2.0424 - val_accuracy: 0.5279\n",
            "Epoch 43/100\n",
            "469/469 [==============================] - 20s 43ms/step - loss: 2.1015 - accuracy: 0.2593 - val_loss: 2.0323 - val_accuracy: 0.5367\n",
            "Epoch 44/100\n",
            "469/469 [==============================] - 20s 43ms/step - loss: 2.0936 - accuracy: 0.2594 - val_loss: 2.0219 - val_accuracy: 0.5451\n",
            "Epoch 45/100\n",
            "469/469 [==============================] - 20s 43ms/step - loss: 2.0857 - accuracy: 0.2664 - val_loss: 2.0113 - val_accuracy: 0.5526\n",
            "Epoch 46/100\n",
            "469/469 [==============================] - 20s 42ms/step - loss: 2.0805 - accuracy: 0.2698 - val_loss: 2.0005 - val_accuracy: 0.5596\n",
            "Epoch 47/100\n",
            "469/469 [==============================] - 22s 47ms/step - loss: 2.0708 - accuracy: 0.2747 - val_loss: 1.9895 - val_accuracy: 0.5664\n",
            "Epoch 48/100\n",
            "469/469 [==============================] - 24s 51ms/step - loss: 2.0630 - accuracy: 0.2776 - val_loss: 1.9782 - val_accuracy: 0.5721\n",
            "Epoch 49/100\n",
            "469/469 [==============================] - 20s 43ms/step - loss: 2.0538 - accuracy: 0.2846 - val_loss: 1.9667 - val_accuracy: 0.5766\n",
            "Epoch 50/100\n",
            "469/469 [==============================] - 20s 42ms/step - loss: 2.0476 - accuracy: 0.2877 - val_loss: 1.9551 - val_accuracy: 0.5819\n",
            "Epoch 51/100\n",
            "469/469 [==============================] - 20s 42ms/step - loss: 2.0375 - accuracy: 0.2913 - val_loss: 1.9433 - val_accuracy: 0.5869\n",
            "Epoch 52/100\n",
            "469/469 [==============================] - 20s 42ms/step - loss: 2.0295 - accuracy: 0.2970 - val_loss: 1.9313 - val_accuracy: 0.5911\n",
            "Epoch 53/100\n",
            "469/469 [==============================] - 20s 43ms/step - loss: 2.0223 - accuracy: 0.2964 - val_loss: 1.9192 - val_accuracy: 0.5945\n",
            "Epoch 54/100\n",
            "469/469 [==============================] - 20s 43ms/step - loss: 2.0117 - accuracy: 0.2998 - val_loss: 1.9068 - val_accuracy: 0.5984\n",
            "Epoch 55/100\n",
            "469/469 [==============================] - 20s 43ms/step - loss: 2.0057 - accuracy: 0.3041 - val_loss: 1.8943 - val_accuracy: 0.6035\n",
            "Epoch 56/100\n",
            "469/469 [==============================] - 20s 43ms/step - loss: 1.9944 - accuracy: 0.3094 - val_loss: 1.8817 - val_accuracy: 0.6062\n",
            "Epoch 57/100\n",
            "469/469 [==============================] - 20s 43ms/step - loss: 1.9856 - accuracy: 0.3177 - val_loss: 1.8690 - val_accuracy: 0.6091\n",
            "Epoch 58/100\n",
            "469/469 [==============================] - 20s 43ms/step - loss: 1.9802 - accuracy: 0.3127 - val_loss: 1.8564 - val_accuracy: 0.6131\n",
            "Epoch 59/100\n",
            "469/469 [==============================] - 20s 43ms/step - loss: 1.9709 - accuracy: 0.3207 - val_loss: 1.8437 - val_accuracy: 0.6164\n",
            "Epoch 60/100\n",
            "469/469 [==============================] - 20s 43ms/step - loss: 1.9585 - accuracy: 0.3274 - val_loss: 1.8306 - val_accuracy: 0.6180\n",
            "Epoch 61/100\n",
            "469/469 [==============================] - 20s 43ms/step - loss: 1.9497 - accuracy: 0.3304 - val_loss: 1.8175 - val_accuracy: 0.6215\n",
            "Epoch 62/100\n",
            "469/469 [==============================] - 20s 43ms/step - loss: 1.9433 - accuracy: 0.3297 - val_loss: 1.8045 - val_accuracy: 0.6270\n",
            "Epoch 63/100\n",
            "469/469 [==============================] - 20s 43ms/step - loss: 1.9283 - accuracy: 0.3379 - val_loss: 1.7911 - val_accuracy: 0.6320\n",
            "Epoch 64/100\n",
            "469/469 [==============================] - 21s 44ms/step - loss: 1.9234 - accuracy: 0.3399 - val_loss: 1.7779 - val_accuracy: 0.6357\n",
            "Epoch 65/100\n",
            "469/469 [==============================] - 20s 43ms/step - loss: 1.9152 - accuracy: 0.3430 - val_loss: 1.7649 - val_accuracy: 0.6393\n",
            "Epoch 66/100\n",
            "469/469 [==============================] - 20s 43ms/step - loss: 1.9056 - accuracy: 0.3478 - val_loss: 1.7518 - val_accuracy: 0.6425\n",
            "Epoch 67/100\n",
            "469/469 [==============================] - 20s 43ms/step - loss: 1.8953 - accuracy: 0.3521 - val_loss: 1.7384 - val_accuracy: 0.6451\n",
            "Epoch 68/100\n",
            "469/469 [==============================] - 20s 43ms/step - loss: 1.8866 - accuracy: 0.3551 - val_loss: 1.7252 - val_accuracy: 0.6488\n",
            "Epoch 69/100\n",
            "469/469 [==============================] - 20s 43ms/step - loss: 1.8758 - accuracy: 0.3595 - val_loss: 1.7120 - val_accuracy: 0.6530\n",
            "Epoch 70/100\n",
            "469/469 [==============================] - 20s 43ms/step - loss: 1.8717 - accuracy: 0.3599 - val_loss: 1.6990 - val_accuracy: 0.6555\n",
            "Epoch 71/100\n",
            "469/469 [==============================] - 20s 43ms/step - loss: 1.8592 - accuracy: 0.3639 - val_loss: 1.6857 - val_accuracy: 0.6574\n",
            "Epoch 72/100\n",
            "469/469 [==============================] - 20s 43ms/step - loss: 1.8514 - accuracy: 0.3645 - val_loss: 1.6723 - val_accuracy: 0.6612\n",
            "Epoch 73/100\n",
            "469/469 [==============================] - 20s 43ms/step - loss: 1.8439 - accuracy: 0.3701 - val_loss: 1.6592 - val_accuracy: 0.6644\n",
            "Epoch 74/100\n",
            "469/469 [==============================] - 20s 43ms/step - loss: 1.8345 - accuracy: 0.3738 - val_loss: 1.6463 - val_accuracy: 0.6686\n",
            "Epoch 75/100\n",
            "469/469 [==============================] - 20s 43ms/step - loss: 1.8228 - accuracy: 0.3769 - val_loss: 1.6332 - val_accuracy: 0.6716\n",
            "Epoch 76/100\n",
            "469/469 [==============================] - 20s 43ms/step - loss: 1.8148 - accuracy: 0.3782 - val_loss: 1.6201 - val_accuracy: 0.6738\n",
            "Epoch 77/100\n",
            "469/469 [==============================] - 22s 47ms/step - loss: 1.8054 - accuracy: 0.3836 - val_loss: 1.6070 - val_accuracy: 0.6760\n",
            "Epoch 78/100\n",
            "469/469 [==============================] - 22s 48ms/step - loss: 1.8001 - accuracy: 0.3866 - val_loss: 1.5946 - val_accuracy: 0.6791\n",
            "Epoch 79/100\n",
            "469/469 [==============================] - 20s 43ms/step - loss: 1.7928 - accuracy: 0.3855 - val_loss: 1.5819 - val_accuracy: 0.6843\n",
            "Epoch 80/100\n",
            "469/469 [==============================] - 20s 42ms/step - loss: 1.7826 - accuracy: 0.3899 - val_loss: 1.5693 - val_accuracy: 0.6890\n",
            "Epoch 81/100\n",
            "469/469 [==============================] - 20s 42ms/step - loss: 1.7747 - accuracy: 0.3931 - val_loss: 1.5570 - val_accuracy: 0.6917\n",
            "Epoch 82/100\n",
            "469/469 [==============================] - 20s 42ms/step - loss: 1.7606 - accuracy: 0.4009 - val_loss: 1.5443 - val_accuracy: 0.6943\n",
            "Epoch 83/100\n",
            "469/469 [==============================] - 20s 42ms/step - loss: 1.7575 - accuracy: 0.3986 - val_loss: 1.5317 - val_accuracy: 0.6970\n",
            "Epoch 84/100\n",
            "469/469 [==============================] - 20s 42ms/step - loss: 1.7482 - accuracy: 0.4044 - val_loss: 1.5190 - val_accuracy: 0.7002\n",
            "Epoch 85/100\n",
            "469/469 [==============================] - 20s 42ms/step - loss: 1.7386 - accuracy: 0.4059 - val_loss: 1.5066 - val_accuracy: 0.7036\n",
            "Epoch 86/100\n",
            "469/469 [==============================] - 20s 42ms/step - loss: 1.7310 - accuracy: 0.4101 - val_loss: 1.4944 - val_accuracy: 0.7074\n",
            "Epoch 87/100\n",
            "469/469 [==============================] - 20s 42ms/step - loss: 1.7224 - accuracy: 0.4121 - val_loss: 1.4822 - val_accuracy: 0.7113\n",
            "Epoch 88/100\n",
            "469/469 [==============================] - 20s 42ms/step - loss: 1.7092 - accuracy: 0.4173 - val_loss: 1.4699 - val_accuracy: 0.7139\n",
            "Epoch 89/100\n",
            "469/469 [==============================] - 19s 42ms/step - loss: 1.7022 - accuracy: 0.4203 - val_loss: 1.4577 - val_accuracy: 0.7178\n",
            "Epoch 90/100\n",
            "469/469 [==============================] - 19s 40ms/step - loss: 1.6977 - accuracy: 0.4192 - val_loss: 1.4457 - val_accuracy: 0.7210\n",
            "Epoch 91/100\n",
            "469/469 [==============================] - 19s 41ms/step - loss: 1.6834 - accuracy: 0.4261 - val_loss: 1.4335 - val_accuracy: 0.7247\n",
            "Epoch 92/100\n",
            "469/469 [==============================] - 19s 41ms/step - loss: 1.6781 - accuracy: 0.4285 - val_loss: 1.4215 - val_accuracy: 0.7279\n",
            "Epoch 93/100\n",
            "469/469 [==============================] - 19s 41ms/step - loss: 1.6753 - accuracy: 0.4255 - val_loss: 1.4100 - val_accuracy: 0.7314\n",
            "Epoch 94/100\n",
            "469/469 [==============================] - 19s 41ms/step - loss: 1.6648 - accuracy: 0.4320 - val_loss: 1.3984 - val_accuracy: 0.7356\n",
            "Epoch 95/100\n",
            "469/469 [==============================] - 20s 42ms/step - loss: 1.6507 - accuracy: 0.4397 - val_loss: 1.3863 - val_accuracy: 0.7388\n",
            "Epoch 96/100\n",
            "469/469 [==============================] - 19s 41ms/step - loss: 1.6478 - accuracy: 0.4378 - val_loss: 1.3748 - val_accuracy: 0.7413\n",
            "Epoch 97/100\n",
            "469/469 [==============================] - 19s 41ms/step - loss: 1.6400 - accuracy: 0.4397 - val_loss: 1.3633 - val_accuracy: 0.7439\n",
            "Epoch 98/100\n",
            "469/469 [==============================] - 19s 41ms/step - loss: 1.6335 - accuracy: 0.4434 - val_loss: 1.3523 - val_accuracy: 0.7471\n",
            "Epoch 99/100\n",
            "469/469 [==============================] - 19s 42ms/step - loss: 1.6260 - accuracy: 0.4453 - val_loss: 1.3415 - val_accuracy: 0.7495\n",
            "Epoch 100/100\n",
            "469/469 [==============================] - 19s 41ms/step - loss: 1.6196 - accuracy: 0.4473 - val_loss: 1.3305 - val_accuracy: 0.7517\n"
          ],
          "name": "stdout"
        }
      ]
    },
    {
      "cell_type": "code",
      "metadata": {
        "id": "PWq1dbLE2Xch",
        "outputId": "05e6447a-6827-4760-a2b8-1b21aaf77c44",
        "colab": {
          "base_uri": "https://localhost:8080/",
          "height": 295
        }
      },
      "source": [
        "plt.plot(history.history['accuracy'])\n",
        "plt.plot(history.history['val_accuracy'],'g')\n",
        "plt.title('Model Loss')\n",
        "plt.ylabel('loss')\n",
        "plt.xlabel('epoch')\n",
        "plt.legend(['train','validation'],loc='upper right')\n",
        "plt.show()\n"
      ],
      "execution_count": null,
      "outputs": [
        {
          "output_type": "display_data",
          "data": {
            "image/png": "[encoded data removed]",
            "text/plain": [
              "<Figure size 432x288 with 1 Axes>"
            ]
          },
          "metadata": {
            "tags": [],
            "needs_background": "light"
          }
        }
      ]
    },
    {
      "cell_type": "code",
      "metadata": {
        "id": "g2eGsYg727PJ",
        "outputId": "f2084c1f-0c78-4c76-b9ff-dcfd0e1a2095",
        "colab": {
          "base_uri": "https://localhost:8080/",
          "height": 295
        }
      },
      "source": [
        "plt.plot(history.history['loss'])\n",
        "plt.plot(history.history['val_loss'],'g')\n",
        "plt.title('Model Loss')\n",
        "plt.ylabel('loss')\n",
        "plt.xlabel('epoch')\n",
        "plt.legend(['train','validation'],loc='upper right')\n",
        "plt.show()"
      ],
      "execution_count": null,
      "outputs": [
        {
          "output_type": "display_data",
          "data": {
            "image/png": "[encoded data removed]",
            "text/plain": [
              "<Figure size 432x288 with 1 Axes>"
            ]
          },
          "metadata": {
            "tags": [],
            "needs_background": "light"
          }
        }
      ]
    },
    {
      "cell_type": "code",
      "metadata": {
        "id": "l325Z8WC4bjj",
        "outputId": "693aced5-2081-494e-d7fa-4832dc996e79",
        "colab": {
          "base_uri": "https://localhost:8080/"
        }
      },
      "source": [
        "score = model.evaluate(x_train ,y_train,verbose=0)\n",
        "print('Test loss:',score[0])\n",
        "print('Test Accuracy',score[1])"
      ],
      "execution_count": null,
      "outputs": [
        {
          "output_type": "stream",
          "text": [
            "Test loss: 1.3434356451034546\n",
            "Test Accuracy 0.746833324432373\n"
          ],
          "name": "stdout"
        }
      ]
    },
    {
      "cell_type": "code",
      "metadata": {
        "id": "FulcjAmV5BsD",
        "outputId": "cc836c6b-af03-4ed1-a3a3-15245fb7af8b",
        "colab": {
          "base_uri": "https://localhost:8080/",
          "height": 265
        }
      },
      "source": [
        "import pylab as plt\n",
        "plt.imshow(x_test[130:131].reshape(28,28),cmap='gray')\n",
        "plt.show()"
      ],
      "execution_count": null,
      "outputs": [
        {
          "output_type": "display_data",
          "data": {
            "image/png": "[encoded data removed]",
            "text/plain": [
              "<Figure size 432x288 with 1 Axes>"
            ]
          },
          "metadata": {
            "tags": [],
            "needs_background": "light"
          }
        }
      ]
    },
    {
      "cell_type": "code",
      "metadata": {
        "id": "_2XbgfOd54hT",
        "outputId": "44068928-aacc-4ba0-a4ee-5a2b6e9e35fa",
        "colab": {
          "base_uri": "https://localhost:8080/"
        }
      },
      "source": [
        "import numpy as np\n",
        "predication=model.predict(x_test[130:131])\n",
        "print('pred score:\\n',predication[0])\n",
        "thresholded=(predication>0.3)*1\n",
        "print('\\nthresholded score:\\n',thresholded[0])\n",
        "print('predicted digit:\\n',np.where(thresholded==1)[1][0])"
      ],
      "execution_count": null,
      "outputs": [
        {
          "output_type": "stream",
          "text": [
            "pred score:\n",
            " [0.10228009 0.02254933 0.09713114 0.03790813 0.03631761 0.13145466\n",
            " 0.34048024 0.01949048 0.15607819 0.0563101 ]\n",
            "\n",
            "thresholded score:\n",
            " [0 0 0 0 0 0 1 0 0 0]\n",
            "predicted digit:\n",
            " 6\n"
          ],
          "name": "stdout"
        }
      ]
    }
  ]
}