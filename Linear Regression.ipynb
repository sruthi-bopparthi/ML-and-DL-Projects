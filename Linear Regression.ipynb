{
 "cells": [
  {
   "cell_type": "code",
   "execution_count": 1,
   "metadata": {},
   "outputs": [],
   "source": [
    "import numpy as np\n",
    "import matplotlib.pyplot as plt\n",
    "import pandas as pd\n",
    "import seaborn as sns\n",
    "from sklearn.linear_model import LinearRegression\n",
    "from sklearn.metrics import accuracy_score,confusion_matrix,mean_squared_error,mean_absolute_error\n",
    "from sklearn.model_selection import train_test_split"
   ]
  },
  {
   "cell_type": "code",
   "execution_count": 3,
   "metadata": {},
   "outputs": [],
   "source": [
    "weather=pd.read_csv(\"D:\\shru\\Sem 5\\ML\\\\Summary of Weather.csv\")"
   ]
  },
  {
   "cell_type": "code",
   "execution_count": 27,
   "metadata": {},
   "outputs": [
    {
     "data": {
      "text/plain": [
       "<bound method DataFrame.dropna of           STA        Date Precip  WindGustSpd    MaxTemp    MinTemp  \\\n",
       "0       10001    1942-7-1  1.016          NaN  25.555556  22.222222   \n",
       "1       10001    1942-7-2      0          NaN  28.888889  21.666667   \n",
       "2       10001    1942-7-3   2.54          NaN  26.111111  22.222222   \n",
       "3       10001    1942-7-4   2.54          NaN  26.666667  22.222222   \n",
       "4       10001    1942-7-5      0          NaN  26.666667  21.666667   \n",
       "...       ...         ...    ...          ...        ...        ...   \n",
       "119035  82506  1945-12-27      0          NaN  28.333333  18.333333   \n",
       "119036  82506  1945-12-28  9.906          NaN  29.444444  18.333333   \n",
       "119037  82506  1945-12-29      0          NaN  28.333333  18.333333   \n",
       "119038  82506  1945-12-30      0          NaN  28.333333  18.333333   \n",
       "119039  82506  1945-12-31      0          NaN  29.444444  17.222222   \n",
       "\n",
       "         MeanTemp Snowfall PoorWeather  YR  ...  FB  FTI ITH  PGT  TSHDSBRSGF  \\\n",
       "0       23.888889        0         NaN  42  ... NaN  NaN NaN  NaN         NaN   \n",
       "1       25.555556        0         NaN  42  ... NaN  NaN NaN  NaN         NaN   \n",
       "2       24.444444        0         NaN  42  ... NaN  NaN NaN  NaN         NaN   \n",
       "3       24.444444        0         NaN  42  ... NaN  NaN NaN  NaN         NaN   \n",
       "4       24.444444        0         NaN  42  ... NaN  NaN NaN  NaN         NaN   \n",
       "...           ...      ...         ...  ..  ...  ..  ...  ..  ...         ...   \n",
       "119035  23.333333        0         NaN  45  ... NaN  NaN NaN  NaN         NaN   \n",
       "119036  23.888889        0           1  45  ... NaN  NaN NaN  NaN           1   \n",
       "119037  23.333333        0           1  45  ... NaN  NaN NaN  NaN           1   \n",
       "119038  23.333333        0         NaN  45  ... NaN  NaN NaN  NaN         NaN   \n",
       "119039  23.333333        0         NaN  45  ... NaN  NaN NaN  NaN         NaN   \n",
       "\n",
       "        SD3  RHX  RHN RVG  WTE  \n",
       "0       NaN  NaN  NaN NaN  NaN  \n",
       "1       NaN  NaN  NaN NaN  NaN  \n",
       "2       NaN  NaN  NaN NaN  NaN  \n",
       "3       NaN  NaN  NaN NaN  NaN  \n",
       "4       NaN  NaN  NaN NaN  NaN  \n",
       "...     ...  ...  ...  ..  ...  \n",
       "119035  NaN  NaN  NaN NaN  NaN  \n",
       "119036  NaN  NaN  NaN NaN  NaN  \n",
       "119037  NaN  NaN  NaN NaN  NaN  \n",
       "119038  NaN  NaN  NaN NaN  NaN  \n",
       "119039  NaN  NaN  NaN NaN  NaN  \n",
       "\n",
       "[119040 rows x 31 columns]>"
      ]
     },
     "execution_count": 27,
     "metadata": {},
     "output_type": "execute_result"
    }
   ],
   "source": [
    "weather.dropna"
   ]
  },
  {
   "cell_type": "code",
   "execution_count": 28,
   "metadata": {},
   "outputs": [
    {
     "data": {
      "text/html": [
       "<div>\n",
       "<style scoped>\n",
       "    .dataframe tbody tr th:only-of-type {\n",
       "        vertical-align: middle;\n",
       "    }\n",
       "\n",
       "    .dataframe tbody tr th {\n",
       "        vertical-align: top;\n",
       "    }\n",
       "\n",
       "    .dataframe thead th {\n",
       "        text-align: right;\n",
       "    }\n",
       "</style>\n",
       "<table border=\"1\" class=\"dataframe\">\n",
       "  <thead>\n",
       "    <tr style=\"text-align: right;\">\n",
       "      <th></th>\n",
       "      <th>STA</th>\n",
       "      <th>Date</th>\n",
       "      <th>Precip</th>\n",
       "      <th>WindGustSpd</th>\n",
       "      <th>MaxTemp</th>\n",
       "      <th>MinTemp</th>\n",
       "      <th>MeanTemp</th>\n",
       "      <th>Snowfall</th>\n",
       "      <th>PoorWeather</th>\n",
       "      <th>YR</th>\n",
       "      <th>...</th>\n",
       "      <th>FB</th>\n",
       "      <th>FTI</th>\n",
       "      <th>ITH</th>\n",
       "      <th>PGT</th>\n",
       "      <th>TSHDSBRSGF</th>\n",
       "      <th>SD3</th>\n",
       "      <th>RHX</th>\n",
       "      <th>RHN</th>\n",
       "      <th>RVG</th>\n",
       "      <th>WTE</th>\n",
       "    </tr>\n",
       "  </thead>\n",
       "  <tbody>\n",
       "    <tr>\n",
       "      <th>0</th>\n",
       "      <td>10001</td>\n",
       "      <td>1942-7-1</td>\n",
       "      <td>1.016</td>\n",
       "      <td>NaN</td>\n",
       "      <td>25.555556</td>\n",
       "      <td>22.222222</td>\n",
       "      <td>23.888889</td>\n",
       "      <td>0</td>\n",
       "      <td>NaN</td>\n",
       "      <td>42</td>\n",
       "      <td>...</td>\n",
       "      <td>NaN</td>\n",
       "      <td>NaN</td>\n",
       "      <td>NaN</td>\n",
       "      <td>NaN</td>\n",
       "      <td>NaN</td>\n",
       "      <td>NaN</td>\n",
       "      <td>NaN</td>\n",
       "      <td>NaN</td>\n",
       "      <td>NaN</td>\n",
       "      <td>NaN</td>\n",
       "    </tr>\n",
       "    <tr>\n",
       "      <th>1</th>\n",
       "      <td>10001</td>\n",
       "      <td>1942-7-2</td>\n",
       "      <td>0</td>\n",
       "      <td>NaN</td>\n",
       "      <td>28.888889</td>\n",
       "      <td>21.666667</td>\n",
       "      <td>25.555556</td>\n",
       "      <td>0</td>\n",
       "      <td>NaN</td>\n",
       "      <td>42</td>\n",
       "      <td>...</td>\n",
       "      <td>NaN</td>\n",
       "      <td>NaN</td>\n",
       "      <td>NaN</td>\n",
       "      <td>NaN</td>\n",
       "      <td>NaN</td>\n",
       "      <td>NaN</td>\n",
       "      <td>NaN</td>\n",
       "      <td>NaN</td>\n",
       "      <td>NaN</td>\n",
       "      <td>NaN</td>\n",
       "    </tr>\n",
       "    <tr>\n",
       "      <th>2</th>\n",
       "      <td>10001</td>\n",
       "      <td>1942-7-3</td>\n",
       "      <td>2.54</td>\n",
       "      <td>NaN</td>\n",
       "      <td>26.111111</td>\n",
       "      <td>22.222222</td>\n",
       "      <td>24.444444</td>\n",
       "      <td>0</td>\n",
       "      <td>NaN</td>\n",
       "      <td>42</td>\n",
       "      <td>...</td>\n",
       "      <td>NaN</td>\n",
       "      <td>NaN</td>\n",
       "      <td>NaN</td>\n",
       "      <td>NaN</td>\n",
       "      <td>NaN</td>\n",
       "      <td>NaN</td>\n",
       "      <td>NaN</td>\n",
       "      <td>NaN</td>\n",
       "      <td>NaN</td>\n",
       "      <td>NaN</td>\n",
       "    </tr>\n",
       "    <tr>\n",
       "      <th>3</th>\n",
       "      <td>10001</td>\n",
       "      <td>1942-7-4</td>\n",
       "      <td>2.54</td>\n",
       "      <td>NaN</td>\n",
       "      <td>26.666667</td>\n",
       "      <td>22.222222</td>\n",
       "      <td>24.444444</td>\n",
       "      <td>0</td>\n",
       "      <td>NaN</td>\n",
       "      <td>42</td>\n",
       "      <td>...</td>\n",
       "      <td>NaN</td>\n",
       "      <td>NaN</td>\n",
       "      <td>NaN</td>\n",
       "      <td>NaN</td>\n",
       "      <td>NaN</td>\n",
       "      <td>NaN</td>\n",
       "      <td>NaN</td>\n",
       "      <td>NaN</td>\n",
       "      <td>NaN</td>\n",
       "      <td>NaN</td>\n",
       "    </tr>\n",
       "    <tr>\n",
       "      <th>4</th>\n",
       "      <td>10001</td>\n",
       "      <td>1942-7-5</td>\n",
       "      <td>0</td>\n",
       "      <td>NaN</td>\n",
       "      <td>26.666667</td>\n",
       "      <td>21.666667</td>\n",
       "      <td>24.444444</td>\n",
       "      <td>0</td>\n",
       "      <td>NaN</td>\n",
       "      <td>42</td>\n",
       "      <td>...</td>\n",
       "      <td>NaN</td>\n",
       "      <td>NaN</td>\n",
       "      <td>NaN</td>\n",
       "      <td>NaN</td>\n",
       "      <td>NaN</td>\n",
       "      <td>NaN</td>\n",
       "      <td>NaN</td>\n",
       "      <td>NaN</td>\n",
       "      <td>NaN</td>\n",
       "      <td>NaN</td>\n",
       "    </tr>\n",
       "    <tr>\n",
       "      <th>5</th>\n",
       "      <td>10001</td>\n",
       "      <td>1942-7-6</td>\n",
       "      <td>0</td>\n",
       "      <td>NaN</td>\n",
       "      <td>26.666667</td>\n",
       "      <td>21.666667</td>\n",
       "      <td>24.444444</td>\n",
       "      <td>0</td>\n",
       "      <td>NaN</td>\n",
       "      <td>42</td>\n",
       "      <td>...</td>\n",
       "      <td>NaN</td>\n",
       "      <td>NaN</td>\n",
       "      <td>NaN</td>\n",
       "      <td>NaN</td>\n",
       "      <td>NaN</td>\n",
       "      <td>NaN</td>\n",
       "      <td>NaN</td>\n",
       "      <td>NaN</td>\n",
       "      <td>NaN</td>\n",
       "      <td>NaN</td>\n",
       "    </tr>\n",
       "    <tr>\n",
       "      <th>6</th>\n",
       "      <td>10001</td>\n",
       "      <td>1942-7-7</td>\n",
       "      <td>T</td>\n",
       "      <td>NaN</td>\n",
       "      <td>28.333333</td>\n",
       "      <td>22.777778</td>\n",
       "      <td>25.555556</td>\n",
       "      <td>0</td>\n",
       "      <td>NaN</td>\n",
       "      <td>42</td>\n",
       "      <td>...</td>\n",
       "      <td>NaN</td>\n",
       "      <td>NaN</td>\n",
       "      <td>NaN</td>\n",
       "      <td>NaN</td>\n",
       "      <td>NaN</td>\n",
       "      <td>NaN</td>\n",
       "      <td>NaN</td>\n",
       "      <td>NaN</td>\n",
       "      <td>NaN</td>\n",
       "      <td>NaN</td>\n",
       "    </tr>\n",
       "    <tr>\n",
       "      <th>7</th>\n",
       "      <td>10001</td>\n",
       "      <td>1942-7-8</td>\n",
       "      <td>3.556</td>\n",
       "      <td>NaN</td>\n",
       "      <td>26.666667</td>\n",
       "      <td>22.222222</td>\n",
       "      <td>24.444444</td>\n",
       "      <td>0</td>\n",
       "      <td>NaN</td>\n",
       "      <td>42</td>\n",
       "      <td>...</td>\n",
       "      <td>NaN</td>\n",
       "      <td>NaN</td>\n",
       "      <td>NaN</td>\n",
       "      <td>NaN</td>\n",
       "      <td>NaN</td>\n",
       "      <td>NaN</td>\n",
       "      <td>NaN</td>\n",
       "      <td>NaN</td>\n",
       "      <td>NaN</td>\n",
       "      <td>NaN</td>\n",
       "    </tr>\n",
       "    <tr>\n",
       "      <th>8</th>\n",
       "      <td>10001</td>\n",
       "      <td>1942-7-9</td>\n",
       "      <td>T</td>\n",
       "      <td>NaN</td>\n",
       "      <td>27.222222</td>\n",
       "      <td>22.777778</td>\n",
       "      <td>25.000000</td>\n",
       "      <td>0</td>\n",
       "      <td>NaN</td>\n",
       "      <td>42</td>\n",
       "      <td>...</td>\n",
       "      <td>NaN</td>\n",
       "      <td>NaN</td>\n",
       "      <td>NaN</td>\n",
       "      <td>NaN</td>\n",
       "      <td>NaN</td>\n",
       "      <td>NaN</td>\n",
       "      <td>NaN</td>\n",
       "      <td>NaN</td>\n",
       "      <td>NaN</td>\n",
       "      <td>NaN</td>\n",
       "    </tr>\n",
       "    <tr>\n",
       "      <th>9</th>\n",
       "      <td>10001</td>\n",
       "      <td>1942-7-10</td>\n",
       "      <td>3.556</td>\n",
       "      <td>NaN</td>\n",
       "      <td>25.555556</td>\n",
       "      <td>21.666667</td>\n",
       "      <td>23.333333</td>\n",
       "      <td>0</td>\n",
       "      <td>NaN</td>\n",
       "      <td>42</td>\n",
       "      <td>...</td>\n",
       "      <td>NaN</td>\n",
       "      <td>NaN</td>\n",
       "      <td>NaN</td>\n",
       "      <td>NaN</td>\n",
       "      <td>NaN</td>\n",
       "      <td>NaN</td>\n",
       "      <td>NaN</td>\n",
       "      <td>NaN</td>\n",
       "      <td>NaN</td>\n",
       "      <td>NaN</td>\n",
       "    </tr>\n",
       "  </tbody>\n",
       "</table>\n",
       "<p>10 rows × 31 columns</p>\n",
       "</div>"
      ],
      "text/plain": [
       "     STA       Date Precip  WindGustSpd    MaxTemp    MinTemp   MeanTemp  \\\n",
       "0  10001   1942-7-1  1.016          NaN  25.555556  22.222222  23.888889   \n",
       "1  10001   1942-7-2      0          NaN  28.888889  21.666667  25.555556   \n",
       "2  10001   1942-7-3   2.54          NaN  26.111111  22.222222  24.444444   \n",
       "3  10001   1942-7-4   2.54          NaN  26.666667  22.222222  24.444444   \n",
       "4  10001   1942-7-5      0          NaN  26.666667  21.666667  24.444444   \n",
       "5  10001   1942-7-6      0          NaN  26.666667  21.666667  24.444444   \n",
       "6  10001   1942-7-7      T          NaN  28.333333  22.777778  25.555556   \n",
       "7  10001   1942-7-8  3.556          NaN  26.666667  22.222222  24.444444   \n",
       "8  10001   1942-7-9      T          NaN  27.222222  22.777778  25.000000   \n",
       "9  10001  1942-7-10  3.556          NaN  25.555556  21.666667  23.333333   \n",
       "\n",
       "  Snowfall PoorWeather  YR  ...  FB  FTI ITH  PGT  TSHDSBRSGF  SD3  RHX  RHN  \\\n",
       "0        0         NaN  42  ... NaN  NaN NaN  NaN         NaN  NaN  NaN  NaN   \n",
       "1        0         NaN  42  ... NaN  NaN NaN  NaN         NaN  NaN  NaN  NaN   \n",
       "2        0         NaN  42  ... NaN  NaN NaN  NaN         NaN  NaN  NaN  NaN   \n",
       "3        0         NaN  42  ... NaN  NaN NaN  NaN         NaN  NaN  NaN  NaN   \n",
       "4        0         NaN  42  ... NaN  NaN NaN  NaN         NaN  NaN  NaN  NaN   \n",
       "5        0         NaN  42  ... NaN  NaN NaN  NaN         NaN  NaN  NaN  NaN   \n",
       "6        0         NaN  42  ... NaN  NaN NaN  NaN         NaN  NaN  NaN  NaN   \n",
       "7        0         NaN  42  ... NaN  NaN NaN  NaN         NaN  NaN  NaN  NaN   \n",
       "8        0         NaN  42  ... NaN  NaN NaN  NaN         NaN  NaN  NaN  NaN   \n",
       "9        0         NaN  42  ... NaN  NaN NaN  NaN         NaN  NaN  NaN  NaN   \n",
       "\n",
       "  RVG  WTE  \n",
       "0 NaN  NaN  \n",
       "1 NaN  NaN  \n",
       "2 NaN  NaN  \n",
       "3 NaN  NaN  \n",
       "4 NaN  NaN  \n",
       "5 NaN  NaN  \n",
       "6 NaN  NaN  \n",
       "7 NaN  NaN  \n",
       "8 NaN  NaN  \n",
       "9 NaN  NaN  \n",
       "\n",
       "[10 rows x 31 columns]"
      ]
     },
     "execution_count": 28,
     "metadata": {},
     "output_type": "execute_result"
    }
   ],
   "source": [
    "weather.head(10)"
   ]
  },
  {
   "cell_type": "code",
   "execution_count": 29,
   "metadata": {},
   "outputs": [
    {
     "data": {
      "text/html": [
       "<div>\n",
       "<style scoped>\n",
       "    .dataframe tbody tr th:only-of-type {\n",
       "        vertical-align: middle;\n",
       "    }\n",
       "\n",
       "    .dataframe tbody tr th {\n",
       "        vertical-align: top;\n",
       "    }\n",
       "\n",
       "    .dataframe thead th {\n",
       "        text-align: right;\n",
       "    }\n",
       "</style>\n",
       "<table border=\"1\" class=\"dataframe\">\n",
       "  <thead>\n",
       "    <tr style=\"text-align: right;\">\n",
       "      <th></th>\n",
       "      <th>STA</th>\n",
       "      <th>WindGustSpd</th>\n",
       "      <th>MaxTemp</th>\n",
       "      <th>MinTemp</th>\n",
       "      <th>MeanTemp</th>\n",
       "      <th>YR</th>\n",
       "      <th>MO</th>\n",
       "      <th>DA</th>\n",
       "      <th>DR</th>\n",
       "      <th>SPD</th>\n",
       "      <th>...</th>\n",
       "      <th>FT</th>\n",
       "      <th>FB</th>\n",
       "      <th>FTI</th>\n",
       "      <th>ITH</th>\n",
       "      <th>PGT</th>\n",
       "      <th>SD3</th>\n",
       "      <th>RHX</th>\n",
       "      <th>RHN</th>\n",
       "      <th>RVG</th>\n",
       "      <th>WTE</th>\n",
       "    </tr>\n",
       "  </thead>\n",
       "  <tbody>\n",
       "    <tr>\n",
       "      <th>count</th>\n",
       "      <td>119040.000000</td>\n",
       "      <td>532.000000</td>\n",
       "      <td>119040.000000</td>\n",
       "      <td>119040.000000</td>\n",
       "      <td>119040.000000</td>\n",
       "      <td>119040.000000</td>\n",
       "      <td>119040.000000</td>\n",
       "      <td>119040.000000</td>\n",
       "      <td>533.000000</td>\n",
       "      <td>532.000000</td>\n",
       "      <td>...</td>\n",
       "      <td>0.0</td>\n",
       "      <td>0.0</td>\n",
       "      <td>0.0</td>\n",
       "      <td>0.0</td>\n",
       "      <td>525.000000</td>\n",
       "      <td>0.0</td>\n",
       "      <td>0.0</td>\n",
       "      <td>0.0</td>\n",
       "      <td>0.0</td>\n",
       "      <td>0.0</td>\n",
       "    </tr>\n",
       "    <tr>\n",
       "      <th>mean</th>\n",
       "      <td>29659.435795</td>\n",
       "      <td>37.774534</td>\n",
       "      <td>27.045111</td>\n",
       "      <td>17.789511</td>\n",
       "      <td>22.411631</td>\n",
       "      <td>43.805284</td>\n",
       "      <td>6.726016</td>\n",
       "      <td>15.797530</td>\n",
       "      <td>26.998124</td>\n",
       "      <td>20.396617</td>\n",
       "      <td>...</td>\n",
       "      <td>NaN</td>\n",
       "      <td>NaN</td>\n",
       "      <td>NaN</td>\n",
       "      <td>NaN</td>\n",
       "      <td>12.085333</td>\n",
       "      <td>NaN</td>\n",
       "      <td>NaN</td>\n",
       "      <td>NaN</td>\n",
       "      <td>NaN</td>\n",
       "      <td>NaN</td>\n",
       "    </tr>\n",
       "    <tr>\n",
       "      <th>std</th>\n",
       "      <td>20953.209402</td>\n",
       "      <td>10.297808</td>\n",
       "      <td>8.717817</td>\n",
       "      <td>8.334572</td>\n",
       "      <td>8.297982</td>\n",
       "      <td>1.136718</td>\n",
       "      <td>3.425561</td>\n",
       "      <td>8.794541</td>\n",
       "      <td>15.221732</td>\n",
       "      <td>5.560371</td>\n",
       "      <td>...</td>\n",
       "      <td>NaN</td>\n",
       "      <td>NaN</td>\n",
       "      <td>NaN</td>\n",
       "      <td>NaN</td>\n",
       "      <td>5.731328</td>\n",
       "      <td>NaN</td>\n",
       "      <td>NaN</td>\n",
       "      <td>NaN</td>\n",
       "      <td>NaN</td>\n",
       "      <td>NaN</td>\n",
       "    </tr>\n",
       "    <tr>\n",
       "      <th>min</th>\n",
       "      <td>10001.000000</td>\n",
       "      <td>18.520000</td>\n",
       "      <td>-33.333333</td>\n",
       "      <td>-38.333333</td>\n",
       "      <td>-35.555556</td>\n",
       "      <td>40.000000</td>\n",
       "      <td>1.000000</td>\n",
       "      <td>1.000000</td>\n",
       "      <td>2.000000</td>\n",
       "      <td>10.000000</td>\n",
       "      <td>...</td>\n",
       "      <td>NaN</td>\n",
       "      <td>NaN</td>\n",
       "      <td>NaN</td>\n",
       "      <td>NaN</td>\n",
       "      <td>0.000000</td>\n",
       "      <td>NaN</td>\n",
       "      <td>NaN</td>\n",
       "      <td>NaN</td>\n",
       "      <td>NaN</td>\n",
       "      <td>NaN</td>\n",
       "    </tr>\n",
       "    <tr>\n",
       "      <th>25%</th>\n",
       "      <td>11801.000000</td>\n",
       "      <td>29.632000</td>\n",
       "      <td>25.555556</td>\n",
       "      <td>15.000000</td>\n",
       "      <td>20.555556</td>\n",
       "      <td>43.000000</td>\n",
       "      <td>4.000000</td>\n",
       "      <td>8.000000</td>\n",
       "      <td>11.000000</td>\n",
       "      <td>16.000000</td>\n",
       "      <td>...</td>\n",
       "      <td>NaN</td>\n",
       "      <td>NaN</td>\n",
       "      <td>NaN</td>\n",
       "      <td>NaN</td>\n",
       "      <td>8.500000</td>\n",
       "      <td>NaN</td>\n",
       "      <td>NaN</td>\n",
       "      <td>NaN</td>\n",
       "      <td>NaN</td>\n",
       "      <td>NaN</td>\n",
       "    </tr>\n",
       "    <tr>\n",
       "      <th>50%</th>\n",
       "      <td>22508.000000</td>\n",
       "      <td>37.040000</td>\n",
       "      <td>29.444444</td>\n",
       "      <td>21.111111</td>\n",
       "      <td>25.555556</td>\n",
       "      <td>44.000000</td>\n",
       "      <td>7.000000</td>\n",
       "      <td>16.000000</td>\n",
       "      <td>32.000000</td>\n",
       "      <td>20.000000</td>\n",
       "      <td>...</td>\n",
       "      <td>NaN</td>\n",
       "      <td>NaN</td>\n",
       "      <td>NaN</td>\n",
       "      <td>NaN</td>\n",
       "      <td>11.600000</td>\n",
       "      <td>NaN</td>\n",
       "      <td>NaN</td>\n",
       "      <td>NaN</td>\n",
       "      <td>NaN</td>\n",
       "      <td>NaN</td>\n",
       "    </tr>\n",
       "    <tr>\n",
       "      <th>75%</th>\n",
       "      <td>33501.000000</td>\n",
       "      <td>43.059000</td>\n",
       "      <td>31.666667</td>\n",
       "      <td>23.333333</td>\n",
       "      <td>27.222222</td>\n",
       "      <td>45.000000</td>\n",
       "      <td>10.000000</td>\n",
       "      <td>23.000000</td>\n",
       "      <td>34.000000</td>\n",
       "      <td>23.250000</td>\n",
       "      <td>...</td>\n",
       "      <td>NaN</td>\n",
       "      <td>NaN</td>\n",
       "      <td>NaN</td>\n",
       "      <td>NaN</td>\n",
       "      <td>15.000000</td>\n",
       "      <td>NaN</td>\n",
       "      <td>NaN</td>\n",
       "      <td>NaN</td>\n",
       "      <td>NaN</td>\n",
       "      <td>NaN</td>\n",
       "    </tr>\n",
       "    <tr>\n",
       "      <th>max</th>\n",
       "      <td>82506.000000</td>\n",
       "      <td>75.932000</td>\n",
       "      <td>50.000000</td>\n",
       "      <td>34.444444</td>\n",
       "      <td>40.000000</td>\n",
       "      <td>45.000000</td>\n",
       "      <td>12.000000</td>\n",
       "      <td>31.000000</td>\n",
       "      <td>78.000000</td>\n",
       "      <td>41.000000</td>\n",
       "      <td>...</td>\n",
       "      <td>NaN</td>\n",
       "      <td>NaN</td>\n",
       "      <td>NaN</td>\n",
       "      <td>NaN</td>\n",
       "      <td>23.900000</td>\n",
       "      <td>NaN</td>\n",
       "      <td>NaN</td>\n",
       "      <td>NaN</td>\n",
       "      <td>NaN</td>\n",
       "      <td>NaN</td>\n",
       "    </tr>\n",
       "  </tbody>\n",
       "</table>\n",
       "<p>8 rows × 24 columns</p>\n",
       "</div>"
      ],
      "text/plain": [
       "                 STA  WindGustSpd        MaxTemp        MinTemp  \\\n",
       "count  119040.000000   532.000000  119040.000000  119040.000000   \n",
       "mean    29659.435795    37.774534      27.045111      17.789511   \n",
       "std     20953.209402    10.297808       8.717817       8.334572   \n",
       "min     10001.000000    18.520000     -33.333333     -38.333333   \n",
       "25%     11801.000000    29.632000      25.555556      15.000000   \n",
       "50%     22508.000000    37.040000      29.444444      21.111111   \n",
       "75%     33501.000000    43.059000      31.666667      23.333333   \n",
       "max     82506.000000    75.932000      50.000000      34.444444   \n",
       "\n",
       "            MeanTemp             YR             MO             DA          DR  \\\n",
       "count  119040.000000  119040.000000  119040.000000  119040.000000  533.000000   \n",
       "mean       22.411631      43.805284       6.726016      15.797530   26.998124   \n",
       "std         8.297982       1.136718       3.425561       8.794541   15.221732   \n",
       "min       -35.555556      40.000000       1.000000       1.000000    2.000000   \n",
       "25%        20.555556      43.000000       4.000000       8.000000   11.000000   \n",
       "50%        25.555556      44.000000       7.000000      16.000000   32.000000   \n",
       "75%        27.222222      45.000000      10.000000      23.000000   34.000000   \n",
       "max        40.000000      45.000000      12.000000      31.000000   78.000000   \n",
       "\n",
       "              SPD  ...   FT   FB  FTI  ITH         PGT  SD3  RHX  RHN  RVG  \\\n",
       "count  532.000000  ...  0.0  0.0  0.0  0.0  525.000000  0.0  0.0  0.0  0.0   \n",
       "mean    20.396617  ...  NaN  NaN  NaN  NaN   12.085333  NaN  NaN  NaN  NaN   \n",
       "std      5.560371  ...  NaN  NaN  NaN  NaN    5.731328  NaN  NaN  NaN  NaN   \n",
       "min     10.000000  ...  NaN  NaN  NaN  NaN    0.000000  NaN  NaN  NaN  NaN   \n",
       "25%     16.000000  ...  NaN  NaN  NaN  NaN    8.500000  NaN  NaN  NaN  NaN   \n",
       "50%     20.000000  ...  NaN  NaN  NaN  NaN   11.600000  NaN  NaN  NaN  NaN   \n",
       "75%     23.250000  ...  NaN  NaN  NaN  NaN   15.000000  NaN  NaN  NaN  NaN   \n",
       "max     41.000000  ...  NaN  NaN  NaN  NaN   23.900000  NaN  NaN  NaN  NaN   \n",
       "\n",
       "       WTE  \n",
       "count  0.0  \n",
       "mean   NaN  \n",
       "std    NaN  \n",
       "min    NaN  \n",
       "25%    NaN  \n",
       "50%    NaN  \n",
       "75%    NaN  \n",
       "max    NaN  \n",
       "\n",
       "[8 rows x 24 columns]"
      ]
     },
     "execution_count": 29,
     "metadata": {},
     "output_type": "execute_result"
    }
   ],
   "source": [
    "weather.describe()"
   ]
  },
  {
   "cell_type": "code",
   "execution_count": 30,
   "metadata": {},
   "outputs": [
    {
     "data": {
      "text/plain": [
       "(119040, 31)"
      ]
     },
     "execution_count": 30,
     "metadata": {},
     "output_type": "execute_result"
    }
   ],
   "source": [
    "weather.shape"
   ]
  },
  {
   "cell_type": "code",
   "execution_count": 31,
   "metadata": {},
   "outputs": [],
   "source": [
    "x=weather['MaxTemp']\n",
    "y=weather['MinTemp']"
   ]
  },
  {
   "cell_type": "code",
   "execution_count": 32,
   "metadata": {},
   "outputs": [
    {
     "data": {
      "image/png": "[encoded data removed]",
      "text/plain": [
       "<Figure size 432x288 with 1 Axes>"
      ]
     },
     "metadata": {
      "needs_background": "light"
     },
     "output_type": "display_data"
    }
   ],
   "source": [
    "plt.scatter(x,y)\n",
    "plt.xlabel('MaxTemp',fontsize=12)\n",
    "plt.ylabel('MinTemp',fontsize=12)\n",
    "plt.show()"
   ]
  },
  {
   "cell_type": "code",
   "execution_count": 33,
   "metadata": {},
   "outputs": [
    {
     "data": {
      "text/plain": [
       "<matplotlib.axes._subplots.AxesSubplot at 0x23a86dda748>"
      ]
     },
     "execution_count": 33,
     "metadata": {},
     "output_type": "execute_result"
    },
    {
     "data": {
      "image/png": "[encoded data removed]",
      "text/plain": [
       "<Figure size 432x288 with 1 Axes>"
      ]
     },
     "metadata": {
      "needs_background": "light"
     },
     "output_type": "display_data"
    }
   ],
   "source": [
    "sns.regplot(weather['MinTemp'],y,color='purple')"
   ]
  },
  {
   "cell_type": "code",
   "execution_count": 34,
   "metadata": {},
   "outputs": [],
   "source": [
    "X_=x.values.reshape(-1,1)"
   ]
  },
  {
   "cell_type": "code",
   "execution_count": 35,
   "metadata": {},
   "outputs": [
    {
     "data": {
      "text/plain": [
       "(119040, 1)"
      ]
     },
     "execution_count": 35,
     "metadata": {},
     "output_type": "execute_result"
    }
   ],
   "source": [
    "X_.shape"
   ]
  },
  {
   "cell_type": "code",
   "execution_count": 36,
   "metadata": {},
   "outputs": [],
   "source": [
    "#test_size=0.2 means 20% for testing set\n",
    "X_train,X_test,y_train,y_test=train_test_split(X_,y,test_size=0.2,random_state=0)"
   ]
  },
  {
   "cell_type": "code",
   "execution_count": 37,
   "metadata": {},
   "outputs": [
    {
     "data": {
      "text/plain": [
       "(95232, 1)"
      ]
     },
     "execution_count": 37,
     "metadata": {},
     "output_type": "execute_result"
    }
   ],
   "source": [
    "#training seet\n",
    "X_train.shape"
   ]
  },
  {
   "cell_type": "code",
   "execution_count": 38,
   "metadata": {},
   "outputs": [
    {
     "data": {
      "text/plain": [
       "(23808, 1)"
      ]
     },
     "execution_count": 38,
     "metadata": {},
     "output_type": "execute_result"
    }
   ],
   "source": [
    "#testing set\n",
    "X_test.shape"
   ]
  },
  {
   "cell_type": "code",
   "execution_count": 39,
   "metadata": {},
   "outputs": [
    {
     "data": {
      "text/plain": [
       "LinearRegression(copy_X=True, fit_intercept=True, n_jobs=None, normalize=False)"
      ]
     },
     "execution_count": 39,
     "metadata": {},
     "output_type": "execute_result"
    }
   ],
   "source": [
    "LR=LinearRegression()\n",
    "LR.fit(X_train,y_train)"
   ]
  },
  {
   "cell_type": "code",
   "execution_count": 40,
   "metadata": {},
   "outputs": [],
   "source": [
    "y_pred=LR.predict(X_test)"
   ]
  },
  {
   "cell_type": "code",
   "execution_count": 41,
   "metadata": {},
   "outputs": [
    {
     "data": {
      "text/html": [
       "<div>\n",
       "<style scoped>\n",
       "    .dataframe tbody tr th:only-of-type {\n",
       "        vertical-align: middle;\n",
       "    }\n",
       "\n",
       "    .dataframe tbody tr th {\n",
       "        vertical-align: top;\n",
       "    }\n",
       "\n",
       "    .dataframe thead th {\n",
       "        text-align: right;\n",
       "    }\n",
       "</style>\n",
       "<table border=\"1\" class=\"dataframe\">\n",
       "  <thead>\n",
       "    <tr style=\"text-align: right;\">\n",
       "      <th></th>\n",
       "      <th>Actual</th>\n",
       "      <th>Predicted</th>\n",
       "    </tr>\n",
       "  </thead>\n",
       "  <tbody>\n",
       "    <tr>\n",
       "      <th>21441</th>\n",
       "      <td>25.000000</td>\n",
       "      <td>19.348824</td>\n",
       "    </tr>\n",
       "    <tr>\n",
       "      <th>5719</th>\n",
       "      <td>21.111111</td>\n",
       "      <td>21.214515</td>\n",
       "    </tr>\n",
       "    <tr>\n",
       "      <th>52102</th>\n",
       "      <td>17.222222</td>\n",
       "      <td>17.949555</td>\n",
       "    </tr>\n",
       "    <tr>\n",
       "      <th>8775</th>\n",
       "      <td>22.222222</td>\n",
       "      <td>19.348824</td>\n",
       "    </tr>\n",
       "    <tr>\n",
       "      <th>88657</th>\n",
       "      <td>5.555556</td>\n",
       "      <td>14.684596</td>\n",
       "    </tr>\n",
       "    <tr>\n",
       "      <th>...</th>\n",
       "      <td>...</td>\n",
       "      <td>...</td>\n",
       "    </tr>\n",
       "    <tr>\n",
       "      <th>102987</th>\n",
       "      <td>23.333333</td>\n",
       "      <td>22.613784</td>\n",
       "    </tr>\n",
       "    <tr>\n",
       "      <th>32667</th>\n",
       "      <td>20.000000</td>\n",
       "      <td>22.147361</td>\n",
       "    </tr>\n",
       "    <tr>\n",
       "      <th>60884</th>\n",
       "      <td>23.888889</td>\n",
       "      <td>21.214515</td>\n",
       "    </tr>\n",
       "    <tr>\n",
       "      <th>2337</th>\n",
       "      <td>21.666667</td>\n",
       "      <td>21.214515</td>\n",
       "    </tr>\n",
       "    <tr>\n",
       "      <th>27141</th>\n",
       "      <td>22.777778</td>\n",
       "      <td>25.878743</td>\n",
       "    </tr>\n",
       "  </tbody>\n",
       "</table>\n",
       "<p>23808 rows × 2 columns</p>\n",
       "</div>"
      ],
      "text/plain": [
       "           Actual  Predicted\n",
       "21441   25.000000  19.348824\n",
       "5719    21.111111  21.214515\n",
       "52102   17.222222  17.949555\n",
       "8775    22.222222  19.348824\n",
       "88657    5.555556  14.684596\n",
       "...           ...        ...\n",
       "102987  23.333333  22.613784\n",
       "32667   20.000000  22.147361\n",
       "60884   23.888889  21.214515\n",
       "2337    21.666667  21.214515\n",
       "27141   22.777778  25.878743\n",
       "\n",
       "[23808 rows x 2 columns]"
      ]
     },
     "execution_count": 41,
     "metadata": {},
     "output_type": "execute_result"
    }
   ],
   "source": [
    "df=pd.DataFrame({'Actual':y_test,'Predicted':y_pred})\n",
    "df"
   ]
  },
  {
   "cell_type": "code",
   "execution_count": 42,
   "metadata": {},
   "outputs": [
    {
     "data": {
      "text/plain": [
       "16.23798924029209"
      ]
     },
     "execution_count": 42,
     "metadata": {},
     "output_type": "execute_result"
    }
   ],
   "source": [
    "acc=mean_squared_error(y_test,y_pred,)\n",
    "acc"
   ]
  },
  {
   "cell_type": "code",
   "execution_count": 43,
   "metadata": {},
   "outputs": [
    {
     "name": "stdout",
     "output_type": "stream",
     "text": [
      "[0.83956109] -4.905163251376841\n"
     ]
    }
   ],
   "source": [
    "weights=LR.coef_\n",
    "intercept=LR.intercept_\n",
    "print(weights,intercept)"
   ]
  },
  {
   "cell_type": "code",
   "execution_count": 44,
   "metadata": {},
   "outputs": [
    {
     "data": {
      "text/plain": [
       "0.7715563846659721"
      ]
     },
     "execution_count": 44,
     "metadata": {},
     "output_type": "execute_result"
    }
   ],
   "source": [
    "LR.score(X_,y)"
   ]
  },
  {
   "cell_type": "code",
   "execution_count": 45,
   "metadata": {},
   "outputs": [
    {
     "data": {
      "image/png": "[encoded data removed]",
      "text/plain": [
       "<Figure size 432x288 with 1 Axes>"
      ]
     },
     "metadata": {
      "needs_background": "light"
     },
     "output_type": "display_data"
    }
   ],
   "source": [
    "plt.scatter(X_test,y_test)\n",
    "plt.plot(X_test,y_pred,color='green')\n",
    "plt.show()"
   ]
  },
  {
   "cell_type": "code",
   "execution_count": null,
   "metadata": {},
   "outputs": [],
   "source": []
  }
 ],
 "metadata": {
  "kernelspec": {
   "display_name": "Python 3",
   "language": "python",
   "name": "python3"
  },
  "language_info": {
   "codemirror_mode": {
    "name": "ipython",
    "version": 3
   },
   "file_extension": ".py",
   "mimetype": "text/x-python",
   "name": "python",
   "nbconvert_exporter": "python",
   "pygments_lexer": "ipython3",
   "version": "3.7.4"
  }
 },
 "nbformat": 4,
 "nbformat_minor": 4
}
